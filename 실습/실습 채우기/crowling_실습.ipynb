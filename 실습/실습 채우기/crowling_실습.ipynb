{
 "cells": [
  {
   "cell_type": "code",
   "execution_count": null,
   "metadata": {},
   "outputs": [],
   "source": [
    "from bs4 import BeautifulSoup\n",
    "import requests\n",
    "URL = 'https://ko.wikipedia.org/wiki/위키백과'\n",
    "response = requests.get(URL)"
   ]
  },
  {
   "cell_type": "code",
   "execution_count": null,
   "metadata": {},
   "outputs": [],
   "source": [
    "response.status_code\n",
    "#print(response.text)"
   ]
  },
  {
   "cell_type": "code",
   "execution_count": null,
   "metadata": {},
   "outputs": [],
   "source": [
    "soup = BeautifulSoup(response.text, 'html.parser')\n",
    "\n"
   ]
  },
  {
   "cell_type": "markdown",
   "metadata": {},
   "source": [
    "<실습 1>\n",
    "- 위키트리 오른쪽 표 가져오기\n",
    "- https://ko.wikipedia.org/wiki/위키백과\n"
   ]
  },
  {
   "cell_type": "code",
   "execution_count": null,
   "metadata": {},
   "outputs": [],
   "source": [
    "from bs4 import BeautifulSoup\n",
    "import requests\n",
    "URL = 'https://ko.wikipedia.org/wiki/위키백과'\n",
    "response = requests.get(URL)\n",
    "soup = BeautifulSoup(response.text, 'html.parser')\n",
    "result = soup.find(class_='infobox')\n",
    "print(result.text)"
   ]
  },
  {
   "cell_type": "markdown",
   "metadata": {},
   "source": [
    "실습 2\n",
    "- HTML 문서 내에 class가 noti_list인 태그내의 내용을 출력해주세요\n",
    "- https://www.saramin.co.kr/zf_user/jobs/public/list\n"
   ]
  },
  {
   "cell_type": "code",
   "execution_count": null,
   "metadata": {},
   "outputs": [],
   "source": [
    "URL = 'https://www.saramin.co.kr/zf_user/jobs/public/list'\n",
    "response = requests.get(URL)\n",
    "soup = BeautifulSoup(response.text, 'html.parser')\n",
    "result = soup.find(class_='noti_list') #thumb에 해당하는 것만 전부 가져옴 , thumb7은 안가져옴\n",
    "print(result.text)"
   ]
  },
  {
   "cell_type": "markdown",
   "metadata": {},
   "source": [
    "<실습3>\n",
    "- HTML 문서 내 class가 thumb인 모든 태그에서, a 태그의 href 속성과 img태그의 alt 속성을 아래와 같은 딕셔너리 형태로 만들어주세요.\n",
    "- https://comic.naver.com/webtoon/weekday?order=User\n",
    "- 결과 : [{'제목': '참교육', '링크': '/webtoon/list?titleId=758037&weekday=mon’},\n",
    "{'제목': '신의 탑', '링크': '/webtoon/list?titleId=183559&weekday=mon’}, ... ]"
   ]
  },
  {
   "cell_type": "code",
   "execution_count": null,
   "metadata": {},
   "outputs": [],
   "source": [
    "import requests\n",
    "from bs4 import BeautifulSoup"
   ]
  },
  {
   "cell_type": "code",
   "execution_count": null,
   "metadata": {},
   "outputs": [],
   "source": [
    "URL = 'https://comic.naver.com/webtoon/weekday?order=User'\n",
    "response = requests.get(URL)\n",
    "soup = BeautifulSoup(response.text, 'html.parser')\n",
    "\n",
    "dict_a =[]\n",
    "result = soup.find_all('div',class_='thumb')\n",
    "\n",
    "for results in result:\n",
    "    dict_a.append({\n",
    "        '제목': results.find('a')['href'],\n",
    "        '링크': results.find('img')['alt']\n",
    "    })\n",
    "#print(dict_a)\n",
    "\n",
    "#강사님 코드 (컴프리헨션)\n",
    "webtoon_list =[{'제목':results.find('a')['href'],'링크': results.find('img')['alt']} for results in result]\n",
    "#print(webtoon_list)"
   ]
  },
  {
   "cell_type": "markdown",
   "metadata": {},
   "source": []
  },
  {
   "cell_type": "markdown",
   "metadata": {},
   "source": [
    "soup.select()"
   ]
  },
  {
   "cell_type": "code",
   "execution_count": null,
   "metadata": {},
   "outputs": [],
   "source": [
    "URL = 'https://www.saramin.co.kr/zf_user/jobs/public/list'\n",
    "res = requests.get(URL)\n",
    "soup = BeautifulSoup(res.text, 'html.parser')\n",
    "\n",
    "result = soup.select('.noti_list')\n",
    "print(result)"
   ]
  },
  {
   "cell_type": "code",
   "execution_count": null,
   "metadata": {},
   "outputs": [],
   "source": [
    "result = soup.select_one('#sri_header')"
   ]
  },
  {
   "cell_type": "code",
   "execution_count": null,
   "metadata": {},
   "outputs": [],
   "source": [
    "soup.select('a[href$=\"ref=public-recruit\"]') #$해당 값으로 끝남\n",
    "soup.select('.job_tit span') #후손 태그 job_tit 안 span 태그 다 찾아줌\n",
    "soup.select('job_tit > span') #자식 셀렉터\n",
    "soup.select('.job_tit > span') \n"
   ]
  },
  {
   "cell_type": "markdown",
   "metadata": {},
   "source": [
    "<실습1,2>\n",
    "- 사이트 내 공지사항을 하나씩 출력해주세요.\n",
    "- http://didimteo.or.kr/\n",
    "\n",
    "- 실습 1의 결과에서 제목과 날짜를 분리해 딕셔너리 형태로 저장해주세요\n",
    "- 결과 : [{'제목': '[채용] 광운대학교 산학협력단(서울창업디딤터) 직원 채용 공고(~6/17)', '날짜': '2022.06.10'},\n",
    "{'제목': '[서울창업디딤터] 대강의실 및 공동작업실 이용 신청 방식 변경', '날짜': '2022.06.04’}, ... ]"
   ]
  },
  {
   "cell_type": "code",
   "execution_count": null,
   "metadata": {},
   "outputs": [],
   "source": [
    "#3줄 고정 템플릿처럼 사용\n",
    "URL = 'http://didimteo.or.kr/'\n",
    "res = requests.get(URL)\n",
    "soup = BeautifulSoup(res.text, 'html.parser')\n",
    "\n",
    "#내코드\n",
    "results = soup.select('.kboard-default-cut-strings')\n",
    "for i in results:\n",
    "    print(i.text.replace('\\n',''))\n"
   ]
  },
  {
   "cell_type": "code",
   "execution_count": null,
   "metadata": {},
   "outputs": [],
   "source": [
    "#강사님 코드\n",
    "\n",
    "#구조 분석 후 큰 틀에서 작은 곳으로 순차적 접근\n",
    "board_result = soup.select('#kboard-default-latest')[0] #같은 아이디가 4개있어서 0번째가 공지사항임\n",
    "results = board_result.select('tbody > tr') #tr태그 5개\n",
    "\n",
    "#우리가 필요한 데이터 담아줄 곳\n",
    "final_result =[]\n",
    "for result in results:\n",
    "    title = result.select_one('.kboard-latest-title').text\n",
    "    date = result.select_one('.kboard-latest-date').text\n",
    "    temp = {\n",
    "        '제목': title,\n",
    "        '날짜': date\n",
    "    }\n",
    "    final_result.append(temp)\n",
    "\n",
    "#final_result[0]['제목'].replace('N','').strip() #strip=공백없애기, 하나씩 하는 방법\n",
    "\n",
    "#공백 제거하기, 전처리\n",
    "for final_r in final_result:\n",
    "    final_r['제목'] = final_r['제목'].replace('N','').strip()\n",
    "    final_r['날짜'] = final_r['날짜'].replace('N','').strip()\n",
    "    print(final_r)\n"
   ]
  },
  {
   "cell_type": "code",
   "execution_count": null,
   "metadata": {},
   "outputs": [],
   "source": [
    "#공지사항 페이지 들어가서 하는 방법\n",
    "URL = 'http://didimteo.or.kr/news/notice/'\n",
    "res = requests.get(URL)\n",
    "soup = BeautifulSoup(res.text, 'html.parser')\n",
    "\n",
    "board_results = soup.select('.kboard-list > table > tbody > tr')\n",
    "final_result = []\n",
    "for board_result in board_results:\n",
    "    title = board_result.select_one('.kboard-list-title').text #제목\n",
    "    date = board_result.select_one('.kboard-list-date').text #날짜\n",
    "    temp ={\n",
    "        '제목': title,\n",
    "        '날짜': date\n",
    "    }\n",
    "\n",
    "    final_result.append(temp)\n",
    "print(final_result)"
   ]
  },
  {
   "cell_type": "markdown",
   "metadata": {},
   "source": [
    "실습 3\n",
    "- 사이트에서 하이퍼링크에 baCategory1=basic가 포함된 태그를 하나만 선택해 출력해주세요.\n",
    "- https://youth.seoul.go.kr/site/main/home"
   ]
  },
  {
   "cell_type": "code",
   "execution_count": null,
   "metadata": {},
   "outputs": [],
   "source": [
    "URL = 'https://youth.seoul.go.kr/site/main/home'\n",
    "res = requests.get(URL)\n",
    "soup = BeautifulSoup(res.text, 'html.parser')\n",
    "\n",
    "a = soup.select_one('a[href*=\"baCategory1=basic\"]')\n",
    "print(a)"
   ]
  },
  {
   "cell_type": "markdown",
   "metadata": {},
   "source": [
    "실습 4\n",
    "- 사이트에서 주요뉴스 내용과 일자별 뉴스들을 리스트로 정리해주세요\n",
    "- https://ko.wikipedia.org/wiki/포털:요즘_화제\n",
    "- 결과 : ['주요 뉴스’, '6월 10일, 볼리비아의 전직 대통령 자니네 아 ...’, 'Current events of 2022년 6월 17일\\xa0(2022-06-17) (금요일)’,\n",
    "'대한민국이 누리호 로켓 2차 ..., ]"
   ]
  },
  {
   "cell_type": "code",
   "execution_count": null,
   "metadata": {},
   "outputs": [],
   "source": [
    "URL = 'https://ko.wikipedia.org/wiki/포털:요즘_화제'\n",
    "res = requests.get(URL)\n",
    "soup = BeautifulSoup(res.text, 'html.parser')\n",
    "\n",
    "print(soup.select_one('.summary'))\n",
    "#span class=\"bday dtstart published updated\">2022-08-28</span>"
   ]
  },
  {
   "cell_type": "markdown",
   "metadata": {},
   "source": [
    "<실전 크롤링 실습1>\n",
    "실전 1 - 네이버 영화랭킹\n",
    "- 영화 랭킹을 ‘순위: 영화제목’ 양식으로 출력해주세요.\n",
    "- https://movie.naver.com/movie/sdb/rank/rmovie.naver"
   ]
  },
  {
   "cell_type": "code",
   "execution_count": null,
   "metadata": {},
   "outputs": [],
   "source": [
    "URL = 'https://movie.naver.com/movie/sdb/rank/rmovie.naver'\n",
    "res = requests.get(URL)\n",
    "soup= BeautifulSoup(res.text, 'html.parser')\n",
    "results = soup.select('.list_ranking tbody tr')\n",
    "rank_list=[]\n",
    "for result in results:\n",
    "    rank_dict ={}\n",
    "    try:\n",
    "        rank_dict['순위'] = result.select_one('img')['alt']\n",
    "        rank_dict['영화제목'] = result.select_one('tr > .title').text.strip()\n",
    "        rank_list.append(rank_dict)\n",
    "    except:\n",
    "        continue #pass\n",
    "\n",
    "print(rank_list)\n",
    "\n",
    "\n",
    "# try:\n",
    "#     실행할 코드\n",
    "# except:\n",
    "#     에러발생시\n",
    "\n"
   ]
  },
  {
   "cell_type": "markdown",
   "metadata": {},
   "source": [
    "실전 2 - 네이버 주가 크롤링\n",
    "- https://finance.naver.com/sise/sise_quant.nhn\n",
    "1. 종목명과 현재가를 크롤링해주세요.\n",
    "2. 전일대비 상승한 종목만 종목명, 현재가, 전일비를 크롤링해주세요."
   ]
  },
  {
   "cell_type": "code",
   "execution_count": null,
   "metadata": {},
   "outputs": [],
   "source": [
    "URL = 'https://finance.naver.com/sise/sise_quant.nhn'\n",
    "res = requests.get(URL)\n",
    "soup= BeautifulSoup(res.text, 'html.parser')"
   ]
  },
  {
   "cell_type": "code",
   "execution_count": null,
   "metadata": {},
   "outputs": [],
   "source": [
    "results = soup.select('.box_type_l tr')\n",
    "list = []\n",
    "for result in results:\n",
    "    dict = {}\n",
    "    try:\n",
    "        dict['종목명'] = result.select_one('a').text\n",
    "        dict['현재가'] = result.select_one('.number').text\n",
    "\n",
    "        list.append(dict)\n",
    "    except:\n",
    "        continue\n",
    "\n",
    "print(list)"
   ]
  },
  {
   "cell_type": "markdown",
   "metadata": {},
   "source": [
    "실습 2-1"
   ]
  },
  {
   "cell_type": "code",
   "execution_count": null,
   "metadata": {},
   "outputs": [],
   "source": [
    "stock_up_list =[]\n",
    "for stock_result in results:\n",
    "    try:\n",
    "        stock_name =  stock_result.select_one('.tltle').text\n",
    "        stock_price = stock_result.select_one('.number').text\n",
    "        td_tag_1 = stock_result.select(.number)[1] #전일비 태그\n",
    "\n",
    "        img_tag = td_tag_1.select_one('img')\n",
    "        if img_tag != None:\n",
    "            if img_tag"
   ]
  },
  {
   "cell_type": "code",
   "execution_count": null,
   "metadata": {},
   "outputs": [],
   "source": []
  }
 ],
 "metadata": {
  "kernelspec": {
   "display_name": "Python 3.10.4 ('study')",
   "language": "python",
   "name": "python3"
  },
  "language_info": {
   "codemirror_mode": {
    "name": "ipython",
    "version": 3
   },
   "file_extension": ".py",
   "mimetype": "text/x-python",
   "name": "python",
   "nbconvert_exporter": "python",
   "pygments_lexer": "ipython3",
   "version": "3.10.4"
  },
  "orig_nbformat": 4,
  "vscode": {
   "interpreter": {
    "hash": "6db2f3abba949d3272d30621feaf45d6fc6a29eb863b33b0d60c0925d8592697"
   }
  }
 },
 "nbformat": 4,
 "nbformat_minor": 2
}

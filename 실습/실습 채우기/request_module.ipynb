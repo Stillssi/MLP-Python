{
 "cells": [
  {
   "cell_type": "code",
   "execution_count": 2,
   "metadata": {},
   "outputs": [],
   "source": [
    "import requests\n",
    "URL = 'https://comic.naver.com/webtoon/weekday?order=User'\n",
    "response = requests.get(URL)\n"
   ]
  },
  {
   "cell_type": "code",
   "execution_count": null,
   "metadata": {},
   "outputs": [],
   "source": []
  },
  {
   "cell_type": "code",
   "execution_count": 3,
   "metadata": {},
   "outputs": [
    {
     "data": {
      "text/plain": [
       "200"
      ]
     },
     "execution_count": 3,
     "metadata": {},
     "output_type": "execute_result"
    }
   ],
   "source": [
    "response.status_code"
   ]
  },
  {
   "cell_type": "code",
   "execution_count": 4,
   "metadata": {},
   "outputs": [],
   "source": [
    "#response.text"
   ]
  },
  {
   "cell_type": "code",
   "execution_count": 5,
   "metadata": {},
   "outputs": [],
   "source": [
    "from bs4 import BeautifulSoup\n",
    "soup = BeautifulSoup(response.text, 'html.parser')"
   ]
  },
  {
   "cell_type": "code",
   "execution_count": 8,
   "metadata": {},
   "outputs": [
    {
     "name": "stdout",
     "output_type": "stream",
     "text": [
      "<title>네이버 웹툰 &gt; 요일별  웹툰 &gt; 전체웹툰</title>\n",
      "네이버 웹툰 > 요일별  웹툰 > 전체웹툰\n"
     ]
    }
   ],
   "source": [
    "result = soup.find('title')\n",
    "print(result)\n",
    "print(result.text) #태그 제외하고 텍스트만"
   ]
  },
  {
   "cell_type": "code",
   "execution_count": 28,
   "metadata": {},
   "outputs": [],
   "source": [
    "result = soup.find_all('div',class_='thumb') #thumb에 해당하는 것만 전부 가져옴 , thumb7은 안가져옴\n",
    "#print(result) "
   ]
  },
  {
   "cell_type": "code",
   "execution_count": 14,
   "metadata": {},
   "outputs": [
    {
     "name": "stdout",
     "output_type": "stream",
     "text": [
      "<a class=\"title\" href=\"/webtoon/list?titleId=758037&amp;weekday=mon\" onclick=\"nclk_v2(event,'thm*m.tit','','1')\" title=\"참교육\">참교육</a>\n",
      "참교육\n"
     ]
    }
   ],
   "source": [
    "result = soup.find(id='content')\n",
    "result2 = result.find('a',class_='title') #a태그를 가지고 있고 class가 title인 거 찾기\n",
    "print(result2) #href\n",
    "print(result2.attrs['title']) #title만"
   ]
  }
 ],
 "metadata": {
  "kernelspec": {
   "display_name": "Python 3.10.4 ('study')",
   "language": "python",
   "name": "python3"
  },
  "language_info": {
   "codemirror_mode": {
    "name": "ipython",
    "version": 3
   },
   "file_extension": ".py",
   "mimetype": "text/x-python",
   "name": "python",
   "nbconvert_exporter": "python",
   "pygments_lexer": "ipython3",
   "version": "3.10.4"
  },
  "orig_nbformat": 4,
  "vscode": {
   "interpreter": {
    "hash": "6db2f3abba949d3272d30621feaf45d6fc6a29eb863b33b0d60c0925d8592697"
   }
  }
 },
 "nbformat": 4,
 "nbformat_minor": 2
}

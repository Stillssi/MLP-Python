{
 "cells": [
  {
   "cell_type": "code",
   "execution_count": 5,
   "metadata": {},
   "outputs": [
    {
     "ename": "KeyboardInterrupt",
     "evalue": "",
     "output_type": "error",
     "traceback": [
      "\u001b[1;31m---------------------------------------------------------------------------\u001b[0m",
      "\u001b[1;31mKeyboardInterrupt\u001b[0m                         Traceback (most recent call last)",
      "\u001b[1;32mc:\\Users\\gdevw\\바탕 화면\\MLP-Python\\실습\\실습 채우기\\RPA\\텔레그램실습\\telegram_method.ipynb 셀 1\u001b[0m in \u001b[0;36m<cell line: 17>\u001b[1;34m()\u001b[0m\n\u001b[0;32m     <a href='vscode-notebook-cell:/c%3A/Users/gdevw/%EB%B0%94%ED%83%95%20%ED%99%94%EB%A9%B4/MLP-Python/%EC%8B%A4%EC%8A%B5/%EC%8B%A4%EC%8A%B5%20%EC%B1%84%EC%9A%B0%EA%B8%B0/RPA/%ED%85%94%EB%A0%88%EA%B7%B8%EB%9E%A8%EC%8B%A4%EC%8A%B5/telegram_method.ipynb#W0sZmlsZQ%3D%3D?line=36'>37</a>\u001b[0m     \u001b[39mpass\u001b[39;00m\n\u001b[0;32m     <a href='vscode-notebook-cell:/c%3A/Users/gdevw/%EB%B0%94%ED%83%95%20%ED%99%94%EB%A9%B4/MLP-Python/%EC%8B%A4%EC%8A%B5/%EC%8B%A4%EC%8A%B5%20%EC%B1%84%EC%9A%B0%EA%B8%B0/RPA/%ED%85%94%EB%A0%88%EA%B7%B8%EB%9E%A8%EC%8B%A4%EC%8A%B5/telegram_method.ipynb#W0sZmlsZQ%3D%3D?line=38'>39</a>\u001b[0m \u001b[39m# 텔레그램 서버 부하 줄이기 위해 3초마다 확인\u001b[39;00m\n\u001b[1;32m---> <a href='vscode-notebook-cell:/c%3A/Users/gdevw/%EB%B0%94%ED%83%95%20%ED%99%94%EB%A9%B4/MLP-Python/%EC%8B%A4%EC%8A%B5/%EC%8B%A4%EC%8A%B5%20%EC%B1%84%EC%9A%B0%EA%B8%B0/RPA/%ED%85%94%EB%A0%88%EA%B7%B8%EB%9E%A8%EC%8B%A4%EC%8A%B5/telegram_method.ipynb#W0sZmlsZQ%3D%3D?line=39'>40</a>\u001b[0m time\u001b[39m.\u001b[39;49msleep(\u001b[39m3\u001b[39;49m)\n",
      "\u001b[1;31mKeyboardInterrupt\u001b[0m: "
     ]
    }
   ],
   "source": [
    "import telegram\n",
    "import time\n",
    "\n",
    "def load_telegram():\n",
    "    telegram_config = {}\n",
    "    with open('./telegram_config','r') as f:\n",
    "        configs=f.readlines()\n",
    "        for config in configs:\n",
    "            key,value = config.rstrip().split('=')\n",
    "            telegram_config[key]=value\n",
    "    token=telegram_config[\"token\"]\n",
    "    chat_id = telegram_config[\"chatid\"]\n",
    "    bot = telegram.Bot(token)\n",
    "\n",
    "    return bot, chat_id\n",
    "\n",
    "\n",
    "def alarm_weather(bot, chat_id):\n",
    "    updates = bot.get_updates()\n",
    "    last_id = updates[-1].update_id\n",
    "\n",
    "    while True:\n",
    "        \n",
    "        try:\n",
    "            # 신규 메시지가 없을 경우 에러가 발생 \n",
    "            # list index out of range\n",
    "            # 따라서, try - except 문으로 묶어줌\n",
    "            new_message = bot.get_updates(offset=last_id)[-1]\n",
    "\n",
    "            # 만약 신규 메시지가 오늘날씨면,\n",
    "            if new_message.message.text == '오늘날씨':\n",
    "                # 관련 메시지 발송\n",
    "                bot.send_message(chat_id, '오늘날씨는 화창합니다.')\n",
    "            # 만약 신규 메시지가 내일날씨면,\n",
    "            elif new_message.message.text == '내일날씨':\n",
    "                # 관련 메시지 발송\n",
    "                bot.send_message(chat_id, '내일날씨도 화창합니다.')\n",
    "\n",
    "            # offset 값 최신화 (update_id) + 1 해줘서 그 다음부터 메시지부터 확인하도록\n",
    "            last_id = new_message.update_id + 1\n",
    "        except:\n",
    "            pass\n",
    "\n",
    "        # 텔레그램 서버 부하 줄이기 위해 3초마다 확인\n",
    "        time.sleep(3)"
   ]
  },
  {
   "cell_type": "code",
   "execution_count": null,
   "metadata": {},
   "outputs": [],
   "source": []
  }
 ],
 "metadata": {
  "kernelspec": {
   "display_name": "Python 3.10.4 ('study')",
   "language": "python",
   "name": "python3"
  },
  "language_info": {
   "codemirror_mode": {
    "name": "ipython",
    "version": 3
   },
   "file_extension": ".py",
   "mimetype": "text/x-python",
   "name": "python",
   "nbconvert_exporter": "python",
   "pygments_lexer": "ipython3",
   "version": "3.10.4"
  },
  "orig_nbformat": 4,
  "vscode": {
   "interpreter": {
    "hash": "6db2f3abba949d3272d30621feaf45d6fc6a29eb863b33b0d60c0925d8592697"
   }
  }
 },
 "nbformat": 4,
 "nbformat_minor": 2
}

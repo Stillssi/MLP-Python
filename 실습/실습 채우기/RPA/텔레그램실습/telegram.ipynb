{
 "cells": [
  {
   "cell_type": "code",
   "execution_count": 7,
   "metadata": {},
   "outputs": [],
   "source": [
    "import telegram\n"
   ]
  },
  {
   "cell_type": "code",
   "execution_count": 8,
   "metadata": {},
   "outputs": [],
   "source": [
    "telegram_config = {}\n",
    "with open('./telegram_config','r') as f:\n",
    "    configs=f.readlines()\n",
    "    for config in configs:\n",
    "        key,value = config.rstrip().split('=')\n",
    "        telegram_config[key]=value\n",
    "token=telegram_config[\"token\"]"
   ]
  },
  {
   "cell_type": "code",
   "execution_count": 9,
   "metadata": {},
   "outputs": [
    {
     "data": {
      "text/plain": [
       "'5778872985:AAEz1aeg880eIPC9NDYz3udLIjz13zzpxYQ'"
      ]
     },
     "execution_count": 9,
     "metadata": {},
     "output_type": "execute_result"
    }
   ],
   "source": [
    "token"
   ]
  },
  {
   "cell_type": "code",
   "execution_count": null,
   "metadata": {},
   "outputs": [],
   "source": [
    "bot = telegram.Bot(token)"
   ]
  },
  {
   "cell_type": "code",
   "execution_count": 6,
   "metadata": {},
   "outputs": [],
   "source": [
    "updates = bot.get_updates()"
   ]
  },
  {
   "cell_type": "code",
   "execution_count": 12,
   "metadata": {},
   "outputs": [
    {
     "data": {
      "text/plain": [
       "[<telegram.update.Update at 0x13addd4c880>]"
      ]
     },
     "execution_count": 12,
     "metadata": {},
     "output_type": "execute_result"
    }
   ],
   "source": [
    "updates"
   ]
  },
  {
   "cell_type": "code",
   "execution_count": 41,
   "metadata": {},
   "outputs": [],
   "source": [
    "chat_id = updates[-1].message.chat.id"
   ]
  },
  {
   "cell_type": "code",
   "execution_count": 20,
   "metadata": {},
   "outputs": [
    {
     "data": {
      "text/plain": [
       "5566000646"
      ]
     },
     "execution_count": 20,
     "metadata": {},
     "output_type": "execute_result"
    }
   ],
   "source": [
    "chat_id"
   ]
  },
  {
   "cell_type": "code",
   "execution_count": 50,
   "metadata": {},
   "outputs": [
    {
     "data": {
      "text/plain": [
       "<telegram.message.Message at 0x222f94c7bd0>"
      ]
     },
     "execution_count": 50,
     "metadata": {},
     "output_type": "execute_result"
    }
   ],
   "source": [
    "bot.send_message(chat_id, '안녕하세요')"
   ]
  },
  {
   "cell_type": "code",
   "execution_count": 42,
   "metadata": {},
   "outputs": [],
   "source": [
    "update_id = bot.get_updates()[-1].update_id"
   ]
  },
  {
   "cell_type": "code",
   "execution_count": 59,
   "metadata": {},
   "outputs": [
    {
     "data": {
      "text/plain": [
       "'오늘날씨'"
      ]
     },
     "execution_count": 59,
     "metadata": {},
     "output_type": "execute_result"
    }
   ],
   "source": [
    "updates[-1].message.text"
   ]
  },
  {
   "cell_type": "code",
   "execution_count": 58,
   "metadata": {},
   "outputs": [
    {
     "data": {
      "text/plain": [
       "[<telegram.update.Update at 0x222fc6f0f40>,\n",
       " <telegram.update.Update at 0x222fc6f0ac0>,\n",
       " <telegram.update.Update at 0x222fc6f0dc0>]"
      ]
     },
     "execution_count": 58,
     "metadata": {},
     "output_type": "execute_result"
    }
   ],
   "source": [
    "bot.get_updates()"
   ]
  },
  {
   "cell_type": "code",
   "execution_count": 54,
   "metadata": {},
   "outputs": [
    {
     "ename": "KeyboardInterrupt",
     "evalue": "",
     "output_type": "error",
     "traceback": [
      "\u001b[1;31m---------------------------------------------------------------------------\u001b[0m",
      "\u001b[1;31mAttributeError\u001b[0m                            Traceback (most recent call last)",
      "\u001b[1;32mc:\\Users\\gdevw\\바탕 화면\\MLP-Python\\실습\\실습 채우기\\RPA\\텔레그램실습\\telegram.ipynb 셀 13\u001b[0m in \u001b[0;36m<cell line: 3>\u001b[1;34m()\u001b[0m\n\u001b[0;32m      <a href='vscode-notebook-cell:/c%3A/Users/gdevw/%EB%B0%94%ED%83%95%20%ED%99%94%EB%A9%B4/MLP-Python/%EC%8B%A4%EC%8A%B5/%EC%8B%A4%EC%8A%B5%20%EC%B1%84%EC%9A%B0%EA%B8%B0/RPA/%ED%85%94%EB%A0%88%EA%B7%B8%EB%9E%A8%EC%8B%A4%EC%8A%B5/telegram.ipynb#X13sZmlsZQ%3D%3D?line=4'>5</a>\u001b[0m new_message \u001b[39m=\u001b[39m bot\u001b[39m.\u001b[39mget_updates(offset\u001b[39m=\u001b[39mlast_id)[\u001b[39m-\u001b[39m\u001b[39m1\u001b[39m]\n\u001b[1;32m----> <a href='vscode-notebook-cell:/c%3A/Users/gdevw/%EB%B0%94%ED%83%95%20%ED%99%94%EB%A9%B4/MLP-Python/%EC%8B%A4%EC%8A%B5/%EC%8B%A4%EC%8A%B5%20%EC%B1%84%EC%9A%B0%EA%B8%B0/RPA/%ED%85%94%EB%A0%88%EA%B7%B8%EB%9E%A8%EC%8B%A4%EC%8A%B5/telegram.ipynb#X13sZmlsZQ%3D%3D?line=5'>6</a>\u001b[0m \u001b[39mif\u001b[39;00m new_message\u001b[39m.\u001b[39;49mmessage\u001b[39m.\u001b[39;49mtest:\n\u001b[0;32m      <a href='vscode-notebook-cell:/c%3A/Users/gdevw/%EB%B0%94%ED%83%95%20%ED%99%94%EB%A9%B4/MLP-Python/%EC%8B%A4%EC%8A%B5/%EC%8B%A4%EC%8A%B5%20%EC%B1%84%EC%9A%B0%EA%B8%B0/RPA/%ED%85%94%EB%A0%88%EA%B7%B8%EB%9E%A8%EC%8B%A4%EC%8A%B5/telegram.ipynb#X13sZmlsZQ%3D%3D?line=6'>7</a>\u001b[0m     \u001b[39mif\u001b[39;00m updates[\u001b[39m-\u001b[39m\u001b[39m1\u001b[39m]\u001b[39m.\u001b[39mmessage\u001b[39m.\u001b[39mtext\u001b[39m==\u001b[39m\u001b[39m'\u001b[39m\u001b[39m오늘날씨\u001b[39m\u001b[39m'\u001b[39m:\n",
      "\u001b[1;31mAttributeError\u001b[0m: 'Message' object has no attribute 'test'",
      "\nDuring handling of the above exception, another exception occurred:\n",
      "\u001b[1;31mKeyboardInterrupt\u001b[0m                         Traceback (most recent call last)",
      "\u001b[1;32mc:\\Users\\gdevw\\바탕 화면\\MLP-Python\\실습\\실습 채우기\\RPA\\텔레그램실습\\telegram.ipynb 셀 13\u001b[0m in \u001b[0;36m<cell line: 3>\u001b[1;34m()\u001b[0m\n\u001b[0;32m     <a href='vscode-notebook-cell:/c%3A/Users/gdevw/%EB%B0%94%ED%83%95%20%ED%99%94%EB%A9%B4/MLP-Python/%EC%8B%A4%EC%8A%B5/%EC%8B%A4%EC%8A%B5%20%EC%B1%84%EC%9A%B0%EA%B8%B0/RPA/%ED%85%94%EB%A0%88%EA%B7%B8%EB%9E%A8%EC%8B%A4%EC%8A%B5/telegram.ipynb#X13sZmlsZQ%3D%3D?line=12'>13</a>\u001b[0m \u001b[39mexcept\u001b[39;00m:\n\u001b[0;32m     <a href='vscode-notebook-cell:/c%3A/Users/gdevw/%EB%B0%94%ED%83%95%20%ED%99%94%EB%A9%B4/MLP-Python/%EC%8B%A4%EC%8A%B5/%EC%8B%A4%EC%8A%B5%20%EC%B1%84%EC%9A%B0%EA%B8%B0/RPA/%ED%85%94%EB%A0%88%EA%B7%B8%EB%9E%A8%EC%8B%A4%EC%8A%B5/telegram.ipynb#X13sZmlsZQ%3D%3D?line=13'>14</a>\u001b[0m     \u001b[39mpass\u001b[39;00m\n\u001b[1;32m---> <a href='vscode-notebook-cell:/c%3A/Users/gdevw/%EB%B0%94%ED%83%95%20%ED%99%94%EB%A9%B4/MLP-Python/%EC%8B%A4%EC%8A%B5/%EC%8B%A4%EC%8A%B5%20%EC%B1%84%EC%9A%B0%EA%B8%B0/RPA/%ED%85%94%EB%A0%88%EA%B7%B8%EB%9E%A8%EC%8B%A4%EC%8A%B5/telegram.ipynb#X13sZmlsZQ%3D%3D?line=15'>16</a>\u001b[0m     time\u001b[39m.\u001b[39;49msleep(\u001b[39m3\u001b[39;49m)\n",
      "\u001b[1;31mKeyboardInterrupt\u001b[0m: "
     ]
    }
   ],
   "source": [
    "import time\n",
    "last_id = updates[-1].update_id\n",
    "while True:\n",
    "    try:\n",
    "        new_message = bot.get_updates(offset=last_id)[-1]\n",
    "        if new_message.message.test:\n",
    "            if updates[-1].message.text=='오늘날씨':\n",
    "                bot.send_message(chat_id,'오늘 날씨는 화창합니다.')\n",
    "                \n",
    "            elif new_message.message.text == '내일날씨':\n",
    "                bot.send_message(chat_id, \"내일 날씨도 화창합니다.\")\n",
    "            last_id = new_message.update_id +1\n",
    "    except:\n",
    "        pass\n",
    "\n",
    "        time.sleep(3)"
   ]
  },
  {
   "cell_type": "code",
   "execution_count": null,
   "metadata": {},
   "outputs": [],
   "source": [
    "try:"
   ]
  },
  {
   "cell_type": "markdown",
   "metadata": {},
   "source": []
  }
 ],
 "metadata": {
  "kernelspec": {
   "display_name": "Python 3.10.4 ('study')",
   "language": "python",
   "name": "python3"
  },
  "language_info": {
   "codemirror_mode": {
    "name": "ipython",
    "version": 3
   },
   "file_extension": ".py",
   "mimetype": "text/x-python",
   "name": "python",
   "nbconvert_exporter": "python",
   "pygments_lexer": "ipython3",
   "version": "3.10.4"
  },
  "orig_nbformat": 4,
  "vscode": {
   "interpreter": {
    "hash": "6db2f3abba949d3272d30621feaf45d6fc6a29eb863b33b0d60c0925d8592697"
   }
  }
 },
 "nbformat": 4,
 "nbformat_minor": 2
}

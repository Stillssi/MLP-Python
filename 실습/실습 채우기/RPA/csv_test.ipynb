{
 "cells": [
  {
   "cell_type": "code",
   "execution_count": 1,
   "metadata": {},
   "outputs": [],
   "source": [
    "with open('orders.csv','w') as f:\n",
    "    f.write('고객명,상품명,수량,금액\\n')\n",
    "    f.write('최재진,폴드4,1,800000\\n')"
   ]
  },
  {
   "cell_type": "code",
   "execution_count": 8,
   "metadata": {},
   "outputs": [
    {
     "name": "stdout",
     "output_type": "stream",
     "text": [
      "['고객명', '상품명', '수량', '금액']\n",
      "['최재진', '폴드4', '1', '800000']\n",
      "[['고객명', '상품명', '수량', '금액'], ['최재진', '폴드4', '1', '800000']]\n"
     ]
    }
   ],
   "source": [
    "with open('orders.csv','r', encoding='euc-kr') as f:\n",
    "    datas = f.readlines()\n",
    "    orders = []\n",
    "    for data in datas:\n",
    "        temp = data.rstrip().split(',')\n",
    "        print(temp)\n",
    "        orders.append(temp)\n",
    "print(orders)"
   ]
  },
  {
   "cell_type": "code",
   "execution_count": 10,
   "metadata": {},
   "outputs": [
    {
     "name": "stdout",
     "output_type": "stream",
     "text": [
      "[['고객명', '상품명', '수량', '금액'], ['최재진', '폴드4', '1', '800000']]\n"
     ]
    }
   ],
   "source": [
    "with open('orders.csv','r', encoding='euc-kr') as f:\n",
    "    datas = f.readlines()\n",
    "    temp =  [i.rstrip().split(',') for i in datas]\n",
    "    print(temp)\n"
   ]
  },
  {
   "cell_type": "code",
   "execution_count": 21,
   "metadata": {},
   "outputs": [],
   "source": [
    "cost_list = []\n",
    "with open('cost.csv','w') as s:\n",
    "    for i in range(1,13,1):\n",
    "        if i < 10:\n",
    "            with open(f'./csv_files/2017.0{i}.csv', 'r', encoding='euc-kr') as f:\n",
    "                cost = 0\n",
    "                data = f.readlines()\n",
    "                temp = [j.rstrip().split(',') for j in data]\n",
    "                for k in range(1,len(temp)):\n",
    "                    cost += int(temp[k][1])\n",
    "                s.write(f\"'2017.0{i}',{cost}\\n\")\n",
    "        else:\n",
    "            with open(f'./csv_files/2017.{i}.csv', 'r', encoding='euc-kr') as f:\n",
    "                cost = 0\n",
    "                data = f.readlines()\n",
    "                temp = [j.rstrip().split(',') for j in data]\n",
    "                for k in range(1,len(temp)):\n",
    "                    cost += int(temp[k][1])\n",
    "                s.write(f\"'2017.{i}',{cost}\\n\") \n",
    "\n"
   ]
  },
  {
   "cell_type": "markdown",
   "metadata": {},
   "source": []
  },
  {
   "cell_type": "markdown",
   "metadata": {},
   "source": [
    "- csv_list = os.listdir(CSV_DIR)"
   ]
  },
  {
   "cell_type": "code",
   "execution_count": 24,
   "metadata": {},
   "outputs": [],
   "source": [
    "import os\n",
    "CSV_DIR = './csv_files/'\n",
    "csv_list = os.listdir(CSV_DIR)\n",
    "with open('cost2.csv','w') as s:\n",
    "    for csv in csv_list:\n",
    "        with open(CSV_DIR+csv, 'r', encoding='euc-kr') as f:\n",
    "            cost = 0\n",
    "            data = f.readlines()\n",
    "            temp = [j.rstrip().split(',') for j in data]\n",
    "            for k in range(1,len(temp)):\n",
    "                cost += int(temp[k][1])\n",
    "            s.write(f\"{csv},{cost}\\n\")"
   ]
  },
  {
   "cell_type": "code",
   "execution_count": null,
   "metadata": {},
   "outputs": [],
   "source": []
  }
 ],
 "metadata": {
  "kernelspec": {
   "display_name": "Python 3.10.4 ('study')",
   "language": "python",
   "name": "python3"
  },
  "language_info": {
   "codemirror_mode": {
    "name": "ipython",
    "version": 3
   },
   "file_extension": ".py",
   "mimetype": "text/x-python",
   "name": "python",
   "nbconvert_exporter": "python",
   "pygments_lexer": "ipython3",
   "version": "3.10.4"
  },
  "orig_nbformat": 4,
  "vscode": {
   "interpreter": {
    "hash": "6db2f3abba949d3272d30621feaf45d6fc6a29eb863b33b0d60c0925d8592697"
   }
  }
 },
 "nbformat": 4,
 "nbformat_minor": 2
}

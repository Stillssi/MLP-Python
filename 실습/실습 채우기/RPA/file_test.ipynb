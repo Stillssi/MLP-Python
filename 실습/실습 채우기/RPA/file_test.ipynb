{
 "cells": [
  {
   "cell_type": "code",
   "execution_count": null,
   "metadata": {},
   "outputs": [],
   "source": [
    "import os\n",
    "import shutil"
   ]
  },
  {
   "cell_type": "code",
   "execution_count": null,
   "metadata": {},
   "outputs": [],
   "source": [
    "PDF_DIR = './pdf_files/'"
   ]
  },
  {
   "cell_type": "code",
   "execution_count": null,
   "metadata": {},
   "outputs": [],
   "source": [
    "#절대 경로, 상대경로 구분할 것\n",
    "file_list = os.listdir(PDF_DIR)\n",
    "file_list"
   ]
  },
  {
   "cell_type": "code",
   "execution_count": null,
   "metadata": {},
   "outputs": [],
   "source": [
    "os.path.isdir(PDF_DIR + '')"
   ]
  },
  {
   "cell_type": "code",
   "execution_count": null,
   "metadata": {},
   "outputs": [],
   "source": [
    "#디렉토리 존재여부 확인하는 함수\n",
    "#isdir은 폴더만 확인\n",
    "os.path.isdir(PDF_DIR + '2019-1-11')\n",
    "\n",
    "#exists는 파일까지 확인\n",
    "#os.path.exists('RPA/pdf_files/TEST_2019-1-16_10-26-10.pdf)"
   ]
  },
  {
   "cell_type": "code",
   "execution_count": null,
   "metadata": {},
   "outputs": [],
   "source": [
    "os.makedirs(PDF_DIR + '2019-1-11')"
   ]
  },
  {
   "cell_type": "code",
   "execution_count": 55,
   "metadata": {},
   "outputs": [
    {
     "data": {
      "text/plain": [
       "'./pdf_files/2019-1-11/TEST_2019-1-13_17-43-6.pdf'"
      ]
     },
     "execution_count": 55,
     "metadata": {},
     "output_type": "execute_result"
    }
   ],
   "source": [
    "#최종파일 위치\n",
    "target_dir = PDF_DIR + '2019-1-11'+ '/'+file_list[0]\n",
    "target_dir"
   ]
  },
  {
   "cell_type": "code",
   "execution_count": null,
   "metadata": {},
   "outputs": [],
   "source": [
    "#원래 파일 위치\n",
    "original_dir = PDF_DIR + file_list[0]"
   ]
  },
  {
   "cell_type": "code",
   "execution_count": null,
   "metadata": {},
   "outputs": [],
   "source": [
    "shutil.copyfile(original_dir, target_dir)"
   ]
  },
  {
   "cell_type": "code",
   "execution_count": null,
   "metadata": {},
   "outputs": [],
   "source": [
    "os.remove(original_dir)"
   ]
  },
  {
   "cell_type": "markdown",
   "metadata": {},
   "source": [
    "같은 날짜별로 폴더 만들기"
   ]
  },
  {
   "cell_type": "code",
   "execution_count": 63,
   "metadata": {},
   "outputs": [],
   "source": [
    "file_list = os.listdir(PDF_DIR)\n",
    "PDF_DIR = './pdf_files/'\n",
    "for f_list in file_list:\n",
    "    try:\n",
    "        or_dir = PDF_DIR + f_list\n",
    "        target_file = f_list\n",
    "        target = target_file.split('_')[1]\n",
    "        for i in range(2019,2023,1):\n",
    "            for j in range(1,13):\n",
    "                for k in range(1,32,1):\n",
    "                    if f'{i}-{j}-{k}' == target:\n",
    "                        try:\n",
    "                            os.makedirs(PDF_DIR + f'{i}-{j}-{k}')\n",
    "                        except:\n",
    "                            pass\n",
    "                        target_dir = PDF_DIR + f'{i}-{j}-{k}'+ '/'+ f_list\n",
    "                        shutil.copyfile(or_dir, target_dir)\n",
    "                        os.remove(or_dir)\n",
    "                    else:\n",
    "                        pass\n",
    "    except:\n",
    "        pass"
   ]
  },
  {
   "cell_type": "code",
   "execution_count": null,
   "metadata": {},
   "outputs": [],
   "source": []
  },
  {
   "cell_type": "code",
   "execution_count": null,
   "metadata": {},
   "outputs": [],
   "source": []
  },
  {
   "cell_type": "code",
   "execution_count": null,
   "metadata": {},
   "outputs": [],
   "source": []
  }
 ],
 "metadata": {
  "kernelspec": {
   "display_name": "Python 3.10.4 ('study')",
   "language": "python",
   "name": "python3"
  },
  "language_info": {
   "codemirror_mode": {
    "name": "ipython",
    "version": 3
   },
   "file_extension": ".py",
   "mimetype": "text/x-python",
   "name": "python",
   "nbconvert_exporter": "python",
   "pygments_lexer": "ipython3",
   "version": "3.10.4"
  },
  "orig_nbformat": 4,
  "vscode": {
   "interpreter": {
    "hash": "6db2f3abba949d3272d30621feaf45d6fc6a29eb863b33b0d60c0925d8592697"
   }
  }
 },
 "nbformat": 4,
 "nbformat_minor": 2
}

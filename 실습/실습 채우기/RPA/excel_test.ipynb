{
 "cells": [
  {
   "cell_type": "code",
   "execution_count": 41,
   "metadata": {},
   "outputs": [],
   "source": [
    "import openpyxl\n",
    "\n",
    "new_excel = openpyxl.Workbook()"
   ]
  },
  {
   "cell_type": "code",
   "execution_count": 3,
   "metadata": {},
   "outputs": [
    {
     "data": {
      "text/plain": [
       "['Sheet']"
      ]
     },
     "execution_count": 3,
     "metadata": {},
     "output_type": "execute_result"
    }
   ],
   "source": [
    "new_excel.sheetnames"
   ]
  },
  {
   "cell_type": "code",
   "execution_count": 42,
   "metadata": {},
   "outputs": [
    {
     "data": {
      "text/plain": [
       "<Worksheet \"study_sheet\">"
      ]
     },
     "execution_count": 42,
     "metadata": {},
     "output_type": "execute_result"
    }
   ],
   "source": [
    "new_excel.create_sheet('study_sheet')"
   ]
  },
  {
   "cell_type": "code",
   "execution_count": 43,
   "metadata": {},
   "outputs": [],
   "source": [
    "study_sheet = new_excel['study_sheet']"
   ]
  },
  {
   "cell_type": "code",
   "execution_count": 44,
   "metadata": {},
   "outputs": [],
   "source": [
    "new_excel.save('./test_execel.xlsx')"
   ]
  },
  {
   "cell_type": "code",
   "execution_count": 11,
   "metadata": {},
   "outputs": [],
   "source": [
    "#특정 셀 가져오기\n",
    "a1_cell = study_sheet['A1']\n",
    "a1_cell.value = '테스트입니다'"
   ]
  },
  {
   "cell_type": "code",
   "execution_count": 12,
   "metadata": {},
   "outputs": [
    {
     "data": {
      "text/plain": [
       "'테스트입니다'"
      ]
     },
     "execution_count": 12,
     "metadata": {},
     "output_type": "execute_result"
    }
   ],
   "source": [
    "a1_cell.value"
   ]
  },
  {
   "cell_type": "code",
   "execution_count": 17,
   "metadata": {},
   "outputs": [],
   "source": [
    "a_columns = study_sheet['A']\n",
    "rows_1 = study_sheet['1']"
   ]
  },
  {
   "cell_type": "code",
   "execution_count": 19,
   "metadata": {},
   "outputs": [
    {
     "name": "stdout",
     "output_type": "stream",
     "text": [
      "<Cell 'study_sheet'.A1>\n"
     ]
    }
   ],
   "source": [
    "# for row in a_columns:\n",
    "#     print(row)\n",
    "\n",
    "for columns in rows_1:\n",
    "    print(columns)"
   ]
  },
  {
   "cell_type": "code",
   "execution_count": 24,
   "metadata": {},
   "outputs": [
    {
     "name": "stdout",
     "output_type": "stream",
     "text": [
      "((<Cell 'study_sheet'.A1>,), (<Cell 'study_sheet'.A2>,))\n"
     ]
    }
   ],
   "source": [
    "#1행부터 2행까지, 포함해서 가져옴\n",
    "rows_12 = study_sheet['1:2']\n",
    "print(rows_12)"
   ]
  },
  {
   "cell_type": "code",
   "execution_count": 25,
   "metadata": {},
   "outputs": [
    {
     "name": "stdout",
     "output_type": "stream",
     "text": [
      "<Cell 'study_sheet'.A1>\n",
      "<Cell 'study_sheet'.A2>\n"
     ]
    }
   ],
   "source": [
    "#행들을 하나씩 가져옴\n",
    "for row in rows_12:\n",
    "    #행 안에서 cell들을 하나씩 가져옴\n",
    "    for cell in row:\n",
    "        print(cell)"
   ]
  },
  {
   "cell_type": "code",
   "execution_count": 26,
   "metadata": {},
   "outputs": [],
   "source": [
    "ab_columns = study_sheet['A:B']"
   ]
  },
  {
   "cell_type": "code",
   "execution_count": 27,
   "metadata": {},
   "outputs": [
    {
     "data": {
      "text/plain": [
       "((<Cell 'study_sheet'.A1>, <Cell 'study_sheet'.A2>),\n",
       " (<Cell 'study_sheet'.B1>, <Cell 'study_sheet'.B2>))"
      ]
     },
     "execution_count": 27,
     "metadata": {},
     "output_type": "execute_result"
    }
   ],
   "source": [
    "ab_columns"
   ]
  },
  {
   "cell_type": "code",
   "execution_count": 30,
   "metadata": {},
   "outputs": [
    {
     "name": "stdout",
     "output_type": "stream",
     "text": [
      "테스트입니다\n",
      "None\n",
      "None\n",
      "None\n"
     ]
    }
   ],
   "source": [
    "for columns in ab_columns:\n",
    "    for cell in columns:\n",
    "        print(cell.value)"
   ]
  },
  {
   "cell_type": "code",
   "execution_count": 32,
   "metadata": {},
   "outputs": [],
   "source": [
    "my_datas = study_sheet['A1:B3']"
   ]
  },
  {
   "cell_type": "code",
   "execution_count": 35,
   "metadata": {},
   "outputs": [],
   "source": [
    "from itertools import count\n",
    "count =1 \n",
    "\n",
    "for row in my_datas:\n",
    "    for cell in row:\n",
    "        # print(cell)\n",
    "        cell.value = count\n",
    "        count+=1"
   ]
  },
  {
   "cell_type": "code",
   "execution_count": 39,
   "metadata": {},
   "outputs": [
    {
     "name": "stdout",
     "output_type": "stream",
     "text": [
      "<Cell 'study_sheet'.A1>\n",
      "<Cell 'study_sheet'.B1>\n",
      "<Cell 'study_sheet'.A2>\n",
      "<Cell 'study_sheet'.B2>\n",
      "<Cell 'study_sheet'.A3>\n",
      "<Cell 'study_sheet'.B3>\n"
     ]
    }
   ],
   "source": [
    "for row in study_sheet.iter_rows():\n",
    "    for cell in row:\n",
    "        print(cell)"
   ]
  },
  {
   "cell_type": "code",
   "execution_count": 40,
   "metadata": {},
   "outputs": [],
   "source": [
    "my_datas = study_sheet['A1:C9']"
   ]
  },
  {
   "cell_type": "code",
   "execution_count": null,
   "metadata": {},
   "outputs": [],
   "source": [
    "for row in my_datas:\n",
    "    for cell in row:\n",
    "        cell.value = count\n",
    "        count +=1"
   ]
  },
  {
   "cell_type": "code",
   "execution_count": null,
   "metadata": {},
   "outputs": [],
   "source": [
    "study_sheet.append(['AA','BB','CC']) #열로 들어감 A,B,C\n"
   ]
  },
  {
   "cell_type": "code",
   "execution_count": 66,
   "metadata": {},
   "outputs": [],
   "source": [
    "import os\n",
    "new_excel = openpyxl.Workbook()\n",
    "new_excel.create_sheet('collecting_sheet')\n",
    "collecting_sheet = new_excel['collecting_sheet']\n",
    "\n",
    "CSV_DIR = './실습3/'\n",
    "csv_list = os.listdir(CSV_DIR)\n",
    "\n",
    "for list in csv_list:\n",
    "    my_datas = openpyxl.load_workbook(CSV_DIR+list, read_only=False).active\n",
    "    for row in my_datas.iter_rows():\n",
    "        temp = [row[0].value, row[1].value, row[2].value]\n",
    "        collecting_sheet.append(temp)\n",
    "new_excel.save('./collect.xlsx')"
   ]
  },
  {
   "cell_type": "code",
   "execution_count": null,
   "metadata": {},
   "outputs": [],
   "source": []
  }
 ],
 "metadata": {
  "kernelspec": {
   "display_name": "Python 3.10.4 ('study')",
   "language": "python",
   "name": "python3"
  },
  "language_info": {
   "codemirror_mode": {
    "name": "ipython",
    "version": 3
   },
   "file_extension": ".py",
   "mimetype": "text/x-python",
   "name": "python",
   "nbconvert_exporter": "python",
   "pygments_lexer": "ipython3",
   "version": "3.10.4"
  },
  "orig_nbformat": 4,
  "vscode": {
   "interpreter": {
    "hash": "6db2f3abba949d3272d30621feaf45d6fc6a29eb863b33b0d60c0925d8592697"
   }
  }
 },
 "nbformat": 4,
 "nbformat_minor": 2
}

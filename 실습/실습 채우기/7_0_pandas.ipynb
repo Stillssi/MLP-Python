{
 "cells": [
  {
   "cell_type": "markdown",
   "metadata": {},
   "source": [
    "## 판다스?\n",
    "\n",
    "테이터프레임(엑셀과 비슷) 과 시리즈라는 자료형  \n",
    "데이터 분석을 위한 다양한 기능을 제공하는 라이브러리  \n",
    "R의 데이터프레임에 영향  \n",
    "내부적으로 numpy 를 사용하므로 함께 import  \n",
    "\n",
    "http://pandas.pydata.org\n",
    "\n",
    "기능요약  \n",
    "https://pandas.pydata.org/Pandas_Cheat_Sheet.pdf\n"
   ]
  },
  {
   "cell_type": "markdown",
   "metadata": {},
   "source": [
    "# Series"
   ]
  },
  {
   "cell_type": "code",
   "execution_count": 1,
   "metadata": {},
   "outputs": [],
   "source": [
    "import pandas as pd\n",
    "import numpy as np"
   ]
  },
  {
   "cell_type": "code",
   "execution_count": 2,
   "metadata": {},
   "outputs": [
    {
     "data": {
      "text/plain": [
       "0    1\n",
       "1    2\n",
       "2    3\n",
       "3    4\n",
       "4    5\n",
       "dtype: int64"
      ]
     },
     "execution_count": 2,
     "metadata": {},
     "output_type": "execute_result"
    }
   ],
   "source": [
    "x = [1, 2, 3, 4, 5]\n",
    "pd.Series(x)"
   ]
  },
  {
   "cell_type": "code",
   "execution_count": 3,
   "metadata": {},
   "outputs": [
    {
     "data": {
      "text/plain": [
       "0    1\n",
       "1    2\n",
       "2    3\n",
       "3    4\n",
       "4    5\n",
       "dtype: int32"
      ]
     },
     "execution_count": 3,
     "metadata": {},
     "output_type": "execute_result"
    }
   ],
   "source": [
    "x = np.array([1, 2, 3, 4, 5])\n",
    "pd.Series(x) #Series는 index와 value값으로 구분"
   ]
  },
  {
   "cell_type": "code",
   "execution_count": null,
   "metadata": {},
   "outputs": [],
   "source": [
    "x = [1, 2, 3, 4, 5]\n",
    "x = pd.Series(x)\n",
    "\n",
    "print(x[0])\n",
    "print(x[1: 3])\n",
    "print(x[::-1]) #뒤집는거\n",
    "print(x[x > 3]) #불리언인덱싱\n",
    "print(x + 1) \n",
    "print(x * 10)\n",
    "print(x + x)"
   ]
  },
  {
   "cell_type": "markdown",
   "metadata": {},
   "source": [
    "# Series Index"
   ]
  },
  {
   "cell_type": "code",
   "execution_count": 4,
   "metadata": {},
   "outputs": [
    {
     "name": "stdout",
     "output_type": "stream",
     "text": [
      "RangeIndex(start=0, stop=5, step=1)\n",
      "[1 2 3 4 5]\n"
     ]
    }
   ],
   "source": [
    "import pandas as pd\n",
    "import numpy as np\n",
    "\n",
    "x = [1, 2, 3, 4, 5]\n",
    "x = pd.Series(x)\n",
    "print(x.index)\n",
    "print(x.values)"
   ]
  },
  {
   "cell_type": "code",
   "execution_count": 5,
   "metadata": {},
   "outputs": [
    {
     "name": "stdout",
     "output_type": "stream",
     "text": [
      "a    1\n",
      "b    2\n",
      "c    3\n",
      "d    4\n",
      "e    5\n",
      "dtype: int64\n",
      "1\n",
      "1\n",
      "a    1\n",
      "e    5\n",
      "dtype: int64\n",
      "1\n"
     ]
    }
   ],
   "source": [
    "x = [1, 2, 3, 4, 5]\n",
    "x = pd.Series(x, index=['a','b','c','d','e']) #인덱스설정\n",
    "print(x)\n",
    "\n",
    "print(x['a']) #명시적 인덱스접근\n",
    "print(x[0]) #묵시적 인덱스접근\n",
    "print(x[['a','e']]) #팬시색인, 한번에 여러값 접근\n",
    "print(x.a)"
   ]
  },
  {
   "cell_type": "code",
   "execution_count": 6,
   "metadata": {},
   "outputs": [
    {
     "name": "stdout",
     "output_type": "stream",
     "text": [
      "1\n",
      "1\n"
     ]
    }
   ],
   "source": [
    "x = [1, 2, 3, 4, 5]\n",
    "x = pd.Series(x, index=[1, 2, 3, 4, 5])\n",
    "\n",
    "# x[0] 오류\n",
    "print(x.iloc[0]) #묵시적 인덱스로만\n",
    "print(x.loc[1]) #명시적 인덱스로만"
   ]
  },
  {
   "cell_type": "markdown",
   "metadata": {},
   "source": [
    "## 딕셔너리 to Series"
   ]
  },
  {
   "cell_type": "code",
   "execution_count": 7,
   "metadata": {},
   "outputs": [
    {
     "data": {
      "text/plain": [
       "수학    90\n",
       "영어    80\n",
       "과학    95\n",
       "미술    80\n",
       "dtype: int64"
      ]
     },
     "execution_count": 7,
     "metadata": {},
     "output_type": "execute_result"
    }
   ],
   "source": [
    "x = {\"수학\":90, \"영어\":80, \"과학\":95, \"미술\":80}\n",
    "x = pd.Series(x)\n",
    "\n",
    "x"
   ]
  },
  {
   "cell_type": "code",
   "execution_count": null,
   "metadata": {},
   "outputs": [],
   "source": [
    "print(x['수학'])"
   ]
  },
  {
   "cell_type": "code",
   "execution_count": null,
   "metadata": {},
   "outputs": [],
   "source": [
    "print(x['영어':])"
   ]
  },
  {
   "cell_type": "code",
   "execution_count": 8,
   "metadata": {},
   "outputs": [
    {
     "data": {
      "text/plain": [
       "수학    90\n",
       "영어    80\n",
       "과학    95\n",
       "dtype: int64"
      ]
     },
     "execution_count": 8,
     "metadata": {},
     "output_type": "execute_result"
    }
   ],
   "source": [
    "x = {\"수학\":90, \"영어\":80, \"과학\":95, \"미술\":80}\n",
    "x = pd.Series(x, index=[\"수학\", \"영어\", \"과학\"])\n",
    "x"
   ]
  },
  {
   "cell_type": "markdown",
   "metadata": {},
   "source": [
    "## Multi Index"
   ]
  },
  {
   "cell_type": "code",
   "execution_count": 9,
   "metadata": {
    "scrolled": true
   },
   "outputs": [],
   "source": [
    "student_1 = {\"수학\":90, \"영어\":80, \"과학\":95, \"미술\":80}\n",
    "student_2 = {\"수학\":70, \"영어\":90, \"과학\":100, \"미술\":70}"
   ]
  },
  {
   "cell_type": "code",
   "execution_count": 5,
   "metadata": {},
   "outputs": [
    {
     "name": "stdout",
     "output_type": "stream",
     "text": [
      "['홍길동', '홍길동', '홍길동', '홍길동', '이몽룡', '이몽룡', '이몽룡', '이몽룡']\n"
     ]
    }
   ],
   "source": [
    "\n",
    "#index_1 = ['홍길동','홍길동','홍길동','홍길동','이몽룡','이몽룡','이몽룡','이몽룡']\n",
    "index_1 = ['홍길동' for i in range(len(student_1))] + ['이몽룡' for i in range(len(student_2))]\n",
    "print(index_1)\n"
   ]
  },
  {
   "cell_type": "code",
   "execution_count": 7,
   "metadata": {},
   "outputs": [
    {
     "name": "stdout",
     "output_type": "stream",
     "text": [
      "['수학', '영어', '과학', '미술', '수학', '영어', '과학', '미술']\n"
     ]
    }
   ],
   "source": [
    "\n",
    "#index_2 = ['수학','영어','과학','미술','수학','영어','과학','미술']\n",
    "index_2 = [i for i in student_1] + [i for i in student_2]\n",
    "print(index_2)"
   ]
  },
  {
   "cell_type": "code",
   "execution_count": 16,
   "metadata": {},
   "outputs": [
    {
     "name": "stdout",
     "output_type": "stream",
     "text": [
      "[90, 80, 95, 80, 70, 90, 100, 70]\n"
     ]
    }
   ],
   "source": [
    "\n",
    "value_all = list(student_1.values()) + list(student_2.values())\n",
    "print(value_all)"
   ]
  },
  {
   "cell_type": "code",
   "execution_count": 10,
   "metadata": {},
   "outputs": [
    {
     "ename": "AttributeError",
     "evalue": "'dict' object has no attribute 'vlaues'",
     "output_type": "error",
     "traceback": [
      "\u001b[1;31m---------------------------------------------------------------------------\u001b[0m",
      "\u001b[1;31mAttributeError\u001b[0m                            Traceback (most recent call last)",
      "\u001b[1;32mc:\\Users\\gdevw\\바탕 화면\\MLP-Python\\실습\\실습 채우기\\7_0_pandas.ipynb 셀 21\u001b[0m in \u001b[0;36m<cell line: 1>\u001b[1;34m()\u001b[0m\n\u001b[1;32m----> <a href='vscode-notebook-cell:/c%3A/Users/gdevw/%EB%B0%94%ED%83%95%20%ED%99%94%EB%A9%B4/MLP-Python/%EC%8B%A4%EC%8A%B5/%EC%8B%A4%EC%8A%B5%20%EC%B1%84%EC%9A%B0%EA%B8%B0/7_0_pandas.ipynb#Y155sZmlsZQ%3D%3D?line=0'>1</a>\u001b[0m value_all \u001b[39m=\u001b[39m \u001b[39mlist\u001b[39m(student_1\u001b[39m.\u001b[39mvalues() \u001b[39m+\u001b[39m \u001b[39mlist\u001b[39m(student_2\u001b[39m.\u001b[39;49mvlaues()))\n",
      "\u001b[1;31mAttributeError\u001b[0m: 'dict' object has no attribute 'vlaues'"
     ]
    }
   ],
   "source": []
  },
  {
   "cell_type": "code",
   "execution_count": 18,
   "metadata": {},
   "outputs": [
    {
     "data": {
      "text/plain": [
       "홍길동  수학     90\n",
       "     영어     80\n",
       "     과학     95\n",
       "     미술     80\n",
       "이몽룡  수학     70\n",
       "     영어     90\n",
       "     과학    100\n",
       "     미술     70\n",
       "dtype: int64"
      ]
     },
     "execution_count": 18,
     "metadata": {},
     "output_type": "execute_result"
    }
   ],
   "source": [
    "import pandas as pd\n",
    "students = pd.Series(value_all, index=[index_1, index_2])\n",
    "students"
   ]
  },
  {
   "cell_type": "code",
   "execution_count": null,
   "metadata": {},
   "outputs": [],
   "source": [
    "students['홍길동']"
   ]
  },
  {
   "cell_type": "code",
   "execution_count": null,
   "metadata": {},
   "outputs": [],
   "source": [
    "students['이몽룡']"
   ]
  },
  {
   "cell_type": "markdown",
   "metadata": {},
   "source": [
    "## 결측값 처리방법 (NaN. None)"
   ]
  },
  {
   "cell_type": "code",
   "execution_count": 19,
   "metadata": {},
   "outputs": [
    {
     "name": "stdout",
     "output_type": "stream",
     "text": [
      "0    1.0\n",
      "1    NaN\n",
      "2    2.0\n",
      "3    NaN\n",
      "4    3.0\n",
      "5    4.0\n",
      "6    NaN\n",
      "dtype: float64\n"
     ]
    }
   ],
   "source": [
    "x = [1, None, 2, None, 3, 4, None]\n",
    "x = pd.Series(x)\n",
    "print(x)\n"
   ]
  },
  {
   "cell_type": "code",
   "execution_count": null,
   "metadata": {},
   "outputs": [],
   "source": [
    "\n",
    "print(x.sum())\n",
    "print(x.max())\n",
    "print(x.min())\n",
    "\n",
    "#결측값 개수\n",
    "print(x.isnull().sum())\n",
    "print(x.notnull().sum())\n",
    "\n",
    "#결측값 제거\n",
    "print(x.dropna())\n",
    "\n",
    "#결측값을 다른값으로 채우기\n",
    "x.fillna(0)"
   ]
  },
  {
   "cell_type": "markdown",
   "metadata": {},
   "source": [
    "## concat"
   ]
  },
  {
   "cell_type": "code",
   "execution_count": 20,
   "metadata": {},
   "outputs": [
    {
     "data": {
      "text/plain": [
       "0    1\n",
       "1    2\n",
       "2    3\n",
       "0    4\n",
       "1    5\n",
       "2    6\n",
       "0    7\n",
       "1    8\n",
       "2    9\n",
       "dtype: int64"
      ]
     },
     "execution_count": 20,
     "metadata": {},
     "output_type": "execute_result"
    }
   ],
   "source": [
    "x = pd.Series([1, 2, 3])\n",
    "y = pd.Series([4, 5, 6])\n",
    "z = pd.Series([7, 8, 9])\n",
    "\n",
    "pd.concat([x, y, z]) #인덱스 그대로임\n"
   ]
  },
  {
   "cell_type": "code",
   "execution_count": null,
   "metadata": {
    "scrolled": true
   },
   "outputs": [],
   "source": [
    "pd.concat([x, y, z], verify_integrity=True) #같은 값의 인덱스가 있을경우 오류"
   ]
  },
  {
   "cell_type": "code",
   "execution_count": null,
   "metadata": {},
   "outputs": [],
   "source": [
    "pd.concat([x, y, z], verify_integrity=False, ignore_index=True)"
   ]
  },
  {
   "cell_type": "code",
   "execution_count": 21,
   "metadata": {},
   "outputs": [
    {
     "data": {
      "text/html": [
       "<div>\n",
       "<style scoped>\n",
       "    .dataframe tbody tr th:only-of-type {\n",
       "        vertical-align: middle;\n",
       "    }\n",
       "\n",
       "    .dataframe tbody tr th {\n",
       "        vertical-align: top;\n",
       "    }\n",
       "\n",
       "    .dataframe thead th {\n",
       "        text-align: right;\n",
       "    }\n",
       "</style>\n",
       "<table border=\"1\" class=\"dataframe\">\n",
       "  <thead>\n",
       "    <tr style=\"text-align: right;\">\n",
       "      <th></th>\n",
       "      <th>0</th>\n",
       "      <th>1</th>\n",
       "      <th>2</th>\n",
       "    </tr>\n",
       "  </thead>\n",
       "  <tbody>\n",
       "    <tr>\n",
       "      <th>0</th>\n",
       "      <td>1</td>\n",
       "      <td>4</td>\n",
       "      <td>7</td>\n",
       "    </tr>\n",
       "    <tr>\n",
       "      <th>1</th>\n",
       "      <td>2</td>\n",
       "      <td>5</td>\n",
       "      <td>8</td>\n",
       "    </tr>\n",
       "    <tr>\n",
       "      <th>2</th>\n",
       "      <td>3</td>\n",
       "      <td>6</td>\n",
       "      <td>9</td>\n",
       "    </tr>\n",
       "  </tbody>\n",
       "</table>\n",
       "</div>"
      ],
      "text/plain": [
       "   0  1  2\n",
       "0  1  4  7\n",
       "1  2  5  8\n",
       "2  3  6  9"
      ]
     },
     "execution_count": 21,
     "metadata": {},
     "output_type": "execute_result"
    }
   ],
   "source": [
    "pd.concat([x, y, z], verify_integrity=False, ignore_index=True, axis=1) #데이터프레임(2차원)"
   ]
  },
  {
   "cell_type": "code",
   "execution_count": 22,
   "metadata": {},
   "outputs": [],
   "source": [
    "x = pd.Series([1, 2, 3, 4])\n",
    "y = pd.Series([4, 5, 6])\n",
    "z = pd.Series([7, 8, 9])"
   ]
  },
  {
   "cell_type": "code",
   "execution_count": null,
   "metadata": {
    "scrolled": true
   },
   "outputs": [],
   "source": [
    "pd.concat([x, y, z], verify_integrity=False, ignore_index=True, axis=1, join='inner')"
   ]
  },
  {
   "cell_type": "code",
   "execution_count": null,
   "metadata": {},
   "outputs": [],
   "source": [
    "pd.concat([x, y, z], verify_integrity=False, ignore_index=True, axis=1, join='outer')"
   ]
  },
  {
   "cell_type": "markdown",
   "metadata": {},
   "source": [
    "## 연산과 집계함수"
   ]
  },
  {
   "cell_type": "code",
   "execution_count": 23,
   "metadata": {},
   "outputs": [],
   "source": [
    "x = pd.Series([1, 2, 3, 4, 5])\n",
    "y = pd.Series([6, 7, 8, 9, 0])"
   ]
  },
  {
   "cell_type": "code",
   "execution_count": 24,
   "metadata": {},
   "outputs": [
    {
     "name": "stdout",
     "output_type": "stream",
     "text": [
      "0    11\n",
      "1    12\n",
      "2    13\n",
      "3    14\n",
      "4    15\n",
      "dtype: int64\n",
      "0     7\n",
      "1     9\n",
      "2    11\n",
      "3    13\n",
      "4     5\n",
      "dtype: int64\n"
     ]
    }
   ],
   "source": [
    "\n",
    "#더하기\n",
    "print(x.add(10)) #각각에 10 더해짐\n",
    "print(x.add(y)) #행렬합\n"
   ]
  },
  {
   "cell_type": "code",
   "execution_count": 25,
   "metadata": {},
   "outputs": [
    {
     "name": "stdout",
     "output_type": "stream",
     "text": [
      "0   -5\n",
      "1   -5\n",
      "2   -5\n",
      "3   -5\n",
      "4    5\n",
      "dtype: int64\n"
     ]
    }
   ],
   "source": [
    "\n",
    "#빼기\n",
    "print(x.sub(y))\n"
   ]
  },
  {
   "cell_type": "code",
   "execution_count": 27,
   "metadata": {},
   "outputs": [
    {
     "name": "stdout",
     "output_type": "stream",
     "text": [
      "0     6\n",
      "1    14\n",
      "2    24\n",
      "3    36\n",
      "4     0\n",
      "dtype: int64\n",
      "0    0\n",
      "1    1\n",
      "2    1\n",
      "3    2\n",
      "4    2\n",
      "dtype: int64\n",
      "0    0.5\n",
      "1    1.0\n",
      "2    1.5\n",
      "3    2.0\n",
      "4    2.5\n",
      "dtype: float64\n",
      "0    1\n",
      "1    0\n",
      "2    1\n",
      "3    0\n",
      "4    1\n",
      "dtype: int64\n",
      "0     1\n",
      "1     4\n",
      "2     9\n",
      "3    16\n",
      "4    25\n",
      "dtype: int64\n"
     ]
    }
   ],
   "source": [
    "\n",
    "#곱하기\n",
    "print(x.mul(y))\n",
    "\n",
    "#나누기\n",
    "print(x.floordiv(2)) #몫\n",
    "print(x.div(2))\n",
    "print(x.mod(2))\n",
    "\n",
    "#제곱\n",
    "print(x.pow(2))\n"
   ]
  },
  {
   "cell_type": "code",
   "execution_count": 28,
   "metadata": {},
   "outputs": [
    {
     "name": "stdout",
     "output_type": "stream",
     "text": [
      "5\n",
      "1\n",
      "5\n",
      "3.0\n",
      "3.0\n",
      "15\n",
      "1.5811388300841898\n",
      "2.5\n",
      "1.2\n",
      "count    5.000000\n",
      "mean     3.000000\n",
      "std      1.581139\n",
      "min      1.000000\n",
      "25%      2.000000\n",
      "50%      3.000000\n",
      "75%      4.000000\n",
      "max      5.000000\n",
      "dtype: float64\n",
      "0    1\n",
      "1    2\n",
      "dtype: int64\n",
      "3    4\n",
      "4    5\n",
      "dtype: int64\n"
     ]
    }
   ],
   "source": [
    "\n",
    "#기초통계\n",
    "print(x.count())\n",
    "print(x.min())\n",
    "print(x.max())\n",
    "print(x.mean())\n",
    "print(x.median()) #중간값\n",
    "print(x.sum())\n",
    "print(x.std()) # 표준편차\n",
    "print(x.var()) # 분산\n",
    "print(x.mad()) # 절대표준편차\n",
    "print(x.describe()) #기초통계모두\n",
    "\n",
    "print(x.head(2)) #앞의 일부데이터 확인\n",
    "print(x.tail(2)) #뒤의 일부데이터 확인"
   ]
  },
  {
   "cell_type": "markdown",
   "metadata": {},
   "source": [
    "## 실습1"
   ]
  },
  {
   "cell_type": "code",
   "execution_count": 17,
   "metadata": {},
   "outputs": [
    {
     "name": "stdout",
     "output_type": "stream",
     "text": [
      "0     5.0\n",
      "1     4.0\n",
      "2     2.0\n",
      "3     NaN\n",
      "4     1.0\n",
      "5     NaN\n",
      "6     4.0\n",
      "7     1.0\n",
      "8     5.0\n",
      "9     4.0\n",
      "10    1.0\n",
      "11    5.0\n",
      "12    2.0\n",
      "13    NaN\n",
      "14    1.0\n",
      "15    3.0\n",
      "16    4.0\n",
      "17    1.0\n",
      "18    4.0\n",
      "19    3.0\n",
      "dtype: float64\n",
      "0     5.000000\n",
      "1     4.000000\n",
      "2     2.000000\n",
      "3     2.941176\n",
      "4     1.000000\n",
      "5     2.941176\n",
      "6     4.000000\n",
      "7     1.000000\n",
      "8     5.000000\n",
      "9     4.000000\n",
      "10    1.000000\n",
      "11    5.000000\n",
      "12    2.000000\n",
      "13    2.941176\n",
      "14    1.000000\n",
      "15    3.000000\n",
      "16    4.000000\n",
      "17    1.000000\n",
      "18    4.000000\n",
      "19    3.000000\n",
      "dtype: float64\n"
     ]
    }
   ],
   "source": [
    "from audioop import avg\n",
    "\n",
    "\n",
    "x = [np.nan,1,2,3,4,5]\n",
    "y = pd.Series([x[np.random.randint(0,6)] for i in range(20)])\n",
    "print(y)\n",
    "y.isnull().sum()\n",
    "a = y.dropna()\n",
    "b = y.fillna(y.mean())\n",
    "\n",
    "print(b)"
   ]
  },
  {
   "cell_type": "markdown",
   "metadata": {},
   "source": [
    "# DataFrame"
   ]
  },
  {
   "cell_type": "code",
   "execution_count": 29,
   "metadata": {},
   "outputs": [
    {
     "data": {
      "text/html": [
       "<div>\n",
       "<style scoped>\n",
       "    .dataframe tbody tr th:only-of-type {\n",
       "        vertical-align: middle;\n",
       "    }\n",
       "\n",
       "    .dataframe tbody tr th {\n",
       "        vertical-align: top;\n",
       "    }\n",
       "\n",
       "    .dataframe thead th {\n",
       "        text-align: right;\n",
       "    }\n",
       "</style>\n",
       "<table border=\"1\" class=\"dataframe\">\n",
       "  <thead>\n",
       "    <tr style=\"text-align: right;\">\n",
       "      <th></th>\n",
       "      <th>연도</th>\n",
       "      <th>판매량</th>\n",
       "      <th>매출</th>\n",
       "      <th>순이익</th>\n",
       "    </tr>\n",
       "  </thead>\n",
       "  <tbody>\n",
       "    <tr>\n",
       "      <th>0</th>\n",
       "      <td>2015</td>\n",
       "      <td>103</td>\n",
       "      <td>500000</td>\n",
       "      <td>370000</td>\n",
       "    </tr>\n",
       "    <tr>\n",
       "      <th>1</th>\n",
       "      <td>2016</td>\n",
       "      <td>70</td>\n",
       "      <td>300000</td>\n",
       "      <td>190000</td>\n",
       "    </tr>\n",
       "    <tr>\n",
       "      <th>2</th>\n",
       "      <td>2017</td>\n",
       "      <td>130</td>\n",
       "      <td>400000</td>\n",
       "      <td>300000</td>\n",
       "    </tr>\n",
       "    <tr>\n",
       "      <th>3</th>\n",
       "      <td>2018</td>\n",
       "      <td>160</td>\n",
       "      <td>550000</td>\n",
       "      <td>480000</td>\n",
       "    </tr>\n",
       "    <tr>\n",
       "      <th>4</th>\n",
       "      <td>2019</td>\n",
       "      <td>190</td>\n",
       "      <td>700000</td>\n",
       "      <td>600000</td>\n",
       "    </tr>\n",
       "    <tr>\n",
       "      <th>5</th>\n",
       "      <td>2020</td>\n",
       "      <td>230</td>\n",
       "      <td>680000</td>\n",
       "      <td>590000</td>\n",
       "    </tr>\n",
       "  </tbody>\n",
       "</table>\n",
       "</div>"
      ],
      "text/plain": [
       "     연도  판매량      매출     순이익\n",
       "0  2015  103  500000  370000\n",
       "1  2016   70  300000  190000\n",
       "2  2017  130  400000  300000\n",
       "3  2018  160  550000  480000\n",
       "4  2019  190  700000  600000\n",
       "5  2020  230  680000  590000"
      ]
     },
     "execution_count": 29,
     "metadata": {},
     "output_type": "execute_result"
    }
   ],
   "source": [
    "sales_data = {    \n",
    "    '연도':[2015, 2016, 2017, 2018, 2019, 2020],\n",
    "    '판매량':[103, 70, 130, 160, 190, 230],\n",
    "    '매출':[500000, 300000, 400000, 550000, 700000, 680000],\n",
    "    '순이익':[370000, 190000, 300000, 480000, 600000, 590000]\n",
    "}\n",
    "\n",
    "sales_data = pd.DataFrame(sales_data)\n",
    "sales_data"
   ]
  },
  {
   "cell_type": "code",
   "execution_count": 30,
   "metadata": {},
   "outputs": [
    {
     "data": {
      "text/plain": [
       "0    103\n",
       "1     70\n",
       "2    130\n",
       "3    160\n",
       "4    190\n",
       "5    230\n",
       "Name: 판매량, dtype: int64"
      ]
     },
     "execution_count": 30,
     "metadata": {},
     "output_type": "execute_result"
    }
   ],
   "source": [
    "sales_data['판매량']"
   ]
  },
  {
   "cell_type": "code",
   "execution_count": 32,
   "metadata": {},
   "outputs": [
    {
     "data": {
      "text/plain": [
       "연도       2017\n",
       "판매량       130\n",
       "매출     400000\n",
       "순이익    300000\n",
       "Name: 2, dtype: int64"
      ]
     },
     "execution_count": 32,
     "metadata": {},
     "output_type": "execute_result"
    }
   ],
   "source": [
    "sales_data.iloc[2] #묵시적 접근"
   ]
  },
  {
   "cell_type": "code",
   "execution_count": 33,
   "metadata": {},
   "outputs": [
    {
     "data": {
      "text/html": [
       "<div>\n",
       "<style scoped>\n",
       "    .dataframe tbody tr th:only-of-type {\n",
       "        vertical-align: middle;\n",
       "    }\n",
       "\n",
       "    .dataframe tbody tr th {\n",
       "        vertical-align: top;\n",
       "    }\n",
       "\n",
       "    .dataframe thead th {\n",
       "        text-align: right;\n",
       "    }\n",
       "</style>\n",
       "<table border=\"1\" class=\"dataframe\">\n",
       "  <thead>\n",
       "    <tr style=\"text-align: right;\">\n",
       "      <th></th>\n",
       "      <th>판매량</th>\n",
       "      <th>매출</th>\n",
       "      <th>순이익</th>\n",
       "    </tr>\n",
       "  </thead>\n",
       "  <tbody>\n",
       "    <tr>\n",
       "      <th>2015</th>\n",
       "      <td>103</td>\n",
       "      <td>500000</td>\n",
       "      <td>370000</td>\n",
       "    </tr>\n",
       "    <tr>\n",
       "      <th>2016</th>\n",
       "      <td>70</td>\n",
       "      <td>300000</td>\n",
       "      <td>190000</td>\n",
       "    </tr>\n",
       "    <tr>\n",
       "      <th>2017</th>\n",
       "      <td>130</td>\n",
       "      <td>400000</td>\n",
       "      <td>300000</td>\n",
       "    </tr>\n",
       "    <tr>\n",
       "      <th>2018</th>\n",
       "      <td>160</td>\n",
       "      <td>550000</td>\n",
       "      <td>480000</td>\n",
       "    </tr>\n",
       "    <tr>\n",
       "      <th>2019</th>\n",
       "      <td>190</td>\n",
       "      <td>700000</td>\n",
       "      <td>600000</td>\n",
       "    </tr>\n",
       "    <tr>\n",
       "      <th>2020</th>\n",
       "      <td>230</td>\n",
       "      <td>680000</td>\n",
       "      <td>590000</td>\n",
       "    </tr>\n",
       "  </tbody>\n",
       "</table>\n",
       "</div>"
      ],
      "text/plain": [
       "      판매량      매출     순이익\n",
       "2015  103  500000  370000\n",
       "2016   70  300000  190000\n",
       "2017  130  400000  300000\n",
       "2018  160  550000  480000\n",
       "2019  190  700000  600000\n",
       "2020  230  680000  590000"
      ]
     },
     "execution_count": 33,
     "metadata": {},
     "output_type": "execute_result"
    }
   ],
   "source": [
    "sales_data = {    \n",
    "    '연도':[2015, 2016, 2017, 2018, 2019, 2020],\n",
    "    '판매량':[103, 70, 130, 160, 190, 230],\n",
    "    '매출':[500000, 300000, 400000, 550000, 700000, 680000],\n",
    "    '순이익':[370000, 190000, 300000, 480000, 600000, 590000]\n",
    "}\n",
    "\n",
    "pd.DataFrame(sales_data, columns=['판매량','매출','순이익'], index=sales_data['연도'])"
   ]
  },
  {
   "cell_type": "code",
   "execution_count": null,
   "metadata": {},
   "outputs": [],
   "source": [
    "print(temp_df.loc[2017]) #명시적 인덱스 접근\n",
    "print(temp_df.iloc[2]) #묵시적 인덱스 접근 "
   ]
  },
  {
   "cell_type": "markdown",
   "metadata": {},
   "source": [
    "## 파일생성"
   ]
  },
  {
   "cell_type": "code",
   "execution_count": null,
   "metadata": {},
   "outputs": [],
   "source": [
    "%%writefile sales_data.csv\n",
    "연도,판매량,매출,순이익\n",
    "2015,103,500000,370000\n",
    "2016,70,300000,190000\n",
    "2017,130,400000,300000\n",
    "2018,60,550000,480000\n",
    "2019,190,700000,600000\n",
    "2020,230,680000,590000"
   ]
  },
  {
   "cell_type": "markdown",
   "metadata": {},
   "source": [
    "## CSV 파일읽기"
   ]
  },
  {
   "cell_type": "code",
   "execution_count": 38,
   "metadata": {
    "scrolled": true
   },
   "outputs": [
    {
     "data": {
      "text/html": [
       "<div>\n",
       "<style scoped>\n",
       "    .dataframe tbody tr th:only-of-type {\n",
       "        vertical-align: middle;\n",
       "    }\n",
       "\n",
       "    .dataframe tbody tr th {\n",
       "        vertical-align: top;\n",
       "    }\n",
       "\n",
       "    .dataframe thead th {\n",
       "        text-align: right;\n",
       "    }\n",
       "</style>\n",
       "<table border=\"1\" class=\"dataframe\">\n",
       "  <thead>\n",
       "    <tr style=\"text-align: right;\">\n",
       "      <th></th>\n",
       "      <th>판매량</th>\n",
       "      <th>매출</th>\n",
       "      <th>순이익</th>\n",
       "    </tr>\n",
       "    <tr>\n",
       "      <th>연도</th>\n",
       "      <th></th>\n",
       "      <th></th>\n",
       "      <th></th>\n",
       "    </tr>\n",
       "  </thead>\n",
       "  <tbody>\n",
       "    <tr>\n",
       "      <th>2015</th>\n",
       "      <td>103</td>\n",
       "      <td>500000</td>\n",
       "      <td>370000</td>\n",
       "    </tr>\n",
       "    <tr>\n",
       "      <th>2016</th>\n",
       "      <td>70</td>\n",
       "      <td>300000</td>\n",
       "      <td>190000</td>\n",
       "    </tr>\n",
       "    <tr>\n",
       "      <th>2017</th>\n",
       "      <td>130</td>\n",
       "      <td>400000</td>\n",
       "      <td>300000</td>\n",
       "    </tr>\n",
       "    <tr>\n",
       "      <th>2018</th>\n",
       "      <td>60</td>\n",
       "      <td>550000</td>\n",
       "      <td>480000</td>\n",
       "    </tr>\n",
       "    <tr>\n",
       "      <th>2019</th>\n",
       "      <td>190</td>\n",
       "      <td>700000</td>\n",
       "      <td>600000</td>\n",
       "    </tr>\n",
       "    <tr>\n",
       "      <th>2020</th>\n",
       "      <td>230</td>\n",
       "      <td>680000</td>\n",
       "      <td>590000</td>\n",
       "    </tr>\n",
       "  </tbody>\n",
       "</table>\n",
       "</div>"
      ],
      "text/plain": [
       "      판매량      매출     순이익\n",
       "연도                       \n",
       "2015  103  500000  370000\n",
       "2016   70  300000  190000\n",
       "2017  130  400000  300000\n",
       "2018   60  550000  480000\n",
       "2019  190  700000  600000\n",
       "2020  230  680000  590000"
      ]
     },
     "execution_count": 38,
     "metadata": {},
     "output_type": "execute_result"
    }
   ],
   "source": [
    "sales_data = pd.read_csv('sales_data.csv', index_col='연도', header=0, sep=',')\n",
    "sales_data"
   ]
  },
  {
   "cell_type": "markdown",
   "metadata": {},
   "source": [
    "## CSV 파일쓰기"
   ]
  },
  {
   "cell_type": "code",
   "execution_count": 39,
   "metadata": {},
   "outputs": [],
   "source": [
    "sales_data.to_csv('sales_data_save.csv', encoding='utf-8-sig')"
   ]
  },
  {
   "cell_type": "code",
   "execution_count": 41,
   "metadata": {},
   "outputs": [
    {
     "data": {
      "text/html": [
       "<div>\n",
       "<style scoped>\n",
       "    .dataframe tbody tr th:only-of-type {\n",
       "        vertical-align: middle;\n",
       "    }\n",
       "\n",
       "    .dataframe tbody tr th {\n",
       "        vertical-align: top;\n",
       "    }\n",
       "\n",
       "    .dataframe thead th {\n",
       "        text-align: right;\n",
       "    }\n",
       "</style>\n",
       "<table border=\"1\" class=\"dataframe\">\n",
       "  <thead>\n",
       "    <tr style=\"text-align: right;\">\n",
       "      <th></th>\n",
       "      <th>판매량</th>\n",
       "      <th>매출</th>\n",
       "      <th>순이익</th>\n",
       "    </tr>\n",
       "    <tr>\n",
       "      <th>연도</th>\n",
       "      <th></th>\n",
       "      <th></th>\n",
       "      <th></th>\n",
       "    </tr>\n",
       "  </thead>\n",
       "  <tbody>\n",
       "    <tr>\n",
       "      <th>2015</th>\n",
       "      <td>103</td>\n",
       "      <td>500000</td>\n",
       "      <td>370000</td>\n",
       "    </tr>\n",
       "    <tr>\n",
       "      <th>2016</th>\n",
       "      <td>70</td>\n",
       "      <td>300000</td>\n",
       "      <td>190000</td>\n",
       "    </tr>\n",
       "    <tr>\n",
       "      <th>2017</th>\n",
       "      <td>130</td>\n",
       "      <td>400000</td>\n",
       "      <td>300000</td>\n",
       "    </tr>\n",
       "    <tr>\n",
       "      <th>2018</th>\n",
       "      <td>60</td>\n",
       "      <td>550000</td>\n",
       "      <td>480000</td>\n",
       "    </tr>\n",
       "    <tr>\n",
       "      <th>2019</th>\n",
       "      <td>190</td>\n",
       "      <td>700000</td>\n",
       "      <td>600000</td>\n",
       "    </tr>\n",
       "    <tr>\n",
       "      <th>2020</th>\n",
       "      <td>230</td>\n",
       "      <td>680000</td>\n",
       "      <td>590000</td>\n",
       "    </tr>\n",
       "  </tbody>\n",
       "</table>\n",
       "</div>"
      ],
      "text/plain": [
       "      판매량      매출     순이익\n",
       "연도                       \n",
       "2015  103  500000  370000\n",
       "2016   70  300000  190000\n",
       "2017  130  400000  300000\n",
       "2018   60  550000  480000\n",
       "2019  190  700000  600000\n",
       "2020  230  680000  590000"
      ]
     },
     "execution_count": 41,
     "metadata": {},
     "output_type": "execute_result"
    }
   ],
   "source": [
    "pd.read_csv('sales_data_save.csv',header=0, index_col='연도')"
   ]
  },
  {
   "cell_type": "markdown",
   "metadata": {},
   "source": [
    "## 데이터 추가"
   ]
  },
  {
   "cell_type": "code",
   "execution_count": 43,
   "metadata": {},
   "outputs": [
    {
     "data": {
      "text/html": [
       "<div>\n",
       "<style scoped>\n",
       "    .dataframe tbody tr th:only-of-type {\n",
       "        vertical-align: middle;\n",
       "    }\n",
       "\n",
       "    .dataframe tbody tr th {\n",
       "        vertical-align: top;\n",
       "    }\n",
       "\n",
       "    .dataframe thead th {\n",
       "        text-align: right;\n",
       "    }\n",
       "</style>\n",
       "<table border=\"1\" class=\"dataframe\">\n",
       "  <thead>\n",
       "    <tr style=\"text-align: right;\">\n",
       "      <th></th>\n",
       "      <th>연도</th>\n",
       "      <th>판매량</th>\n",
       "      <th>매출</th>\n",
       "      <th>순이익</th>\n",
       "    </tr>\n",
       "  </thead>\n",
       "  <tbody>\n",
       "    <tr>\n",
       "      <th>0</th>\n",
       "      <td>2015</td>\n",
       "      <td>103</td>\n",
       "      <td>500000</td>\n",
       "      <td>370000</td>\n",
       "    </tr>\n",
       "    <tr>\n",
       "      <th>1</th>\n",
       "      <td>2016</td>\n",
       "      <td>70</td>\n",
       "      <td>300000</td>\n",
       "      <td>190000</td>\n",
       "    </tr>\n",
       "    <tr>\n",
       "      <th>2</th>\n",
       "      <td>2017</td>\n",
       "      <td>130</td>\n",
       "      <td>400000</td>\n",
       "      <td>300000</td>\n",
       "    </tr>\n",
       "    <tr>\n",
       "      <th>3</th>\n",
       "      <td>2018</td>\n",
       "      <td>160</td>\n",
       "      <td>550000</td>\n",
       "      <td>480000</td>\n",
       "    </tr>\n",
       "    <tr>\n",
       "      <th>4</th>\n",
       "      <td>2019</td>\n",
       "      <td>190</td>\n",
       "      <td>700000</td>\n",
       "      <td>600000</td>\n",
       "    </tr>\n",
       "    <tr>\n",
       "      <th>5</th>\n",
       "      <td>2020</td>\n",
       "      <td>230</td>\n",
       "      <td>680000</td>\n",
       "      <td>590000</td>\n",
       "    </tr>\n",
       "  </tbody>\n",
       "</table>\n",
       "</div>"
      ],
      "text/plain": [
       "     연도  판매량      매출     순이익\n",
       "0  2015  103  500000  370000\n",
       "1  2016   70  300000  190000\n",
       "2  2017  130  400000  300000\n",
       "3  2018  160  550000  480000\n",
       "4  2019  190  700000  600000\n",
       "5  2020  230  680000  590000"
      ]
     },
     "execution_count": 43,
     "metadata": {},
     "output_type": "execute_result"
    }
   ],
   "source": [
    "sales_data = {    \n",
    "    '연도':[2015, 2016, 2017, 2018, 2019, 2020],\n",
    "    '판매량':[103, 70, 130, 160, 190, 230],\n",
    "    '매출':[500000, 300000, 400000, 550000, 700000, 680000],\n",
    "    '순이익':[370000, 190000, 300000, 480000, 600000, 590000]\n",
    "}\n",
    "\n",
    "sales_data = pd.DataFrame(sales_data)\n",
    "sales_data"
   ]
  },
  {
   "cell_type": "code",
   "execution_count": 44,
   "metadata": {},
   "outputs": [
    {
     "data": {
      "text/html": [
       "<div>\n",
       "<style scoped>\n",
       "    .dataframe tbody tr th:only-of-type {\n",
       "        vertical-align: middle;\n",
       "    }\n",
       "\n",
       "    .dataframe tbody tr th {\n",
       "        vertical-align: top;\n",
       "    }\n",
       "\n",
       "    .dataframe thead th {\n",
       "        text-align: right;\n",
       "    }\n",
       "</style>\n",
       "<table border=\"1\" class=\"dataframe\">\n",
       "  <thead>\n",
       "    <tr style=\"text-align: right;\">\n",
       "      <th></th>\n",
       "      <th>연도</th>\n",
       "      <th>판매량</th>\n",
       "      <th>매출</th>\n",
       "      <th>순이익</th>\n",
       "      <th>순이익율</th>\n",
       "    </tr>\n",
       "  </thead>\n",
       "  <tbody>\n",
       "    <tr>\n",
       "      <th>0</th>\n",
       "      <td>2015</td>\n",
       "      <td>103</td>\n",
       "      <td>500000</td>\n",
       "      <td>370000</td>\n",
       "      <td>74.000000</td>\n",
       "    </tr>\n",
       "    <tr>\n",
       "      <th>1</th>\n",
       "      <td>2016</td>\n",
       "      <td>70</td>\n",
       "      <td>300000</td>\n",
       "      <td>190000</td>\n",
       "      <td>63.333333</td>\n",
       "    </tr>\n",
       "    <tr>\n",
       "      <th>2</th>\n",
       "      <td>2017</td>\n",
       "      <td>130</td>\n",
       "      <td>400000</td>\n",
       "      <td>300000</td>\n",
       "      <td>75.000000</td>\n",
       "    </tr>\n",
       "    <tr>\n",
       "      <th>3</th>\n",
       "      <td>2018</td>\n",
       "      <td>160</td>\n",
       "      <td>550000</td>\n",
       "      <td>480000</td>\n",
       "      <td>87.272727</td>\n",
       "    </tr>\n",
       "    <tr>\n",
       "      <th>4</th>\n",
       "      <td>2019</td>\n",
       "      <td>190</td>\n",
       "      <td>700000</td>\n",
       "      <td>600000</td>\n",
       "      <td>85.714286</td>\n",
       "    </tr>\n",
       "    <tr>\n",
       "      <th>5</th>\n",
       "      <td>2020</td>\n",
       "      <td>230</td>\n",
       "      <td>680000</td>\n",
       "      <td>590000</td>\n",
       "      <td>86.764706</td>\n",
       "    </tr>\n",
       "  </tbody>\n",
       "</table>\n",
       "</div>"
      ],
      "text/plain": [
       "     연도  판매량      매출     순이익       순이익율\n",
       "0  2015  103  500000  370000  74.000000\n",
       "1  2016   70  300000  190000  63.333333\n",
       "2  2017  130  400000  300000  75.000000\n",
       "3  2018  160  550000  480000  87.272727\n",
       "4  2019  190  700000  600000  85.714286\n",
       "5  2020  230  680000  590000  86.764706"
      ]
     },
     "execution_count": 44,
     "metadata": {},
     "output_type": "execute_result"
    }
   ],
   "source": [
    "sales_data['순이익율'] = (sales_data['순이익']/sales_data['매출']) * 100\n",
    "sales_data"
   ]
  },
  {
   "cell_type": "code",
   "execution_count": 45,
   "metadata": {},
   "outputs": [
    {
     "data": {
      "text/html": [
       "<div>\n",
       "<style scoped>\n",
       "    .dataframe tbody tr th:only-of-type {\n",
       "        vertical-align: middle;\n",
       "    }\n",
       "\n",
       "    .dataframe tbody tr th {\n",
       "        vertical-align: top;\n",
       "    }\n",
       "\n",
       "    .dataframe thead th {\n",
       "        text-align: right;\n",
       "    }\n",
       "</style>\n",
       "<table border=\"1\" class=\"dataframe\">\n",
       "  <thead>\n",
       "    <tr style=\"text-align: right;\">\n",
       "      <th></th>\n",
       "      <th>연도</th>\n",
       "      <th>판매량</th>\n",
       "      <th>매출</th>\n",
       "      <th>순이익</th>\n",
       "      <th>순이익율</th>\n",
       "      <th>순이익율_비교</th>\n",
       "    </tr>\n",
       "  </thead>\n",
       "  <tbody>\n",
       "    <tr>\n",
       "      <th>0</th>\n",
       "      <td>2015</td>\n",
       "      <td>103</td>\n",
       "      <td>500000</td>\n",
       "      <td>370000</td>\n",
       "      <td>74.000000</td>\n",
       "      <td>낮음</td>\n",
       "    </tr>\n",
       "    <tr>\n",
       "      <th>1</th>\n",
       "      <td>2016</td>\n",
       "      <td>70</td>\n",
       "      <td>300000</td>\n",
       "      <td>190000</td>\n",
       "      <td>63.333333</td>\n",
       "      <td>낮음</td>\n",
       "    </tr>\n",
       "    <tr>\n",
       "      <th>2</th>\n",
       "      <td>2017</td>\n",
       "      <td>130</td>\n",
       "      <td>400000</td>\n",
       "      <td>300000</td>\n",
       "      <td>75.000000</td>\n",
       "      <td>낮음</td>\n",
       "    </tr>\n",
       "    <tr>\n",
       "      <th>3</th>\n",
       "      <td>2018</td>\n",
       "      <td>160</td>\n",
       "      <td>550000</td>\n",
       "      <td>480000</td>\n",
       "      <td>87.272727</td>\n",
       "      <td>높음</td>\n",
       "    </tr>\n",
       "    <tr>\n",
       "      <th>4</th>\n",
       "      <td>2019</td>\n",
       "      <td>190</td>\n",
       "      <td>700000</td>\n",
       "      <td>600000</td>\n",
       "      <td>85.714286</td>\n",
       "      <td>높음</td>\n",
       "    </tr>\n",
       "    <tr>\n",
       "      <th>5</th>\n",
       "      <td>2020</td>\n",
       "      <td>230</td>\n",
       "      <td>680000</td>\n",
       "      <td>590000</td>\n",
       "      <td>86.764706</td>\n",
       "      <td>높음</td>\n",
       "    </tr>\n",
       "  </tbody>\n",
       "</table>\n",
       "</div>"
      ],
      "text/plain": [
       "     연도  판매량      매출     순이익       순이익율 순이익율_비교\n",
       "0  2015  103  500000  370000  74.000000      낮음\n",
       "1  2016   70  300000  190000  63.333333      낮음\n",
       "2  2017  130  400000  300000  75.000000      낮음\n",
       "3  2018  160  550000  480000  87.272727      높음\n",
       "4  2019  190  700000  600000  85.714286      높음\n",
       "5  2020  230  680000  590000  86.764706      높음"
      ]
     },
     "execution_count": 45,
     "metadata": {},
     "output_type": "execute_result"
    }
   ],
   "source": [
    "def check(n):\n",
    "    if n > 80:\n",
    "        return '높음'\n",
    "    else:\n",
    "        return '낮음'\n",
    "\n",
    "sales_data['순이익율_비교'] = sales_data['순이익율'].apply(check)\n",
    "#조건표현식: True_Value if 조건 else \n",
    "#sales_data['순이익율_비교'] = sales_data['순이익율'].apply(lambda n: '높음' if n > 80 else '낮음')\n",
    "sales_data"
   ]
  },
  {
   "cell_type": "markdown",
   "metadata": {},
   "source": [
    "## 데이터 추가 2"
   ]
  },
  {
   "cell_type": "code",
   "execution_count": 42,
   "metadata": {},
   "outputs": [
    {
     "data": {
      "text/html": [
       "<div>\n",
       "<style scoped>\n",
       "    .dataframe tbody tr th:only-of-type {\n",
       "        vertical-align: middle;\n",
       "    }\n",
       "\n",
       "    .dataframe tbody tr th {\n",
       "        vertical-align: top;\n",
       "    }\n",
       "\n",
       "    .dataframe thead th {\n",
       "        text-align: right;\n",
       "    }\n",
       "</style>\n",
       "<table border=\"1\" class=\"dataframe\">\n",
       "  <thead>\n",
       "    <tr style=\"text-align: right;\">\n",
       "      <th></th>\n",
       "      <th>연도</th>\n",
       "      <th>판매량</th>\n",
       "      <th>매출</th>\n",
       "      <th>순이익</th>\n",
       "    </tr>\n",
       "  </thead>\n",
       "  <tbody>\n",
       "    <tr>\n",
       "      <th>0</th>\n",
       "      <td>2015</td>\n",
       "      <td>103</td>\n",
       "      <td>500000</td>\n",
       "      <td>370000</td>\n",
       "    </tr>\n",
       "    <tr>\n",
       "      <th>1</th>\n",
       "      <td>2016</td>\n",
       "      <td>70</td>\n",
       "      <td>300000</td>\n",
       "      <td>190000</td>\n",
       "    </tr>\n",
       "    <tr>\n",
       "      <th>2</th>\n",
       "      <td>2017</td>\n",
       "      <td>130</td>\n",
       "      <td>400000</td>\n",
       "      <td>300000</td>\n",
       "    </tr>\n",
       "    <tr>\n",
       "      <th>3</th>\n",
       "      <td>2018</td>\n",
       "      <td>160</td>\n",
       "      <td>550000</td>\n",
       "      <td>480000</td>\n",
       "    </tr>\n",
       "    <tr>\n",
       "      <th>4</th>\n",
       "      <td>2019</td>\n",
       "      <td>190</td>\n",
       "      <td>700000</td>\n",
       "      <td>600000</td>\n",
       "    </tr>\n",
       "    <tr>\n",
       "      <th>5</th>\n",
       "      <td>2020</td>\n",
       "      <td>230</td>\n",
       "      <td>680000</td>\n",
       "      <td>590000</td>\n",
       "    </tr>\n",
       "  </tbody>\n",
       "</table>\n",
       "</div>"
      ],
      "text/plain": [
       "     연도  판매량      매출     순이익\n",
       "0  2015  103  500000  370000\n",
       "1  2016   70  300000  190000\n",
       "2  2017  130  400000  300000\n",
       "3  2018  160  550000  480000\n",
       "4  2019  190  700000  600000\n",
       "5  2020  230  680000  590000"
      ]
     },
     "execution_count": 42,
     "metadata": {},
     "output_type": "execute_result"
    }
   ],
   "source": [
    "sales_data = {    \n",
    "    '연도':[2015, 2016, 2017, 2018, 2019, 2020],\n",
    "    '판매량':[103, 70, 130, 160, 190, 230],\n",
    "    '매출':[500000, 300000, 400000, 550000, 700000, 680000],\n",
    "    '순이익':[370000, 190000, 300000, 480000, 600000, 590000]\n",
    "}\n",
    "\n",
    "sales_data = pd.DataFrame(sales_data)\n",
    "sales_data"
   ]
  },
  {
   "cell_type": "code",
   "execution_count": 50,
   "metadata": {},
   "outputs": [
    {
     "data": {
      "text/plain": [
       "0    103\n",
       "1     70\n",
       "2    130\n",
       "3    160\n",
       "4    190\n",
       "5    230\n",
       "Name: 판매량, dtype: int64"
      ]
     },
     "execution_count": 50,
     "metadata": {},
     "output_type": "execute_result"
    }
   ],
   "source": [
    "sales_data[sales_data['매출'] > 300000]\n",
    "sales_data['판매량']\n"
   ]
  },
  {
   "cell_type": "code",
   "execution_count": 52,
   "metadata": {},
   "outputs": [
    {
     "data": {
      "text/plain": [
       "0    103\n",
       "1     70\n",
       "2    130\n",
       "3    160\n",
       "4    190\n",
       "5      0\n",
       "Name: 판매량, dtype: int64"
      ]
     },
     "execution_count": 52,
     "metadata": {},
     "output_type": "execute_result"
    }
   ],
   "source": [
    "import numpy as np\n",
    "sales_data['판매량'].apply(lambda x: 0 if x>200 else x)"
   ]
  },
  {
   "cell_type": "code",
   "execution_count": 53,
   "metadata": {},
   "outputs": [
    {
     "data": {
      "text/html": [
       "<div>\n",
       "<style scoped>\n",
       "    .dataframe tbody tr th:only-of-type {\n",
       "        vertical-align: middle;\n",
       "    }\n",
       "\n",
       "    .dataframe tbody tr th {\n",
       "        vertical-align: top;\n",
       "    }\n",
       "\n",
       "    .dataframe thead th {\n",
       "        text-align: right;\n",
       "    }\n",
       "</style>\n",
       "<table border=\"1\" class=\"dataframe\">\n",
       "  <thead>\n",
       "    <tr style=\"text-align: right;\">\n",
       "      <th></th>\n",
       "      <th>연도</th>\n",
       "      <th>판매량</th>\n",
       "      <th>매출</th>\n",
       "      <th>순이익</th>\n",
       "      <th>순이익율</th>\n",
       "      <th>순이익율_비교</th>\n",
       "      <th>테스트1</th>\n",
       "    </tr>\n",
       "  </thead>\n",
       "  <tbody>\n",
       "    <tr>\n",
       "      <th>0</th>\n",
       "      <td>2015</td>\n",
       "      <td>103</td>\n",
       "      <td>500000</td>\n",
       "      <td>370000</td>\n",
       "      <td>74.000000</td>\n",
       "      <td>낮음</td>\n",
       "      <td>103</td>\n",
       "    </tr>\n",
       "    <tr>\n",
       "      <th>1</th>\n",
       "      <td>2016</td>\n",
       "      <td>70</td>\n",
       "      <td>300000</td>\n",
       "      <td>190000</td>\n",
       "      <td>63.333333</td>\n",
       "      <td>낮음</td>\n",
       "      <td>70</td>\n",
       "    </tr>\n",
       "    <tr>\n",
       "      <th>2</th>\n",
       "      <td>2017</td>\n",
       "      <td>130</td>\n",
       "      <td>400000</td>\n",
       "      <td>300000</td>\n",
       "      <td>75.000000</td>\n",
       "      <td>낮음</td>\n",
       "      <td>130</td>\n",
       "    </tr>\n",
       "    <tr>\n",
       "      <th>3</th>\n",
       "      <td>2018</td>\n",
       "      <td>160</td>\n",
       "      <td>550000</td>\n",
       "      <td>480000</td>\n",
       "      <td>87.272727</td>\n",
       "      <td>높음</td>\n",
       "      <td>160</td>\n",
       "    </tr>\n",
       "    <tr>\n",
       "      <th>4</th>\n",
       "      <td>2019</td>\n",
       "      <td>190</td>\n",
       "      <td>700000</td>\n",
       "      <td>600000</td>\n",
       "      <td>85.714286</td>\n",
       "      <td>높음</td>\n",
       "      <td>190</td>\n",
       "    </tr>\n",
       "    <tr>\n",
       "      <th>5</th>\n",
       "      <td>2020</td>\n",
       "      <td>230</td>\n",
       "      <td>680000</td>\n",
       "      <td>590000</td>\n",
       "      <td>86.764706</td>\n",
       "      <td>높음</td>\n",
       "      <td>0</td>\n",
       "    </tr>\n",
       "  </tbody>\n",
       "</table>\n",
       "</div>"
      ],
      "text/plain": [
       "     연도  판매량      매출     순이익       순이익율 순이익율_비교  테스트1\n",
       "0  2015  103  500000  370000  74.000000      낮음   103\n",
       "1  2016   70  300000  190000  63.333333      낮음    70\n",
       "2  2017  130  400000  300000  75.000000      낮음   130\n",
       "3  2018  160  550000  480000  87.272727      높음   160\n",
       "4  2019  190  700000  600000  85.714286      높음   190\n",
       "5  2020  230  680000  590000  86.764706      높음     0"
      ]
     },
     "execution_count": 53,
     "metadata": {},
     "output_type": "execute_result"
    }
   ],
   "source": [
    "sales_data['테스트1'] = np.where(sales_data['판매량'] > 200, 0, sales_data['판매량'])\n",
    "sales_data"
   ]
  },
  {
   "cell_type": "code",
   "execution_count": 54,
   "metadata": {},
   "outputs": [
    {
     "data": {
      "text/html": [
       "<div>\n",
       "<style scoped>\n",
       "    .dataframe tbody tr th:only-of-type {\n",
       "        vertical-align: middle;\n",
       "    }\n",
       "\n",
       "    .dataframe tbody tr th {\n",
       "        vertical-align: top;\n",
       "    }\n",
       "\n",
       "    .dataframe thead th {\n",
       "        text-align: right;\n",
       "    }\n",
       "</style>\n",
       "<table border=\"1\" class=\"dataframe\">\n",
       "  <thead>\n",
       "    <tr style=\"text-align: right;\">\n",
       "      <th></th>\n",
       "      <th>연도</th>\n",
       "      <th>판매량</th>\n",
       "      <th>매출</th>\n",
       "      <th>순이익</th>\n",
       "      <th>순이익율</th>\n",
       "      <th>순이익율_비교</th>\n",
       "      <th>테스트1</th>\n",
       "      <th>테스트2</th>\n",
       "    </tr>\n",
       "  </thead>\n",
       "  <tbody>\n",
       "    <tr>\n",
       "      <th>0</th>\n",
       "      <td>2015</td>\n",
       "      <td>103</td>\n",
       "      <td>500000</td>\n",
       "      <td>370000</td>\n",
       "      <td>74.000000</td>\n",
       "      <td>낮음</td>\n",
       "      <td>103</td>\n",
       "      <td>NaN</td>\n",
       "    </tr>\n",
       "    <tr>\n",
       "      <th>1</th>\n",
       "      <td>2016</td>\n",
       "      <td>70</td>\n",
       "      <td>300000</td>\n",
       "      <td>190000</td>\n",
       "      <td>63.333333</td>\n",
       "      <td>낮음</td>\n",
       "      <td>70</td>\n",
       "      <td>120.0</td>\n",
       "    </tr>\n",
       "    <tr>\n",
       "      <th>2</th>\n",
       "      <td>2017</td>\n",
       "      <td>130</td>\n",
       "      <td>400000</td>\n",
       "      <td>300000</td>\n",
       "      <td>75.000000</td>\n",
       "      <td>낮음</td>\n",
       "      <td>130</td>\n",
       "      <td>NaN</td>\n",
       "    </tr>\n",
       "    <tr>\n",
       "      <th>3</th>\n",
       "      <td>2018</td>\n",
       "      <td>160</td>\n",
       "      <td>550000</td>\n",
       "      <td>480000</td>\n",
       "      <td>87.272727</td>\n",
       "      <td>높음</td>\n",
       "      <td>160</td>\n",
       "      <td>NaN</td>\n",
       "    </tr>\n",
       "    <tr>\n",
       "      <th>4</th>\n",
       "      <td>2019</td>\n",
       "      <td>190</td>\n",
       "      <td>700000</td>\n",
       "      <td>600000</td>\n",
       "      <td>85.714286</td>\n",
       "      <td>높음</td>\n",
       "      <td>190</td>\n",
       "      <td>NaN</td>\n",
       "    </tr>\n",
       "    <tr>\n",
       "      <th>5</th>\n",
       "      <td>2020</td>\n",
       "      <td>230</td>\n",
       "      <td>680000</td>\n",
       "      <td>590000</td>\n",
       "      <td>86.764706</td>\n",
       "      <td>높음</td>\n",
       "      <td>0</td>\n",
       "      <td>NaN</td>\n",
       "    </tr>\n",
       "  </tbody>\n",
       "</table>\n",
       "</div>"
      ],
      "text/plain": [
       "     연도  판매량      매출     순이익       순이익율 순이익율_비교  테스트1   테스트2\n",
       "0  2015  103  500000  370000  74.000000      낮음   103    NaN\n",
       "1  2016   70  300000  190000  63.333333      낮음    70  120.0\n",
       "2  2017  130  400000  300000  75.000000      낮음   130    NaN\n",
       "3  2018  160  550000  480000  87.272727      높음   160    NaN\n",
       "4  2019  190  700000  600000  85.714286      높음   190    NaN\n",
       "5  2020  230  680000  590000  86.764706      높음     0    NaN"
      ]
     },
     "execution_count": 54,
     "metadata": {},
     "output_type": "execute_result"
    }
   ],
   "source": [
    "sales_data['테스트2'] = sales_data[sales_data['판매량'] < 100]['판매량'] + 50\n",
    "sales_data"
   ]
  },
  {
   "cell_type": "code",
   "execution_count": 58,
   "metadata": {},
   "outputs": [
    {
     "ename": "ValueError",
     "evalue": "cannot set a row with mismatched columns",
     "output_type": "error",
     "traceback": [
      "\u001b[1;31m---------------------------------------------------------------------------\u001b[0m",
      "\u001b[1;31mValueError\u001b[0m                                Traceback (most recent call last)",
      "\u001b[1;32mc:\\Users\\gdevw\\바탕 화면\\MLP-Python\\실습\\실습 채우기\\7_0_pandas.ipynb 셀 67\u001b[0m in \u001b[0;36m<cell line: 1>\u001b[1;34m()\u001b[0m\n\u001b[1;32m----> <a href='vscode-notebook-cell:/c%3A/Users/gdevw/%EB%B0%94%ED%83%95%20%ED%99%94%EB%A9%B4/MLP-Python/%EC%8B%A4%EC%8A%B5/%EC%8B%A4%EC%8A%B5%20%EC%B1%84%EC%9A%B0%EA%B8%B0/7_0_pandas.ipynb#Y104sZmlsZQ%3D%3D?line=0'>1</a>\u001b[0m sales_data\u001b[39m.\u001b[39;49mloc[\u001b[39m6\u001b[39;49m] \u001b[39m=\u001b[39m [\u001b[39m2021\u001b[39m, \u001b[39m720000\u001b[39m,\u001b[39m650000\u001b[39m, \u001b[39m360\u001b[39m, \u001b[39m0\u001b[39m, \u001b[39m0\u001b[39m]\n\u001b[0;32m      <a href='vscode-notebook-cell:/c%3A/Users/gdevw/%EB%B0%94%ED%83%95%20%ED%99%94%EB%A9%B4/MLP-Python/%EC%8B%A4%EC%8A%B5/%EC%8B%A4%EC%8A%B5%20%EC%B1%84%EC%9A%B0%EA%B8%B0/7_0_pandas.ipynb#Y104sZmlsZQ%3D%3D?line=1'>2</a>\u001b[0m sales_data\n",
      "File \u001b[1;32mc:\\Users\\gdevw\\anaconda3\\envs\\study\\lib\\site-packages\\pandas\\core\\indexing.py:716\u001b[0m, in \u001b[0;36m_LocationIndexer.__setitem__\u001b[1;34m(self, key, value)\u001b[0m\n\u001b[0;32m    713\u001b[0m \u001b[39mself\u001b[39m\u001b[39m.\u001b[39m_has_valid_setitem_indexer(key)\n\u001b[0;32m    715\u001b[0m iloc \u001b[39m=\u001b[39m \u001b[39mself\u001b[39m \u001b[39mif\u001b[39;00m \u001b[39mself\u001b[39m\u001b[39m.\u001b[39mname \u001b[39m==\u001b[39m \u001b[39m\"\u001b[39m\u001b[39miloc\u001b[39m\u001b[39m\"\u001b[39m \u001b[39melse\u001b[39;00m \u001b[39mself\u001b[39m\u001b[39m.\u001b[39mobj\u001b[39m.\u001b[39miloc\n\u001b[1;32m--> 716\u001b[0m iloc\u001b[39m.\u001b[39;49m_setitem_with_indexer(indexer, value, \u001b[39mself\u001b[39;49m\u001b[39m.\u001b[39;49mname)\n",
      "File \u001b[1;32mc:\\Users\\gdevw\\anaconda3\\envs\\study\\lib\\site-packages\\pandas\\core\\indexing.py:1682\u001b[0m, in \u001b[0;36m_iLocIndexer._setitem_with_indexer\u001b[1;34m(self, indexer, value, name)\u001b[0m\n\u001b[0;32m   1679\u001b[0m     indexer, missing \u001b[39m=\u001b[39m convert_missing_indexer(indexer)\n\u001b[0;32m   1681\u001b[0m     \u001b[39mif\u001b[39;00m missing:\n\u001b[1;32m-> 1682\u001b[0m         \u001b[39mself\u001b[39;49m\u001b[39m.\u001b[39;49m_setitem_with_indexer_missing(indexer, value)\n\u001b[0;32m   1683\u001b[0m         \u001b[39mreturn\u001b[39;00m\n\u001b[0;32m   1685\u001b[0m \u001b[39m# align and set the values\u001b[39;00m\n",
      "File \u001b[1;32mc:\\Users\\gdevw\\anaconda3\\envs\\study\\lib\\site-packages\\pandas\\core\\indexing.py:1998\u001b[0m, in \u001b[0;36m_iLocIndexer._setitem_with_indexer_missing\u001b[1;34m(self, indexer, value)\u001b[0m\n\u001b[0;32m   1995\u001b[0m     \u001b[39mif\u001b[39;00m is_list_like_indexer(value):\n\u001b[0;32m   1996\u001b[0m         \u001b[39m# must have conforming columns\u001b[39;00m\n\u001b[0;32m   1997\u001b[0m         \u001b[39mif\u001b[39;00m \u001b[39mlen\u001b[39m(value) \u001b[39m!=\u001b[39m \u001b[39mlen\u001b[39m(\u001b[39mself\u001b[39m\u001b[39m.\u001b[39mobj\u001b[39m.\u001b[39mcolumns):\n\u001b[1;32m-> 1998\u001b[0m             \u001b[39mraise\u001b[39;00m \u001b[39mValueError\u001b[39;00m(\u001b[39m\"\u001b[39m\u001b[39mcannot set a row with mismatched columns\u001b[39m\u001b[39m\"\u001b[39m)\n\u001b[0;32m   2000\u001b[0m     value \u001b[39m=\u001b[39m Series(value, index\u001b[39m=\u001b[39m\u001b[39mself\u001b[39m\u001b[39m.\u001b[39mobj\u001b[39m.\u001b[39mcolumns, name\u001b[39m=\u001b[39mindexer)\n\u001b[0;32m   2002\u001b[0m \u001b[39mif\u001b[39;00m \u001b[39mnot\u001b[39;00m \u001b[39mlen\u001b[39m(\u001b[39mself\u001b[39m\u001b[39m.\u001b[39mobj):\n\u001b[0;32m   2003\u001b[0m     \u001b[39m# We will ignore the existing dtypes instead of using\u001b[39;00m\n\u001b[0;32m   2004\u001b[0m     \u001b[39m#  internals.concat logic\u001b[39;00m\n",
      "\u001b[1;31mValueError\u001b[0m: cannot set a row with mismatched columns"
     ]
    }
   ],
   "source": [
    "sales_data.loc[6] = [2021, 720000,650000, 360, 0, 0]\n",
    "sales_data"
   ]
  },
  {
   "cell_type": "code",
   "execution_count": 59,
   "metadata": {},
   "outputs": [
    {
     "ename": "TypeError",
     "evalue": "can only concatenate str (not \"int\") to str",
     "output_type": "error",
     "traceback": [
      "\u001b[1;31m---------------------------------------------------------------------------\u001b[0m",
      "\u001b[1;31mTypeError\u001b[0m                                 Traceback (most recent call last)",
      "File \u001b[1;32mc:\\Users\\gdevw\\anaconda3\\envs\\study\\lib\\site-packages\\pandas\\core\\ops\\array_ops.py:163\u001b[0m, in \u001b[0;36m_na_arithmetic_op\u001b[1;34m(left, right, op, is_cmp)\u001b[0m\n\u001b[0;32m    162\u001b[0m \u001b[39mtry\u001b[39;00m:\n\u001b[1;32m--> 163\u001b[0m     result \u001b[39m=\u001b[39m func(left, right)\n\u001b[0;32m    164\u001b[0m \u001b[39mexcept\u001b[39;00m \u001b[39mTypeError\u001b[39;00m:\n",
      "File \u001b[1;32mc:\\Users\\gdevw\\anaconda3\\envs\\study\\lib\\site-packages\\pandas\\core\\computation\\expressions.py:239\u001b[0m, in \u001b[0;36mevaluate\u001b[1;34m(op, a, b, use_numexpr)\u001b[0m\n\u001b[0;32m    237\u001b[0m     \u001b[39mif\u001b[39;00m use_numexpr:\n\u001b[0;32m    238\u001b[0m         \u001b[39m# error: \"None\" not callable\u001b[39;00m\n\u001b[1;32m--> 239\u001b[0m         \u001b[39mreturn\u001b[39;00m _evaluate(op, op_str, a, b)  \u001b[39m# type: ignore[misc]\u001b[39;00m\n\u001b[0;32m    240\u001b[0m \u001b[39mreturn\u001b[39;00m _evaluate_standard(op, op_str, a, b)\n",
      "File \u001b[1;32mc:\\Users\\gdevw\\anaconda3\\envs\\study\\lib\\site-packages\\pandas\\core\\computation\\expressions.py:69\u001b[0m, in \u001b[0;36m_evaluate_standard\u001b[1;34m(op, op_str, a, b)\u001b[0m\n\u001b[0;32m     68\u001b[0m     _store_test_result(\u001b[39mFalse\u001b[39;00m)\n\u001b[1;32m---> 69\u001b[0m \u001b[39mreturn\u001b[39;00m op(a, b)\n",
      "\u001b[1;31mTypeError\u001b[0m: can only concatenate str (not \"int\") to str",
      "\nDuring handling of the above exception, another exception occurred:\n",
      "\u001b[1;31mTypeError\u001b[0m                                 Traceback (most recent call last)",
      "\u001b[1;32mc:\\Users\\gdevw\\바탕 화면\\MLP-Python\\실습\\실습 채우기\\7_0_pandas.ipynb 셀 68\u001b[0m in \u001b[0;36m<cell line: 1>\u001b[1;34m()\u001b[0m\n\u001b[1;32m----> <a href='vscode-notebook-cell:/c%3A/Users/gdevw/%EB%B0%94%ED%83%95%20%ED%99%94%EB%A9%B4/MLP-Python/%EC%8B%A4%EC%8A%B5/%EC%8B%A4%EC%8A%B5%20%EC%B1%84%EC%9A%B0%EA%B8%B0/7_0_pandas.ipynb#Y105sZmlsZQ%3D%3D?line=0'>1</a>\u001b[0m sales_data\u001b[39m.\u001b[39mloc[\u001b[39m7\u001b[39m] \u001b[39m=\u001b[39m sales_data\u001b[39m.\u001b[39;49mloc[\u001b[39m5\u001b[39;49m] \u001b[39m+\u001b[39;49m \u001b[39m100\u001b[39;49m\n\u001b[0;32m      <a href='vscode-notebook-cell:/c%3A/Users/gdevw/%EB%B0%94%ED%83%95%20%ED%99%94%EB%A9%B4/MLP-Python/%EC%8B%A4%EC%8A%B5/%EC%8B%A4%EC%8A%B5%20%EC%B1%84%EC%9A%B0%EA%B8%B0/7_0_pandas.ipynb#Y105sZmlsZQ%3D%3D?line=1'>2</a>\u001b[0m sales_data\n",
      "File \u001b[1;32mc:\\Users\\gdevw\\anaconda3\\envs\\study\\lib\\site-packages\\pandas\\core\\ops\\common.py:70\u001b[0m, in \u001b[0;36m_unpack_zerodim_and_defer.<locals>.new_method\u001b[1;34m(self, other)\u001b[0m\n\u001b[0;32m     66\u001b[0m             \u001b[39mreturn\u001b[39;00m \u001b[39mNotImplemented\u001b[39m\n\u001b[0;32m     68\u001b[0m other \u001b[39m=\u001b[39m item_from_zerodim(other)\n\u001b[1;32m---> 70\u001b[0m \u001b[39mreturn\u001b[39;00m method(\u001b[39mself\u001b[39;49m, other)\n",
      "File \u001b[1;32mc:\\Users\\gdevw\\anaconda3\\envs\\study\\lib\\site-packages\\pandas\\core\\arraylike.py:100\u001b[0m, in \u001b[0;36mOpsMixin.__add__\u001b[1;34m(self, other)\u001b[0m\n\u001b[0;32m     98\u001b[0m \u001b[39m@unpack_zerodim_and_defer\u001b[39m(\u001b[39m\"\u001b[39m\u001b[39m__add__\u001b[39m\u001b[39m\"\u001b[39m)\n\u001b[0;32m     99\u001b[0m \u001b[39mdef\u001b[39;00m \u001b[39m__add__\u001b[39m(\u001b[39mself\u001b[39m, other):\n\u001b[1;32m--> 100\u001b[0m     \u001b[39mreturn\u001b[39;00m \u001b[39mself\u001b[39;49m\u001b[39m.\u001b[39;49m_arith_method(other, operator\u001b[39m.\u001b[39;49madd)\n",
      "File \u001b[1;32mc:\\Users\\gdevw\\anaconda3\\envs\\study\\lib\\site-packages\\pandas\\core\\series.py:5639\u001b[0m, in \u001b[0;36mSeries._arith_method\u001b[1;34m(self, other, op)\u001b[0m\n\u001b[0;32m   5637\u001b[0m \u001b[39mdef\u001b[39;00m \u001b[39m_arith_method\u001b[39m(\u001b[39mself\u001b[39m, other, op):\n\u001b[0;32m   5638\u001b[0m     \u001b[39mself\u001b[39m, other \u001b[39m=\u001b[39m ops\u001b[39m.\u001b[39malign_method_SERIES(\u001b[39mself\u001b[39m, other)\n\u001b[1;32m-> 5639\u001b[0m     \u001b[39mreturn\u001b[39;00m base\u001b[39m.\u001b[39;49mIndexOpsMixin\u001b[39m.\u001b[39;49m_arith_method(\u001b[39mself\u001b[39;49m, other, op)\n",
      "File \u001b[1;32mc:\\Users\\gdevw\\anaconda3\\envs\\study\\lib\\site-packages\\pandas\\core\\base.py:1295\u001b[0m, in \u001b[0;36mIndexOpsMixin._arith_method\u001b[1;34m(self, other, op)\u001b[0m\n\u001b[0;32m   1292\u001b[0m rvalues \u001b[39m=\u001b[39m ensure_wrapped_if_datetimelike(rvalues)\n\u001b[0;32m   1294\u001b[0m \u001b[39mwith\u001b[39;00m np\u001b[39m.\u001b[39merrstate(\u001b[39mall\u001b[39m\u001b[39m=\u001b[39m\u001b[39m\"\u001b[39m\u001b[39mignore\u001b[39m\u001b[39m\"\u001b[39m):\n\u001b[1;32m-> 1295\u001b[0m     result \u001b[39m=\u001b[39m ops\u001b[39m.\u001b[39;49marithmetic_op(lvalues, rvalues, op)\n\u001b[0;32m   1297\u001b[0m \u001b[39mreturn\u001b[39;00m \u001b[39mself\u001b[39m\u001b[39m.\u001b[39m_construct_result(result, name\u001b[39m=\u001b[39mres_name)\n",
      "File \u001b[1;32mc:\\Users\\gdevw\\anaconda3\\envs\\study\\lib\\site-packages\\pandas\\core\\ops\\array_ops.py:222\u001b[0m, in \u001b[0;36marithmetic_op\u001b[1;34m(left, right, op)\u001b[0m\n\u001b[0;32m    217\u001b[0m \u001b[39melse\u001b[39;00m:\n\u001b[0;32m    218\u001b[0m     \u001b[39m# TODO we should handle EAs consistently and move this check before the if/else\u001b[39;00m\n\u001b[0;32m    219\u001b[0m     \u001b[39m# (https://github.com/pandas-dev/pandas/issues/41165)\u001b[39;00m\n\u001b[0;32m    220\u001b[0m     _bool_arith_check(op, left, right)\n\u001b[1;32m--> 222\u001b[0m     res_values \u001b[39m=\u001b[39m _na_arithmetic_op(left, right, op)\n\u001b[0;32m    224\u001b[0m \u001b[39mreturn\u001b[39;00m res_values\n",
      "File \u001b[1;32mc:\\Users\\gdevw\\anaconda3\\envs\\study\\lib\\site-packages\\pandas\\core\\ops\\array_ops.py:170\u001b[0m, in \u001b[0;36m_na_arithmetic_op\u001b[1;34m(left, right, op, is_cmp)\u001b[0m\n\u001b[0;32m    164\u001b[0m \u001b[39mexcept\u001b[39;00m \u001b[39mTypeError\u001b[39;00m:\n\u001b[0;32m    165\u001b[0m     \u001b[39mif\u001b[39;00m \u001b[39mnot\u001b[39;00m is_cmp \u001b[39mand\u001b[39;00m (is_object_dtype(left\u001b[39m.\u001b[39mdtype) \u001b[39mor\u001b[39;00m is_object_dtype(right)):\n\u001b[0;32m    166\u001b[0m         \u001b[39m# For object dtype, fallback to a masked operation (only operating\u001b[39;00m\n\u001b[0;32m    167\u001b[0m         \u001b[39m#  on the non-missing values)\u001b[39;00m\n\u001b[0;32m    168\u001b[0m         \u001b[39m# Don't do this for comparisons, as that will handle complex numbers\u001b[39;00m\n\u001b[0;32m    169\u001b[0m         \u001b[39m#  incorrectly, see GH#32047\u001b[39;00m\n\u001b[1;32m--> 170\u001b[0m         result \u001b[39m=\u001b[39m _masked_arith_op(left, right, op)\n\u001b[0;32m    171\u001b[0m     \u001b[39melse\u001b[39;00m:\n\u001b[0;32m    172\u001b[0m         \u001b[39mraise\u001b[39;00m\n",
      "File \u001b[1;32mc:\\Users\\gdevw\\anaconda3\\envs\\study\\lib\\site-packages\\pandas\\core\\ops\\array_ops.py:127\u001b[0m, in \u001b[0;36m_masked_arith_op\u001b[1;34m(x, y, op)\u001b[0m\n\u001b[0;32m    124\u001b[0m         mask \u001b[39m=\u001b[39m np\u001b[39m.\u001b[39mwhere(y \u001b[39m==\u001b[39m \u001b[39m1\u001b[39m, \u001b[39mFalse\u001b[39;00m, mask)\n\u001b[0;32m    126\u001b[0m     \u001b[39mif\u001b[39;00m mask\u001b[39m.\u001b[39many():\n\u001b[1;32m--> 127\u001b[0m         result[mask] \u001b[39m=\u001b[39m op(xrav[mask], y)\n\u001b[0;32m    129\u001b[0m np\u001b[39m.\u001b[39mputmask(result, \u001b[39m~\u001b[39mmask, np\u001b[39m.\u001b[39mnan)\n\u001b[0;32m    130\u001b[0m result \u001b[39m=\u001b[39m result\u001b[39m.\u001b[39mreshape(x\u001b[39m.\u001b[39mshape)  \u001b[39m# 2D compat\u001b[39;00m\n",
      "\u001b[1;31mTypeError\u001b[0m: can only concatenate str (not \"int\") to str"
     ]
    }
   ],
   "source": [
    "sales_data.loc[7] = sales_data.loc[5] + 100\n",
    "sales_data\n"
   ]
  },
  {
   "cell_type": "markdown",
   "metadata": {},
   "source": [
    "## 데이터 삭제"
   ]
  },
  {
   "cell_type": "code",
   "execution_count": 60,
   "metadata": {},
   "outputs": [
    {
     "data": {
      "text/html": [
       "<div>\n",
       "<style scoped>\n",
       "    .dataframe tbody tr th:only-of-type {\n",
       "        vertical-align: middle;\n",
       "    }\n",
       "\n",
       "    .dataframe tbody tr th {\n",
       "        vertical-align: top;\n",
       "    }\n",
       "\n",
       "    .dataframe thead th {\n",
       "        text-align: right;\n",
       "    }\n",
       "</style>\n",
       "<table border=\"1\" class=\"dataframe\">\n",
       "  <thead>\n",
       "    <tr style=\"text-align: right;\">\n",
       "      <th></th>\n",
       "      <th>연도</th>\n",
       "      <th>판매량</th>\n",
       "      <th>매출</th>\n",
       "      <th>순이익</th>\n",
       "      <th>테스트1</th>\n",
       "      <th>테스트2</th>\n",
       "      <th>테스트3</th>\n",
       "    </tr>\n",
       "  </thead>\n",
       "  <tbody>\n",
       "    <tr>\n",
       "      <th>0</th>\n",
       "      <td>2015</td>\n",
       "      <td>103</td>\n",
       "      <td>500000</td>\n",
       "      <td>370000</td>\n",
       "      <td>test1</td>\n",
       "      <td>test2</td>\n",
       "      <td>test3</td>\n",
       "    </tr>\n",
       "    <tr>\n",
       "      <th>1</th>\n",
       "      <td>2016</td>\n",
       "      <td>70</td>\n",
       "      <td>300000</td>\n",
       "      <td>190000</td>\n",
       "      <td>test1</td>\n",
       "      <td>test2</td>\n",
       "      <td>test3</td>\n",
       "    </tr>\n",
       "    <tr>\n",
       "      <th>2</th>\n",
       "      <td>2017</td>\n",
       "      <td>130</td>\n",
       "      <td>400000</td>\n",
       "      <td>300000</td>\n",
       "      <td>test1</td>\n",
       "      <td>test2</td>\n",
       "      <td>test3</td>\n",
       "    </tr>\n",
       "    <tr>\n",
       "      <th>3</th>\n",
       "      <td>2018</td>\n",
       "      <td>160</td>\n",
       "      <td>550000</td>\n",
       "      <td>480000</td>\n",
       "      <td>test1</td>\n",
       "      <td>test2</td>\n",
       "      <td>test3</td>\n",
       "    </tr>\n",
       "    <tr>\n",
       "      <th>4</th>\n",
       "      <td>2019</td>\n",
       "      <td>190</td>\n",
       "      <td>700000</td>\n",
       "      <td>600000</td>\n",
       "      <td>test1</td>\n",
       "      <td>test2</td>\n",
       "      <td>test3</td>\n",
       "    </tr>\n",
       "    <tr>\n",
       "      <th>5</th>\n",
       "      <td>2020</td>\n",
       "      <td>230</td>\n",
       "      <td>680000</td>\n",
       "      <td>590000</td>\n",
       "      <td>test1</td>\n",
       "      <td>test2</td>\n",
       "      <td>test3</td>\n",
       "    </tr>\n",
       "  </tbody>\n",
       "</table>\n",
       "</div>"
      ],
      "text/plain": [
       "     연도  판매량      매출     순이익   테스트1   테스트2   테스트3\n",
       "0  2015  103  500000  370000  test1  test2  test3\n",
       "1  2016   70  300000  190000  test1  test2  test3\n",
       "2  2017  130  400000  300000  test1  test2  test3\n",
       "3  2018  160  550000  480000  test1  test2  test3\n",
       "4  2019  190  700000  600000  test1  test2  test3\n",
       "5  2020  230  680000  590000  test1  test2  test3"
      ]
     },
     "execution_count": 60,
     "metadata": {},
     "output_type": "execute_result"
    }
   ],
   "source": [
    "sales_data = {    \n",
    "    '연도':[2015, 2016, 2017, 2018, 2019, 2020],\n",
    "    '판매량':[103, 70, 130, 160, 190, 230],\n",
    "    '매출':[500000, 300000, 400000, 550000, 700000, 680000],\n",
    "    '순이익':[370000, 190000, 300000, 480000, 600000, 590000]\n",
    "}\n",
    "\n",
    "sales_data = pd.DataFrame(sales_data)\n",
    "sales_data['테스트1'] = 'test1'\n",
    "sales_data['테스트2'] = 'test2'\n",
    "sales_data['테스트3'] = 'test3'\n",
    "\n",
    "sales_data"
   ]
  },
  {
   "cell_type": "code",
   "execution_count": 61,
   "metadata": {},
   "outputs": [
    {
     "data": {
      "text/html": [
       "<div>\n",
       "<style scoped>\n",
       "    .dataframe tbody tr th:only-of-type {\n",
       "        vertical-align: middle;\n",
       "    }\n",
       "\n",
       "    .dataframe tbody tr th {\n",
       "        vertical-align: top;\n",
       "    }\n",
       "\n",
       "    .dataframe thead th {\n",
       "        text-align: right;\n",
       "    }\n",
       "</style>\n",
       "<table border=\"1\" class=\"dataframe\">\n",
       "  <thead>\n",
       "    <tr style=\"text-align: right;\">\n",
       "      <th></th>\n",
       "      <th>연도</th>\n",
       "      <th>판매량</th>\n",
       "      <th>매출</th>\n",
       "      <th>순이익</th>\n",
       "      <th>테스트2</th>\n",
       "      <th>테스트3</th>\n",
       "    </tr>\n",
       "  </thead>\n",
       "  <tbody>\n",
       "    <tr>\n",
       "      <th>0</th>\n",
       "      <td>2015</td>\n",
       "      <td>103</td>\n",
       "      <td>500000</td>\n",
       "      <td>370000</td>\n",
       "      <td>test2</td>\n",
       "      <td>test3</td>\n",
       "    </tr>\n",
       "    <tr>\n",
       "      <th>1</th>\n",
       "      <td>2016</td>\n",
       "      <td>70</td>\n",
       "      <td>300000</td>\n",
       "      <td>190000</td>\n",
       "      <td>test2</td>\n",
       "      <td>test3</td>\n",
       "    </tr>\n",
       "    <tr>\n",
       "      <th>2</th>\n",
       "      <td>2017</td>\n",
       "      <td>130</td>\n",
       "      <td>400000</td>\n",
       "      <td>300000</td>\n",
       "      <td>test2</td>\n",
       "      <td>test3</td>\n",
       "    </tr>\n",
       "    <tr>\n",
       "      <th>3</th>\n",
       "      <td>2018</td>\n",
       "      <td>160</td>\n",
       "      <td>550000</td>\n",
       "      <td>480000</td>\n",
       "      <td>test2</td>\n",
       "      <td>test3</td>\n",
       "    </tr>\n",
       "    <tr>\n",
       "      <th>4</th>\n",
       "      <td>2019</td>\n",
       "      <td>190</td>\n",
       "      <td>700000</td>\n",
       "      <td>600000</td>\n",
       "      <td>test2</td>\n",
       "      <td>test3</td>\n",
       "    </tr>\n",
       "    <tr>\n",
       "      <th>5</th>\n",
       "      <td>2020</td>\n",
       "      <td>230</td>\n",
       "      <td>680000</td>\n",
       "      <td>590000</td>\n",
       "      <td>test2</td>\n",
       "      <td>test3</td>\n",
       "    </tr>\n",
       "  </tbody>\n",
       "</table>\n",
       "</div>"
      ],
      "text/plain": [
       "     연도  판매량      매출     순이익   테스트2   테스트3\n",
       "0  2015  103  500000  370000  test2  test3\n",
       "1  2016   70  300000  190000  test2  test3\n",
       "2  2017  130  400000  300000  test2  test3\n",
       "3  2018  160  550000  480000  test2  test3\n",
       "4  2019  190  700000  600000  test2  test3\n",
       "5  2020  230  680000  590000  test2  test3"
      ]
     },
     "execution_count": 61,
     "metadata": {},
     "output_type": "execute_result"
    }
   ],
   "source": [
    "del sales_data['테스트1']\n",
    "sales_data"
   ]
  },
  {
   "cell_type": "code",
   "execution_count": 62,
   "metadata": {},
   "outputs": [
    {
     "data": {
      "text/html": [
       "<div>\n",
       "<style scoped>\n",
       "    .dataframe tbody tr th:only-of-type {\n",
       "        vertical-align: middle;\n",
       "    }\n",
       "\n",
       "    .dataframe tbody tr th {\n",
       "        vertical-align: top;\n",
       "    }\n",
       "\n",
       "    .dataframe thead th {\n",
       "        text-align: right;\n",
       "    }\n",
       "</style>\n",
       "<table border=\"1\" class=\"dataframe\">\n",
       "  <thead>\n",
       "    <tr style=\"text-align: right;\">\n",
       "      <th></th>\n",
       "      <th>연도</th>\n",
       "      <th>판매량</th>\n",
       "      <th>매출</th>\n",
       "      <th>순이익</th>\n",
       "      <th>테스트3</th>\n",
       "    </tr>\n",
       "  </thead>\n",
       "  <tbody>\n",
       "    <tr>\n",
       "      <th>0</th>\n",
       "      <td>2015</td>\n",
       "      <td>103</td>\n",
       "      <td>500000</td>\n",
       "      <td>370000</td>\n",
       "      <td>test3</td>\n",
       "    </tr>\n",
       "    <tr>\n",
       "      <th>1</th>\n",
       "      <td>2016</td>\n",
       "      <td>70</td>\n",
       "      <td>300000</td>\n",
       "      <td>190000</td>\n",
       "      <td>test3</td>\n",
       "    </tr>\n",
       "    <tr>\n",
       "      <th>2</th>\n",
       "      <td>2017</td>\n",
       "      <td>130</td>\n",
       "      <td>400000</td>\n",
       "      <td>300000</td>\n",
       "      <td>test3</td>\n",
       "    </tr>\n",
       "    <tr>\n",
       "      <th>3</th>\n",
       "      <td>2018</td>\n",
       "      <td>160</td>\n",
       "      <td>550000</td>\n",
       "      <td>480000</td>\n",
       "      <td>test3</td>\n",
       "    </tr>\n",
       "    <tr>\n",
       "      <th>4</th>\n",
       "      <td>2019</td>\n",
       "      <td>190</td>\n",
       "      <td>700000</td>\n",
       "      <td>600000</td>\n",
       "      <td>test3</td>\n",
       "    </tr>\n",
       "    <tr>\n",
       "      <th>5</th>\n",
       "      <td>2020</td>\n",
       "      <td>230</td>\n",
       "      <td>680000</td>\n",
       "      <td>590000</td>\n",
       "      <td>test3</td>\n",
       "    </tr>\n",
       "  </tbody>\n",
       "</table>\n",
       "</div>"
      ],
      "text/plain": [
       "     연도  판매량      매출     순이익   테스트3\n",
       "0  2015  103  500000  370000  test3\n",
       "1  2016   70  300000  190000  test3\n",
       "2  2017  130  400000  300000  test3\n",
       "3  2018  160  550000  480000  test3\n",
       "4  2019  190  700000  600000  test3\n",
       "5  2020  230  680000  590000  test3"
      ]
     },
     "execution_count": 62,
     "metadata": {},
     "output_type": "execute_result"
    }
   ],
   "source": [
    "sales_data.drop(['테스트2'], axis='columns', inplace=True)\n",
    "sales_data"
   ]
  },
  {
   "cell_type": "code",
   "execution_count": null,
   "metadata": {},
   "outputs": [],
   "source": []
  },
  {
   "cell_type": "code",
   "execution_count": null,
   "metadata": {},
   "outputs": [],
   "source": [
    "sales_data.drop(['테스트3'], axis='columns', inplace=True)\n",
    "sales_data"
   ]
  },
  {
   "cell_type": "code",
   "execution_count": 64,
   "metadata": {},
   "outputs": [
    {
     "data": {
      "text/plain": [
       "Index(['연도', '판매량', '매출', '순이익', '테스트3'], dtype='object')"
      ]
     },
     "execution_count": 64,
     "metadata": {},
     "output_type": "execute_result"
    }
   ],
   "source": [
    "sales_data.columns[[0,2]]\n",
    "sales_data.columns"
   ]
  },
  {
   "cell_type": "code",
   "execution_count": 65,
   "metadata": {},
   "outputs": [
    {
     "data": {
      "text/html": [
       "<div>\n",
       "<style scoped>\n",
       "    .dataframe tbody tr th:only-of-type {\n",
       "        vertical-align: middle;\n",
       "    }\n",
       "\n",
       "    .dataframe tbody tr th {\n",
       "        vertical-align: top;\n",
       "    }\n",
       "\n",
       "    .dataframe thead th {\n",
       "        text-align: right;\n",
       "    }\n",
       "</style>\n",
       "<table border=\"1\" class=\"dataframe\">\n",
       "  <thead>\n",
       "    <tr style=\"text-align: right;\">\n",
       "      <th></th>\n",
       "      <th>판매량</th>\n",
       "      <th>순이익</th>\n",
       "      <th>테스트3</th>\n",
       "    </tr>\n",
       "  </thead>\n",
       "  <tbody>\n",
       "    <tr>\n",
       "      <th>0</th>\n",
       "      <td>103</td>\n",
       "      <td>370000</td>\n",
       "      <td>test3</td>\n",
       "    </tr>\n",
       "    <tr>\n",
       "      <th>1</th>\n",
       "      <td>70</td>\n",
       "      <td>190000</td>\n",
       "      <td>test3</td>\n",
       "    </tr>\n",
       "    <tr>\n",
       "      <th>2</th>\n",
       "      <td>130</td>\n",
       "      <td>300000</td>\n",
       "      <td>test3</td>\n",
       "    </tr>\n",
       "    <tr>\n",
       "      <th>3</th>\n",
       "      <td>160</td>\n",
       "      <td>480000</td>\n",
       "      <td>test3</td>\n",
       "    </tr>\n",
       "    <tr>\n",
       "      <th>4</th>\n",
       "      <td>190</td>\n",
       "      <td>600000</td>\n",
       "      <td>test3</td>\n",
       "    </tr>\n",
       "    <tr>\n",
       "      <th>5</th>\n",
       "      <td>230</td>\n",
       "      <td>590000</td>\n",
       "      <td>test3</td>\n",
       "    </tr>\n",
       "  </tbody>\n",
       "</table>\n",
       "</div>"
      ],
      "text/plain": [
       "   판매량     순이익   테스트3\n",
       "0  103  370000  test3\n",
       "1   70  190000  test3\n",
       "2  130  300000  test3\n",
       "3  160  480000  test3\n",
       "4  190  600000  test3\n",
       "5  230  590000  test3"
      ]
     },
     "execution_count": 65,
     "metadata": {},
     "output_type": "execute_result"
    }
   ],
   "source": [
    "sales_data.drop(sales_data.columns[[0, 2]], axis='columns', inplace=True)\n",
    "sales_data\n"
   ]
  },
  {
   "cell_type": "code",
   "execution_count": 66,
   "metadata": {},
   "outputs": [
    {
     "data": {
      "text/html": [
       "<div>\n",
       "<style scoped>\n",
       "    .dataframe tbody tr th:only-of-type {\n",
       "        vertical-align: middle;\n",
       "    }\n",
       "\n",
       "    .dataframe tbody tr th {\n",
       "        vertical-align: top;\n",
       "    }\n",
       "\n",
       "    .dataframe thead th {\n",
       "        text-align: right;\n",
       "    }\n",
       "</style>\n",
       "<table border=\"1\" class=\"dataframe\">\n",
       "  <thead>\n",
       "    <tr style=\"text-align: right;\">\n",
       "      <th></th>\n",
       "      <th>판매량</th>\n",
       "      <th>순이익</th>\n",
       "      <th>테스트3</th>\n",
       "    </tr>\n",
       "  </thead>\n",
       "  <tbody>\n",
       "    <tr>\n",
       "      <th>1</th>\n",
       "      <td>70</td>\n",
       "      <td>190000</td>\n",
       "      <td>test3</td>\n",
       "    </tr>\n",
       "    <tr>\n",
       "      <th>2</th>\n",
       "      <td>130</td>\n",
       "      <td>300000</td>\n",
       "      <td>test3</td>\n",
       "    </tr>\n",
       "    <tr>\n",
       "      <th>3</th>\n",
       "      <td>160</td>\n",
       "      <td>480000</td>\n",
       "      <td>test3</td>\n",
       "    </tr>\n",
       "    <tr>\n",
       "      <th>4</th>\n",
       "      <td>190</td>\n",
       "      <td>600000</td>\n",
       "      <td>test3</td>\n",
       "    </tr>\n",
       "    <tr>\n",
       "      <th>5</th>\n",
       "      <td>230</td>\n",
       "      <td>590000</td>\n",
       "      <td>test3</td>\n",
       "    </tr>\n",
       "  </tbody>\n",
       "</table>\n",
       "</div>"
      ],
      "text/plain": [
       "   판매량     순이익   테스트3\n",
       "1   70  190000  test3\n",
       "2  130  300000  test3\n",
       "3  160  480000  test3\n",
       "4  190  600000  test3\n",
       "5  230  590000  test3"
      ]
     },
     "execution_count": 66,
     "metadata": {},
     "output_type": "execute_result"
    }
   ],
   "source": [
    "sales_data.drop(0, inplace=True)\n",
    "sales_data"
   ]
  },
  {
   "cell_type": "code",
   "execution_count": 67,
   "metadata": {},
   "outputs": [
    {
     "data": {
      "text/html": [
       "<div>\n",
       "<style scoped>\n",
       "    .dataframe tbody tr th:only-of-type {\n",
       "        vertical-align: middle;\n",
       "    }\n",
       "\n",
       "    .dataframe tbody tr th {\n",
       "        vertical-align: top;\n",
       "    }\n",
       "\n",
       "    .dataframe thead th {\n",
       "        text-align: right;\n",
       "    }\n",
       "</style>\n",
       "<table border=\"1\" class=\"dataframe\">\n",
       "  <thead>\n",
       "    <tr style=\"text-align: right;\">\n",
       "      <th></th>\n",
       "      <th>판매량</th>\n",
       "      <th>순이익</th>\n",
       "      <th>테스트3</th>\n",
       "    </tr>\n",
       "  </thead>\n",
       "  <tbody>\n",
       "    <tr>\n",
       "      <th>1</th>\n",
       "      <td>70</td>\n",
       "      <td>190000</td>\n",
       "      <td>test3</td>\n",
       "    </tr>\n",
       "    <tr>\n",
       "      <th>2</th>\n",
       "      <td>130</td>\n",
       "      <td>300000</td>\n",
       "      <td>test3</td>\n",
       "    </tr>\n",
       "  </tbody>\n",
       "</table>\n",
       "</div>"
      ],
      "text/plain": [
       "   판매량     순이익   테스트3\n",
       "1   70  190000  test3\n",
       "2  130  300000  test3"
      ]
     },
     "execution_count": 67,
     "metadata": {},
     "output_type": "execute_result"
    }
   ],
   "source": [
    "sales_data.drop([3, 4, 5], inplace=True) #3,4,5행 삭제\n",
    "sales_data"
   ]
  },
  {
   "cell_type": "code",
   "execution_count": 68,
   "metadata": {},
   "outputs": [],
   "source": [
    "sales_data.reset_index(inplace=True)"
   ]
  },
  {
   "cell_type": "code",
   "execution_count": 71,
   "metadata": {},
   "outputs": [],
   "source": [
    "sales_data.drop(['index'],axis='columns') #초기화된 인덱스\n",
    "sales_data.drop(sales_data.columns[0], axis='columns',inplace=True) #인덱스까지 다 삭제"
   ]
  },
  {
   "cell_type": "markdown",
   "metadata": {},
   "source": [
    "## Dataframe MultiIndex"
   ]
  },
  {
   "cell_type": "code",
   "execution_count": 73,
   "metadata": {},
   "outputs": [
    {
     "data": {
      "text/html": [
       "<div>\n",
       "<style scoped>\n",
       "    .dataframe tbody tr th:only-of-type {\n",
       "        vertical-align: middle;\n",
       "    }\n",
       "\n",
       "    .dataframe tbody tr th {\n",
       "        vertical-align: top;\n",
       "    }\n",
       "\n",
       "    .dataframe thead tr th {\n",
       "        text-align: left;\n",
       "    }\n",
       "</style>\n",
       "<table border=\"1\" class=\"dataframe\">\n",
       "  <thead>\n",
       "    <tr>\n",
       "      <th></th>\n",
       "      <th></th>\n",
       "      <th colspan=\"2\" halign=\"left\">가가</th>\n",
       "      <th colspan=\"2\" halign=\"left\">나나</th>\n",
       "    </tr>\n",
       "    <tr>\n",
       "      <th></th>\n",
       "      <th></th>\n",
       "      <th>가</th>\n",
       "      <th>나</th>\n",
       "      <th>가</th>\n",
       "      <th>나</th>\n",
       "    </tr>\n",
       "  </thead>\n",
       "  <tbody>\n",
       "    <tr>\n",
       "      <th rowspan=\"2\" valign=\"top\">A</th>\n",
       "      <th>a</th>\n",
       "      <td>1</td>\n",
       "      <td>52</td>\n",
       "      <td>79</td>\n",
       "      <td>92</td>\n",
       "    </tr>\n",
       "    <tr>\n",
       "      <th>b</th>\n",
       "      <td>25</td>\n",
       "      <td>11</td>\n",
       "      <td>97</td>\n",
       "      <td>56</td>\n",
       "    </tr>\n",
       "    <tr>\n",
       "      <th rowspan=\"2\" valign=\"top\">B</th>\n",
       "      <th>a</th>\n",
       "      <td>14</td>\n",
       "      <td>89</td>\n",
       "      <td>82</td>\n",
       "      <td>74</td>\n",
       "    </tr>\n",
       "    <tr>\n",
       "      <th>b</th>\n",
       "      <td>29</td>\n",
       "      <td>34</td>\n",
       "      <td>51</td>\n",
       "      <td>82</td>\n",
       "    </tr>\n",
       "  </tbody>\n",
       "</table>\n",
       "</div>"
      ],
      "text/plain": [
       "     가가      나나    \n",
       "      가   나   가   나\n",
       "A a   1  52  79  92\n",
       "  b  25  11  97  56\n",
       "B a  14  89  82  74\n",
       "  b  29  34  51  82"
      ]
     },
     "execution_count": 73,
     "metadata": {},
     "output_type": "execute_result"
    }
   ],
   "source": [
    "df = pd.DataFrame(np.random.randint(1, 100, size=(4, 4)), index=[['A','A','B','B'],['a','b','a','b']], columns=[['가가','가가','나나','나나'],['가','나','가','나']])\n",
    "df"
   ]
  },
  {
   "cell_type": "code",
   "execution_count": 74,
   "metadata": {},
   "outputs": [
    {
     "data": {
      "text/html": [
       "<div>\n",
       "<style scoped>\n",
       "    .dataframe tbody tr th:only-of-type {\n",
       "        vertical-align: middle;\n",
       "    }\n",
       "\n",
       "    .dataframe tbody tr th {\n",
       "        vertical-align: top;\n",
       "    }\n",
       "\n",
       "    .dataframe thead th {\n",
       "        text-align: right;\n",
       "    }\n",
       "</style>\n",
       "<table border=\"1\" class=\"dataframe\">\n",
       "  <thead>\n",
       "    <tr style=\"text-align: right;\">\n",
       "      <th></th>\n",
       "      <th></th>\n",
       "      <th>가</th>\n",
       "      <th>나</th>\n",
       "    </tr>\n",
       "  </thead>\n",
       "  <tbody>\n",
       "    <tr>\n",
       "      <th rowspan=\"2\" valign=\"top\">A</th>\n",
       "      <th>a</th>\n",
       "      <td>1</td>\n",
       "      <td>52</td>\n",
       "    </tr>\n",
       "    <tr>\n",
       "      <th>b</th>\n",
       "      <td>25</td>\n",
       "      <td>11</td>\n",
       "    </tr>\n",
       "    <tr>\n",
       "      <th rowspan=\"2\" valign=\"top\">B</th>\n",
       "      <th>a</th>\n",
       "      <td>14</td>\n",
       "      <td>89</td>\n",
       "    </tr>\n",
       "    <tr>\n",
       "      <th>b</th>\n",
       "      <td>29</td>\n",
       "      <td>34</td>\n",
       "    </tr>\n",
       "  </tbody>\n",
       "</table>\n",
       "</div>"
      ],
      "text/plain": [
       "      가   나\n",
       "A a   1  52\n",
       "  b  25  11\n",
       "B a  14  89\n",
       "  b  29  34"
      ]
     },
     "execution_count": 74,
     "metadata": {},
     "output_type": "execute_result"
    }
   ],
   "source": [
    "df['가가']"
   ]
  },
  {
   "cell_type": "code",
   "execution_count": 75,
   "metadata": {},
   "outputs": [
    {
     "data": {
      "text/html": [
       "<div>\n",
       "<style scoped>\n",
       "    .dataframe tbody tr th:only-of-type {\n",
       "        vertical-align: middle;\n",
       "    }\n",
       "\n",
       "    .dataframe tbody tr th {\n",
       "        vertical-align: top;\n",
       "    }\n",
       "\n",
       "    .dataframe thead tr th {\n",
       "        text-align: left;\n",
       "    }\n",
       "</style>\n",
       "<table border=\"1\" class=\"dataframe\">\n",
       "  <thead>\n",
       "    <tr>\n",
       "      <th></th>\n",
       "      <th colspan=\"2\" halign=\"left\">가가</th>\n",
       "      <th colspan=\"2\" halign=\"left\">나나</th>\n",
       "    </tr>\n",
       "    <tr>\n",
       "      <th></th>\n",
       "      <th>가</th>\n",
       "      <th>나</th>\n",
       "      <th>가</th>\n",
       "      <th>나</th>\n",
       "    </tr>\n",
       "  </thead>\n",
       "  <tbody>\n",
       "    <tr>\n",
       "      <th>a</th>\n",
       "      <td>1</td>\n",
       "      <td>52</td>\n",
       "      <td>79</td>\n",
       "      <td>92</td>\n",
       "    </tr>\n",
       "    <tr>\n",
       "      <th>b</th>\n",
       "      <td>25</td>\n",
       "      <td>11</td>\n",
       "      <td>97</td>\n",
       "      <td>56</td>\n",
       "    </tr>\n",
       "  </tbody>\n",
       "</table>\n",
       "</div>"
      ],
      "text/plain": [
       "   가가      나나    \n",
       "    가   나   가   나\n",
       "a   1  52  79  92\n",
       "b  25  11  97  56"
      ]
     },
     "execution_count": 75,
     "metadata": {},
     "output_type": "execute_result"
    }
   ],
   "source": [
    "df.loc['A']\n",
    "\n"
   ]
  },
  {
   "cell_type": "code",
   "execution_count": 76,
   "metadata": {},
   "outputs": [
    {
     "data": {
      "text/plain": [
       "MultiIndex([('A', 'a'),\n",
       "            ('A', 'b'),\n",
       "            ('B', 'a'),\n",
       "            ('B', 'b')],\n",
       "           )"
      ]
     },
     "execution_count": 76,
     "metadata": {},
     "output_type": "execute_result"
    }
   ],
   "source": [
    "df.index"
   ]
  },
  {
   "cell_type": "code",
   "execution_count": 77,
   "metadata": {},
   "outputs": [
    {
     "data": {
      "text/plain": [
       "MultiIndex([('가가', '가'),\n",
       "            ('가가', '나'),\n",
       "            ('나나', '가'),\n",
       "            ('나나', '나')],\n",
       "           )"
      ]
     },
     "execution_count": 77,
     "metadata": {},
     "output_type": "execute_result"
    }
   ],
   "source": [
    "df.columns"
   ]
  },
  {
   "cell_type": "markdown",
   "metadata": {},
   "source": [
    "## GroupBy"
   ]
  },
  {
   "cell_type": "code",
   "execution_count": 41,
   "metadata": {},
   "outputs": [
    {
     "data": {
      "text/html": [
       "<div>\n",
       "<style scoped>\n",
       "    .dataframe tbody tr th:only-of-type {\n",
       "        vertical-align: middle;\n",
       "    }\n",
       "\n",
       "    .dataframe tbody tr th {\n",
       "        vertical-align: top;\n",
       "    }\n",
       "\n",
       "    .dataframe thead th {\n",
       "        text-align: right;\n",
       "    }\n",
       "</style>\n",
       "<table border=\"1\" class=\"dataframe\">\n",
       "  <thead>\n",
       "    <tr style=\"text-align: right;\">\n",
       "      <th></th>\n",
       "      <th></th>\n",
       "      <th>판매</th>\n",
       "      <th>재고</th>\n",
       "    </tr>\n",
       "    <tr>\n",
       "      <th>창고명</th>\n",
       "      <th>상품명</th>\n",
       "      <th></th>\n",
       "      <th></th>\n",
       "    </tr>\n",
       "  </thead>\n",
       "  <tbody>\n",
       "    <tr>\n",
       "      <th rowspan=\"4\" valign=\"top\">A창고</th>\n",
       "      <th>사과</th>\n",
       "      <td>37</td>\n",
       "      <td>56</td>\n",
       "    </tr>\n",
       "    <tr>\n",
       "      <th>배</th>\n",
       "      <td>91</td>\n",
       "      <td>50</td>\n",
       "    </tr>\n",
       "    <tr>\n",
       "      <th>바나나</th>\n",
       "      <td>11</td>\n",
       "      <td>34</td>\n",
       "    </tr>\n",
       "    <tr>\n",
       "      <th>사과</th>\n",
       "      <td>79</td>\n",
       "      <td>13</td>\n",
       "    </tr>\n",
       "    <tr>\n",
       "      <th rowspan=\"4\" valign=\"top\">B창고</th>\n",
       "      <th>사과</th>\n",
       "      <td>84</td>\n",
       "      <td>18</td>\n",
       "    </tr>\n",
       "    <tr>\n",
       "      <th>배</th>\n",
       "      <td>21</td>\n",
       "      <td>41</td>\n",
       "    </tr>\n",
       "    <tr>\n",
       "      <th>바나나</th>\n",
       "      <td>63</td>\n",
       "      <td>68</td>\n",
       "    </tr>\n",
       "    <tr>\n",
       "      <th>배</th>\n",
       "      <td>59</td>\n",
       "      <td>3</td>\n",
       "    </tr>\n",
       "  </tbody>\n",
       "</table>\n",
       "</div>"
      ],
      "text/plain": [
       "         판매  재고\n",
       "창고명 상품명        \n",
       "A창고 사과   37  56\n",
       "    배    91  50\n",
       "    바나나  11  34\n",
       "    사과   79  13\n",
       "B창고 사과   84  18\n",
       "    배    21  41\n",
       "    바나나  63  68\n",
       "    배    59   3"
      ]
     },
     "execution_count": 41,
     "metadata": {},
     "output_type": "execute_result"
    }
   ],
   "source": [
    "df = pd.DataFrame(np.random.randint(1, 100, size=(8, 2)), index=[['A창고','A창고','A창고','A창고','B창고','B창고','B창고','B창고'],['사과','배','바나나','사과','사과','배','바나나','배']], columns=['판매','재고'])\n",
    "df.index.names = ['창고명','상품명']\n",
    "df"
   ]
  },
  {
   "cell_type": "code",
   "execution_count": 42,
   "metadata": {},
   "outputs": [
    {
     "data": {
      "text/html": [
       "<div>\n",
       "<style scoped>\n",
       "    .dataframe tbody tr th:only-of-type {\n",
       "        vertical-align: middle;\n",
       "    }\n",
       "\n",
       "    .dataframe tbody tr th {\n",
       "        vertical-align: top;\n",
       "    }\n",
       "\n",
       "    .dataframe thead th {\n",
       "        text-align: right;\n",
       "    }\n",
       "</style>\n",
       "<table border=\"1\" class=\"dataframe\">\n",
       "  <thead>\n",
       "    <tr style=\"text-align: right;\">\n",
       "      <th></th>\n",
       "      <th>판매</th>\n",
       "      <th>재고</th>\n",
       "    </tr>\n",
       "    <tr>\n",
       "      <th>창고명</th>\n",
       "      <th></th>\n",
       "      <th></th>\n",
       "    </tr>\n",
       "  </thead>\n",
       "  <tbody>\n",
       "    <tr>\n",
       "      <th>A창고</th>\n",
       "      <td>218</td>\n",
       "      <td>153</td>\n",
       "    </tr>\n",
       "    <tr>\n",
       "      <th>B창고</th>\n",
       "      <td>227</td>\n",
       "      <td>130</td>\n",
       "    </tr>\n",
       "  </tbody>\n",
       "</table>\n",
       "</div>"
      ],
      "text/plain": [
       "      판매   재고\n",
       "창고명          \n",
       "A창고  218  153\n",
       "B창고  227  130"
      ]
     },
     "execution_count": 42,
     "metadata": {},
     "output_type": "execute_result"
    }
   ],
   "source": [
    "df.groupby('창고명').sum()"
   ]
  },
  {
   "cell_type": "code",
   "execution_count": null,
   "metadata": {},
   "outputs": [],
   "source": [
    "df.groupby('창고명').max()"
   ]
  },
  {
   "cell_type": "code",
   "execution_count": null,
   "metadata": {},
   "outputs": [],
   "source": [
    "df.groupby('창고명').min()"
   ]
  },
  {
   "cell_type": "code",
   "execution_count": 40,
   "metadata": {},
   "outputs": [
    {
     "ename": "NameError",
     "evalue": "name 'df' is not defined",
     "output_type": "error",
     "traceback": [
      "\u001b[1;31m---------------------------------------------------------------------------\u001b[0m",
      "\u001b[1;31mNameError\u001b[0m                                 Traceback (most recent call last)",
      "\u001b[1;32mc:\\Users\\gdevw\\바탕 화면\\MLP-Python\\실습\\실습 채우기\\7_0_pandas.ipynb 셀 92\u001b[0m in \u001b[0;36m<cell line: 1>\u001b[1;34m()\u001b[0m\n\u001b[1;32m----> <a href='vscode-notebook-cell:/c%3A/Users/gdevw/%EB%B0%94%ED%83%95%20%ED%99%94%EB%A9%B4/MLP-Python/%EC%8B%A4%EC%8A%B5/%EC%8B%A4%EC%8A%B5%20%EC%B1%84%EC%9A%B0%EA%B8%B0/7_0_pandas.ipynb#Y160sZmlsZQ%3D%3D?line=0'>1</a>\u001b[0m df\u001b[39m.\u001b[39mgroupby(\u001b[39m'\u001b[39m\u001b[39m상품명\u001b[39m\u001b[39m'\u001b[39m)\u001b[39m.\u001b[39msum()\n",
      "\u001b[1;31mNameError\u001b[0m: name 'df' is not defined"
     ]
    }
   ],
   "source": [
    "df.groupby('상품명').sum()"
   ]
  },
  {
   "cell_type": "code",
   "execution_count": null,
   "metadata": {},
   "outputs": [],
   "source": [
    "df.groupby(['창고명','상품명']).sum()"
   ]
  },
  {
   "cell_type": "markdown",
   "metadata": {},
   "source": [
    "## sort_values"
   ]
  },
  {
   "cell_type": "code",
   "execution_count": null,
   "metadata": {},
   "outputs": [],
   "source": [
    "df = pd.DataFrame(np.random.randint(1, 100, size=(8, 2)), index=[['A창고','A창고','A창고','A창고','B창고','B창고','B창고','B창고'],['사과','배','바나나','사과','사과','배','바나나','배']], columns=['판매','재고'])\n",
    "df"
   ]
  },
  {
   "cell_type": "code",
   "execution_count": null,
   "metadata": {},
   "outputs": [],
   "source": [
    "df.sort_values(by=\"판매\", ascending=True)"
   ]
  },
  {
   "cell_type": "code",
   "execution_count": 79,
   "metadata": {},
   "outputs": [
    {
     "data": {
      "text/html": [
       "<div>\n",
       "<style scoped>\n",
       "    .dataframe tbody tr th:only-of-type {\n",
       "        vertical-align: middle;\n",
       "    }\n",
       "\n",
       "    .dataframe tbody tr th {\n",
       "        vertical-align: top;\n",
       "    }\n",
       "\n",
       "    .dataframe thead th {\n",
       "        text-align: right;\n",
       "    }\n",
       "</style>\n",
       "<table border=\"1\" class=\"dataframe\">\n",
       "  <thead>\n",
       "    <tr style=\"text-align: right;\">\n",
       "      <th></th>\n",
       "      <th></th>\n",
       "      <th>판매</th>\n",
       "      <th>재고</th>\n",
       "    </tr>\n",
       "    <tr>\n",
       "      <th>창고명</th>\n",
       "      <th>상품명</th>\n",
       "      <th></th>\n",
       "      <th></th>\n",
       "    </tr>\n",
       "  </thead>\n",
       "  <tbody>\n",
       "    <tr>\n",
       "      <th>A창고</th>\n",
       "      <th>배</th>\n",
       "      <td>13</td>\n",
       "      <td>7</td>\n",
       "    </tr>\n",
       "    <tr>\n",
       "      <th rowspan=\"2\" valign=\"top\">B창고</th>\n",
       "      <th>배</th>\n",
       "      <td>18</td>\n",
       "      <td>68</td>\n",
       "    </tr>\n",
       "    <tr>\n",
       "      <th>사과</th>\n",
       "      <td>25</td>\n",
       "      <td>15</td>\n",
       "    </tr>\n",
       "    <tr>\n",
       "      <th>A창고</th>\n",
       "      <th>사과</th>\n",
       "      <td>49</td>\n",
       "      <td>83</td>\n",
       "    </tr>\n",
       "    <tr>\n",
       "      <th rowspan=\"2\" valign=\"top\">B창고</th>\n",
       "      <th>배</th>\n",
       "      <td>54</td>\n",
       "      <td>93</td>\n",
       "    </tr>\n",
       "    <tr>\n",
       "      <th>바나나</th>\n",
       "      <td>68</td>\n",
       "      <td>40</td>\n",
       "    </tr>\n",
       "    <tr>\n",
       "      <th rowspan=\"2\" valign=\"top\">A창고</th>\n",
       "      <th>바나나</th>\n",
       "      <td>71</td>\n",
       "      <td>26</td>\n",
       "    </tr>\n",
       "    <tr>\n",
       "      <th>사과</th>\n",
       "      <td>73</td>\n",
       "      <td>48</td>\n",
       "    </tr>\n",
       "  </tbody>\n",
       "</table>\n",
       "</div>"
      ],
      "text/plain": [
       "         판매  재고\n",
       "창고명 상품명        \n",
       "A창고 배    13   7\n",
       "B창고 배    18  68\n",
       "    사과   25  15\n",
       "A창고 사과   49  83\n",
       "B창고 배    54  93\n",
       "    바나나  68  40\n",
       "A창고 바나나  71  26\n",
       "    사과   73  48"
      ]
     },
     "execution_count": 79,
     "metadata": {},
     "output_type": "execute_result"
    }
   ],
   "source": [
    "df.sort_values(by=[\"판매\", \"재고\"], ascending=[True, False])"
   ]
  },
  {
   "cell_type": "markdown",
   "metadata": {},
   "source": [
    "## 실습2"
   ]
  },
  {
   "cell_type": "code",
   "execution_count": 43,
   "metadata": {},
   "outputs": [
    {
     "data": {
      "text/html": [
       "<div>\n",
       "<style scoped>\n",
       "    .dataframe tbody tr th:only-of-type {\n",
       "        vertical-align: middle;\n",
       "    }\n",
       "\n",
       "    .dataframe tbody tr th {\n",
       "        vertical-align: top;\n",
       "    }\n",
       "\n",
       "    .dataframe thead th {\n",
       "        text-align: right;\n",
       "    }\n",
       "</style>\n",
       "<table border=\"1\" class=\"dataframe\">\n",
       "  <thead>\n",
       "    <tr style=\"text-align: right;\">\n",
       "      <th></th>\n",
       "      <th>국어</th>\n",
       "      <th>영어</th>\n",
       "      <th>과학</th>\n",
       "      <th>총점</th>\n",
       "      <th>평균</th>\n",
       "    </tr>\n",
       "    <tr>\n",
       "      <th>학년</th>\n",
       "      <th></th>\n",
       "      <th></th>\n",
       "      <th></th>\n",
       "      <th></th>\n",
       "      <th></th>\n",
       "    </tr>\n",
       "  </thead>\n",
       "  <tbody>\n",
       "    <tr>\n",
       "      <th>1학년</th>\n",
       "      <td>321</td>\n",
       "      <td>301</td>\n",
       "      <td>354</td>\n",
       "      <td>976</td>\n",
       "      <td>244.00</td>\n",
       "    </tr>\n",
       "    <tr>\n",
       "      <th>2학년</th>\n",
       "      <td>276</td>\n",
       "      <td>154</td>\n",
       "      <td>250</td>\n",
       "      <td>680</td>\n",
       "      <td>170.00</td>\n",
       "    </tr>\n",
       "    <tr>\n",
       "      <th>3학년</th>\n",
       "      <td>263</td>\n",
       "      <td>271</td>\n",
       "      <td>219</td>\n",
       "      <td>753</td>\n",
       "      <td>188.25</td>\n",
       "    </tr>\n",
       "  </tbody>\n",
       "</table>\n",
       "</div>"
      ],
      "text/plain": [
       "      국어   영어   과학   총점      평균\n",
       "학년                             \n",
       "1학년  321  301  354  976  244.00\n",
       "2학년  276  154  250  680  170.00\n",
       "3학년  263  271  219  753  188.25"
      ]
     },
     "execution_count": 43,
     "metadata": {},
     "output_type": "execute_result"
    }
   ],
   "source": [
    "from dataclasses import dataclass\n",
    "import pandas as pd\n",
    "class_dataframe = pd.DataFrame(np.random.randint(1,100, size=(15,3)), index=[['1학년','1학년','1학년','1학년','1학년','2학년','2학년','2학년','2학년','2학년','3학년','3학년','3학년','3학년','3학년'],['1반','2반','3반','4반','5반','1반','2반','3반','4반','5반','1반','2반','3반','4반','5반']], columns = ['국어','영어','과학'])\n",
    "class_dataframe['총점'] = class_dataframe['국어'] + class_dataframe['영어'] + class_dataframe['과학']\n",
    "class_dataframe['평균'] = class_dataframe['총점']/4\n",
    "class_dataframe.index.names = ['학년','반']\n",
    "x = class_dataframe.groupby('학년').sum()\n",
    "\n",
    "x"
   ]
  },
  {
   "cell_type": "markdown",
   "metadata": {},
   "source": [
    "## 실습3"
   ]
  },
  {
   "cell_type": "code",
   "execution_count": 48,
   "metadata": {},
   "outputs": [
    {
     "data": {
      "text/html": [
       "<div>\n",
       "<style scoped>\n",
       "    .dataframe tbody tr th:only-of-type {\n",
       "        vertical-align: middle;\n",
       "    }\n",
       "\n",
       "    .dataframe tbody tr th {\n",
       "        vertical-align: top;\n",
       "    }\n",
       "\n",
       "    .dataframe thead th {\n",
       "        text-align: right;\n",
       "    }\n",
       "</style>\n",
       "<table border=\"1\" class=\"dataframe\">\n",
       "  <thead>\n",
       "    <tr style=\"text-align: right;\">\n",
       "      <th></th>\n",
       "      <th>Survived</th>\n",
       "      <th>Pclass</th>\n",
       "      <th>Name</th>\n",
       "      <th>Sex</th>\n",
       "      <th>Age</th>\n",
       "      <th>SibSp</th>\n",
       "      <th>Parch</th>\n",
       "      <th>Ticket</th>\n",
       "      <th>Fare</th>\n",
       "      <th>Cabin</th>\n",
       "      <th>Embarked</th>\n",
       "    </tr>\n",
       "    <tr>\n",
       "      <th>PassengerId</th>\n",
       "      <th></th>\n",
       "      <th></th>\n",
       "      <th></th>\n",
       "      <th></th>\n",
       "      <th></th>\n",
       "      <th></th>\n",
       "      <th></th>\n",
       "      <th></th>\n",
       "      <th></th>\n",
       "      <th></th>\n",
       "      <th></th>\n",
       "    </tr>\n",
       "  </thead>\n",
       "  <tbody>\n",
       "    <tr>\n",
       "      <th>1</th>\n",
       "      <td>0</td>\n",
       "      <td>3</td>\n",
       "      <td>Braund, Mr. Owen Harris</td>\n",
       "      <td>male</td>\n",
       "      <td>22.0</td>\n",
       "      <td>1</td>\n",
       "      <td>0</td>\n",
       "      <td>A/5 21171</td>\n",
       "      <td>7.2500</td>\n",
       "      <td>NaN</td>\n",
       "      <td>S</td>\n",
       "    </tr>\n",
       "    <tr>\n",
       "      <th>2</th>\n",
       "      <td>1</td>\n",
       "      <td>1</td>\n",
       "      <td>Cumings, Mrs. John Bradley (Florence Briggs Th...</td>\n",
       "      <td>female</td>\n",
       "      <td>38.0</td>\n",
       "      <td>1</td>\n",
       "      <td>0</td>\n",
       "      <td>PC 17599</td>\n",
       "      <td>71.2833</td>\n",
       "      <td>C85</td>\n",
       "      <td>C</td>\n",
       "    </tr>\n",
       "    <tr>\n",
       "      <th>3</th>\n",
       "      <td>1</td>\n",
       "      <td>3</td>\n",
       "      <td>Heikkinen, Miss. Laina</td>\n",
       "      <td>female</td>\n",
       "      <td>26.0</td>\n",
       "      <td>0</td>\n",
       "      <td>0</td>\n",
       "      <td>STON/O2. 3101282</td>\n",
       "      <td>7.9250</td>\n",
       "      <td>NaN</td>\n",
       "      <td>S</td>\n",
       "    </tr>\n",
       "    <tr>\n",
       "      <th>4</th>\n",
       "      <td>1</td>\n",
       "      <td>1</td>\n",
       "      <td>Futrelle, Mrs. Jacques Heath (Lily May Peel)</td>\n",
       "      <td>female</td>\n",
       "      <td>35.0</td>\n",
       "      <td>1</td>\n",
       "      <td>0</td>\n",
       "      <td>113803</td>\n",
       "      <td>53.1000</td>\n",
       "      <td>C123</td>\n",
       "      <td>S</td>\n",
       "    </tr>\n",
       "    <tr>\n",
       "      <th>5</th>\n",
       "      <td>0</td>\n",
       "      <td>3</td>\n",
       "      <td>Allen, Mr. William Henry</td>\n",
       "      <td>male</td>\n",
       "      <td>35.0</td>\n",
       "      <td>0</td>\n",
       "      <td>0</td>\n",
       "      <td>373450</td>\n",
       "      <td>8.0500</td>\n",
       "      <td>NaN</td>\n",
       "      <td>S</td>\n",
       "    </tr>\n",
       "    <tr>\n",
       "      <th>...</th>\n",
       "      <td>...</td>\n",
       "      <td>...</td>\n",
       "      <td>...</td>\n",
       "      <td>...</td>\n",
       "      <td>...</td>\n",
       "      <td>...</td>\n",
       "      <td>...</td>\n",
       "      <td>...</td>\n",
       "      <td>...</td>\n",
       "      <td>...</td>\n",
       "      <td>...</td>\n",
       "    </tr>\n",
       "    <tr>\n",
       "      <th>887</th>\n",
       "      <td>0</td>\n",
       "      <td>2</td>\n",
       "      <td>Montvila, Rev. Juozas</td>\n",
       "      <td>male</td>\n",
       "      <td>27.0</td>\n",
       "      <td>0</td>\n",
       "      <td>0</td>\n",
       "      <td>211536</td>\n",
       "      <td>13.0000</td>\n",
       "      <td>NaN</td>\n",
       "      <td>S</td>\n",
       "    </tr>\n",
       "    <tr>\n",
       "      <th>888</th>\n",
       "      <td>1</td>\n",
       "      <td>1</td>\n",
       "      <td>Graham, Miss. Margaret Edith</td>\n",
       "      <td>female</td>\n",
       "      <td>19.0</td>\n",
       "      <td>0</td>\n",
       "      <td>0</td>\n",
       "      <td>112053</td>\n",
       "      <td>30.0000</td>\n",
       "      <td>B42</td>\n",
       "      <td>S</td>\n",
       "    </tr>\n",
       "    <tr>\n",
       "      <th>889</th>\n",
       "      <td>0</td>\n",
       "      <td>3</td>\n",
       "      <td>Johnston, Miss. Catherine Helen \"Carrie\"</td>\n",
       "      <td>female</td>\n",
       "      <td>NaN</td>\n",
       "      <td>1</td>\n",
       "      <td>2</td>\n",
       "      <td>W./C. 6607</td>\n",
       "      <td>23.4500</td>\n",
       "      <td>NaN</td>\n",
       "      <td>S</td>\n",
       "    </tr>\n",
       "    <tr>\n",
       "      <th>890</th>\n",
       "      <td>1</td>\n",
       "      <td>1</td>\n",
       "      <td>Behr, Mr. Karl Howell</td>\n",
       "      <td>male</td>\n",
       "      <td>26.0</td>\n",
       "      <td>0</td>\n",
       "      <td>0</td>\n",
       "      <td>111369</td>\n",
       "      <td>30.0000</td>\n",
       "      <td>C148</td>\n",
       "      <td>C</td>\n",
       "    </tr>\n",
       "    <tr>\n",
       "      <th>891</th>\n",
       "      <td>0</td>\n",
       "      <td>3</td>\n",
       "      <td>Dooley, Mr. Patrick</td>\n",
       "      <td>male</td>\n",
       "      <td>32.0</td>\n",
       "      <td>0</td>\n",
       "      <td>0</td>\n",
       "      <td>370376</td>\n",
       "      <td>7.7500</td>\n",
       "      <td>NaN</td>\n",
       "      <td>Q</td>\n",
       "    </tr>\n",
       "  </tbody>\n",
       "</table>\n",
       "<p>891 rows × 11 columns</p>\n",
       "</div>"
      ],
      "text/plain": [
       "             Survived  Pclass  \\\n",
       "PassengerId                     \n",
       "1                   0       3   \n",
       "2                   1       1   \n",
       "3                   1       3   \n",
       "4                   1       1   \n",
       "5                   0       3   \n",
       "...               ...     ...   \n",
       "887                 0       2   \n",
       "888                 1       1   \n",
       "889                 0       3   \n",
       "890                 1       1   \n",
       "891                 0       3   \n",
       "\n",
       "                                                          Name     Sex   Age  \\\n",
       "PassengerId                                                                    \n",
       "1                                      Braund, Mr. Owen Harris    male  22.0   \n",
       "2            Cumings, Mrs. John Bradley (Florence Briggs Th...  female  38.0   \n",
       "3                                       Heikkinen, Miss. Laina  female  26.0   \n",
       "4                 Futrelle, Mrs. Jacques Heath (Lily May Peel)  female  35.0   \n",
       "5                                     Allen, Mr. William Henry    male  35.0   \n",
       "...                                                        ...     ...   ...   \n",
       "887                                      Montvila, Rev. Juozas    male  27.0   \n",
       "888                               Graham, Miss. Margaret Edith  female  19.0   \n",
       "889                   Johnston, Miss. Catherine Helen \"Carrie\"  female   NaN   \n",
       "890                                      Behr, Mr. Karl Howell    male  26.0   \n",
       "891                                        Dooley, Mr. Patrick    male  32.0   \n",
       "\n",
       "             SibSp  Parch            Ticket     Fare Cabin Embarked  \n",
       "PassengerId                                                          \n",
       "1                1      0         A/5 21171   7.2500   NaN        S  \n",
       "2                1      0          PC 17599  71.2833   C85        C  \n",
       "3                0      0  STON/O2. 3101282   7.9250   NaN        S  \n",
       "4                1      0            113803  53.1000  C123        S  \n",
       "5                0      0            373450   8.0500   NaN        S  \n",
       "...            ...    ...               ...      ...   ...      ...  \n",
       "887              0      0            211536  13.0000   NaN        S  \n",
       "888              0      0            112053  30.0000   B42        S  \n",
       "889              1      2        W./C. 6607  23.4500   NaN        S  \n",
       "890              0      0            111369  30.0000  C148        C  \n",
       "891              0      0            370376   7.7500   NaN        Q  \n",
       "\n",
       "[891 rows x 11 columns]"
      ]
     },
     "execution_count": 48,
     "metadata": {},
     "output_type": "execute_result"
    }
   ],
   "source": [
    "titanic_data = pd.read_csv('train.csv',index_col='PassengerId',header=0,sep=',')\n",
    "titanic_data"
   ]
  },
  {
   "cell_type": "code",
   "execution_count": 76,
   "metadata": {},
   "outputs": [
    {
     "name": "stderr",
     "output_type": "stream",
     "text": [
      "C:\\Users\\gdevw\\AppData\\Local\\Temp\\ipykernel_14528\\2586898305.py:10: FutureWarning: Dropping of nuisance columns in DataFrame reductions (with 'numeric_only=None') is deprecated; in a future version this will raise TypeError.  Select only valid columns before calling the reduction.\n",
      "  age_range.loc['유아']= titanic_data[titanic_data['Age']<10].sum()\n"
     ]
    },
    {
     "data": {
      "text/html": [
       "<div>\n",
       "<style scoped>\n",
       "    .dataframe tbody tr th:only-of-type {\n",
       "        vertical-align: middle;\n",
       "    }\n",
       "\n",
       "    .dataframe tbody tr th {\n",
       "        vertical-align: top;\n",
       "    }\n",
       "\n",
       "    .dataframe thead th {\n",
       "        text-align: right;\n",
       "    }\n",
       "</style>\n",
       "<table border=\"1\" class=\"dataframe\">\n",
       "  <thead>\n",
       "    <tr style=\"text-align: right;\">\n",
       "      <th></th>\n",
       "      <th>생존자 수</th>\n",
       "    </tr>\n",
       "  </thead>\n",
       "  <tbody>\n",
       "    <tr>\n",
       "      <th>유아</th>\n",
       "      <td>NaN</td>\n",
       "    </tr>\n",
       "    <tr>\n",
       "      <th>10대</th>\n",
       "      <td>NaN</td>\n",
       "    </tr>\n",
       "    <tr>\n",
       "      <th>20대</th>\n",
       "      <td>NaN</td>\n",
       "    </tr>\n",
       "    <tr>\n",
       "      <th>30대</th>\n",
       "      <td>NaN</td>\n",
       "    </tr>\n",
       "    <tr>\n",
       "      <th>40대</th>\n",
       "      <td>NaN</td>\n",
       "    </tr>\n",
       "    <tr>\n",
       "      <th>50대</th>\n",
       "      <td>NaN</td>\n",
       "    </tr>\n",
       "    <tr>\n",
       "      <th>60대</th>\n",
       "      <td>NaN</td>\n",
       "    </tr>\n",
       "    <tr>\n",
       "      <th>노인</th>\n",
       "      <td>NaN</td>\n",
       "    </tr>\n",
       "  </tbody>\n",
       "</table>\n",
       "</div>"
      ],
      "text/plain": [
       "    생존자 수\n",
       "유아    NaN\n",
       "10대   NaN\n",
       "20대   NaN\n",
       "30대   NaN\n",
       "40대   NaN\n",
       "50대   NaN\n",
       "60대   NaN\n",
       "노인    NaN"
      ]
     },
     "execution_count": 76,
     "metadata": {},
     "output_type": "execute_result"
    }
   ],
   "source": [
    "titanic_data['Age'].fillna(titanic_data['Age'].mean())\n",
    "titanic_data['Cabin'].fillna('N')\n",
    "titanic_data['Embarked'].fillna('N')\n",
    "\n",
    "titanic_data.groupby('Sex').sum()\n",
    "titanic_data.groupby('Pclass').sum()\n",
    "\n",
    "age_range=pd.DataFrame(index=['유아','10대','20대','30대','40대','50대','60대','노인'],columns=['생존자 수'])\n",
    "\n",
    "age_range.loc['유아']= titanic_data[titanic_data['Age']<10].sum()\n",
    "age_range"
   ]
  },
  {
   "cell_type": "code",
   "execution_count": null,
   "metadata": {},
   "outputs": [],
   "source": []
  }
 ],
 "metadata": {
  "kernelspec": {
   "display_name": "Python 3.10.4 ('study')",
   "language": "python",
   "name": "python3"
  },
  "language_info": {
   "codemirror_mode": {
    "name": "ipython",
    "version": 3
   },
   "file_extension": ".py",
   "mimetype": "text/x-python",
   "name": "python",
   "nbconvert_exporter": "python",
   "pygments_lexer": "ipython3",
   "version": "3.10.4"
  },
  "orig_nbformat": 4,
  "vscode": {
   "interpreter": {
    "hash": "6db2f3abba949d3272d30621feaf45d6fc6a29eb863b33b0d60c0925d8592697"
   }
  }
 },
 "nbformat": 4,
 "nbformat_minor": 2
}

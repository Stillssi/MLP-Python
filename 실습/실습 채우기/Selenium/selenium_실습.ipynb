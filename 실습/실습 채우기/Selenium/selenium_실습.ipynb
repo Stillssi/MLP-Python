{
 "cells": [
  {
   "cell_type": "code",
   "execution_count": 2,
   "metadata": {},
   "outputs": [
    {
     "name": "stderr",
     "output_type": "stream",
     "text": [
      "C:\\Users\\gdevw\\AppData\\Local\\Temp\\ipykernel_17476\\98607092.py:6: DeprecationWarning: executable_path has been deprecated, please pass in a Service object\n",
      "  driver = webdriver.Chrome(chrome_path)\n"
     ]
    }
   ],
   "source": [
    "from selenium import webdriver\n",
    "from selenium.webdriver.common.by import By\n",
    "from selenium.webdriver.common.keys import Keys\n",
    "\n",
    "chrome_path = 'chromedriver.exe' \n",
    "driver = webdriver.Chrome(chrome_path)"
   ]
  },
  {
   "cell_type": "code",
   "execution_count": null,
   "metadata": {},
   "outputs": [],
   "source": [
    "driver.get('https://www.jungle.co.kr')"
   ]
  },
  {
   "cell_type": "code",
   "execution_count": null,
   "metadata": {},
   "outputs": [],
   "source": [
    "element = driver.find_element(By.CLASS_NAME,'thumb_list')"
   ]
  },
  {
   "cell_type": "code",
   "execution_count": null,
   "metadata": {},
   "outputs": [],
   "source": [
    "element.text"
   ]
  },
  {
   "cell_type": "code",
   "execution_count": null,
   "metadata": {},
   "outputs": [],
   "source": [
    "elements = driver.find_elements(By.TAG_NAME, 'li')"
   ]
  },
  {
   "cell_type": "code",
   "execution_count": null,
   "metadata": {},
   "outputs": [],
   "source": [
    "for element in elements:\n",
    "    print(element.text)"
   ]
  },
  {
   "cell_type": "code",
   "execution_count": null,
   "metadata": {},
   "outputs": [],
   "source": [
    "elements[7].text"
   ]
  },
  {
   "cell_type": "code",
   "execution_count": null,
   "metadata": {},
   "outputs": [],
   "source": [
    "elements[7].get_attribute('id')"
   ]
  },
  {
   "cell_type": "code",
   "execution_count": null,
   "metadata": {},
   "outputs": [],
   "source": [
    "elements[7].click()"
   ]
  },
  {
   "cell_type": "code",
   "execution_count": null,
   "metadata": {},
   "outputs": [],
   "source": [
    "search_bar = driver.find_element(By.ID,'top-search-keyword')"
   ]
  },
  {
   "cell_type": "code",
   "execution_count": null,
   "metadata": {},
   "outputs": [],
   "source": [
    "search_bar.send_keys('python')"
   ]
  },
  {
   "cell_type": "code",
   "execution_count": null,
   "metadata": {},
   "outputs": [],
   "source": [
    "search_bar.send_keys(Keys.ENTER)"
   ]
  },
  {
   "cell_type": "code",
   "execution_count": null,
   "metadata": {},
   "outputs": [],
   "source": [
    "\n",
    "#데이터를 담을 박스 태그를 먼저 확인한다.\n",
    "main_data = driver.find_elements(By.TAG_NAME, 'li')\n",
    "#데이터 잘 들어왔는지 체크\n",
    "main_data[0].text"
   ]
  },
  {
   "cell_type": "code",
   "execution_count": null,
   "metadata": {},
   "outputs": [],
   "source": [
    "#다시 데이터 셀레터 선정\n",
    "main_data = driver.find_elements(By.CSS_SELECTOR, '.thumb_list > li')\n",
    "main_data[0].text"
   ]
  },
  {
   "cell_type": "code",
   "execution_count": null,
   "metadata": {},
   "outputs": [],
   "source": [
    "list = []\n",
    "i=0\n",
    "#더보기 클릭\n",
    "while True:\n",
    "    more_button = driver.find_element(By.ID, 'more')\n",
    "    more_button.click()\n",
    "    if i == 5:\n",
    "        break\n",
    "    i+= 1\n",
    "main_data = driver.find_elements(By.CSS_SELECTOR, '.thumb_list > li')\n",
    "for main in main_data:\n",
    "    dict = {}\n",
    "    title = main.find_element(By.CLASS_NAME, 'title').text\n",
    "    cate = main.find_element(By.CLASS_NAME, 'thumb_cate').text\n",
    "    dict = {\n",
    "        '제목': title,\n",
    "        '카테고리': cate\n",
    "    }\n",
    "    #list.append([title,cate]) 리스트에 넣거나, dictionary추가\n",
    "    \n",
    "    list.append(dict)\n",
    "print(list)"
   ]
  },
  {
   "cell_type": "markdown",
   "metadata": {},
   "source": [
    "### 로켓펀치 크롤링"
   ]
  },
  {
   "cell_type": "code",
   "execution_count": 97,
   "metadata": {},
   "outputs": [],
   "source": [
    "driver.get('https://www.rocketpunch.com/jobs')\n"
   ]
  },
  {
   "cell_type": "code",
   "execution_count": 98,
   "metadata": {},
   "outputs": [
    {
     "data": {
      "text/plain": [
       "34"
      ]
     },
     "execution_count": 98,
     "metadata": {},
     "output_type": "execute_result"
    }
   ],
   "source": [
    "company_list = driver.find_elements(By.CSS_SELECTOR, '.company.item')\n",
    "len(company_list)"
   ]
  },
  {
   "cell_type": "markdown",
   "metadata": {},
   "source": [
    "- 채용정보 안나옴"
   ]
  },
  {
   "cell_type": "code",
   "execution_count": 99,
   "metadata": {},
   "outputs": [],
   "source": [
    "company_result =[]\n",
    "# for i in company_list:\n",
    "#     print(i.text)\n",
    "\n",
    "for company in company_list:\n",
    "    company_name = company.find_element(By.CSS_SELECTOR, '.header.name').text.strip()\n",
    "    company_descrip = company.find_element(By.CSS_SELECTOR,'.description').text.strip()\n",
    "    try:\n",
    "        more_button = company.find_element(By.CLASS_NAME, 'more-jobs')\n",
    "#         # 특정 엘레먼트로 이동\n",
    "#         driver.execute_script('arguments[0].scrollIntoView();', more_button)\n",
    "\n",
    "#         # 특정 엘레먼트에서 살짝 위로 이동\n",
    "#         driver.execute_script('window.scrollTo(0, document.body.clientHeight-200);')\n",
    "        \n",
    "        # 셀레니움 클릭이 아닌 javascript click() 메서드 호출\n",
    "        driver.execute_script('arguments[0].click();', more_button)\n",
    "    except:\n",
    "        pass\n",
    "    job_details = company.find_elements(By.CSS_SELECTOR, '.job-detail')\n",
    "    job_temps = []\n",
    "    for job_detail in job_details:\n",
    "        job_title = job_detail.find_element(By.CSS_SELECTOR, '.job-title').text.strip()\n",
    "        job_temps.append(job_title)\n",
    "\n",
    "    temp ={}\n",
    "    temp['회사명'] = company_name\n",
    "    temp['회사소개'] = company_descrip\n",
    "    temp['채용정보'] = job_temps\n",
    "    company_result.append(temp)"
   ]
  },
  {
   "cell_type": "code",
   "execution_count": 100,
   "metadata": {},
   "outputs": [
    {
     "data": {
      "text/plain": [
       "[{'회사명': '집무실(執務室)', '회사소개': '24시간 365일 이용 가능한 세계 최초의 분산 오피스', '채용정보': []},\n",
       " {'회사명': '로켓펀치', '회사소개': '한국 최대 비즈니스 소셜 네트워크', '채용정보': []},\n",
       " {'회사명': '패스트파이브', '회사소개': '오피스 플랫폼 패스트파이브', '채용정보': []},\n",
       " {'회사명': '브릭', '회사소개': 'Data Science Solution Provider', '채용정보': []},\n",
       " {'회사명': '스위치원', '회사소개': '가장 투명한 환테크 플랫폼', '채용정보': []},\n",
       " {'회사명': '(주)아이비베리', '회사소개': '온라인과 오프라인을 연결합니다.', '채용정보': []},\n",
       " {'회사명': '끼리배달', '회사소개': '소프트웨어 개발 및 공급', '채용정보': []},\n",
       " {'회사명': '젠틀파이',\n",
       "  '회사소개': '기업용 AI application(챗봇 등)을 기획하고 개발하는 AI 전문 에이전시 젠틀파이입니다.',\n",
       "  '채용정보': []},\n",
       " {'회사명': '프로젝트.어사', '회사소개': '사설 탐정 중개 플랫폼!', '채용정보': []},\n",
       " {'회사명': '키즈페이', '회사소개': '유아 교육 컨텐츠 플랫폼', '채용정보': []},\n",
       " {'회사명': '오엔제이', '회사소개': '세계 최초 용접 산업 플랫폼', '채용정보': []},\n",
       " {'회사명': '트윈코리아', '회사소개': 'Place be-TWIN! 공간 메타버스 플랫폼 트윈코리아', '채용정보': []},\n",
       " {'회사명': '홈리에종',\n",
       "  '회사소개': '홈리에종은 홈스타일링 기반의 인테리어 컨시어지 서비스를 제공하는 플랫폼입니다.',\n",
       "  '채용정보': []},\n",
       " {'회사명': '오퍼스엠',\n",
       "  '회사소개': '오퍼스엠은 엔터프라이즈 규모 시스템에 신뢰 데이터 기반 사업 모델 구현을 가능하게 해주는 블록체인 솔루션 기업입니다.',\n",
       "  '채용정보': []},\n",
       " {'회사명': '팬베이커리',\n",
       "  '회사소개': \"인플루언서의 소장품을 내 품에. 국내 최초 인플루언서 '실물' 소장품 경매 플랫폼\",\n",
       "  '채용정보': ['[정규직 채용 연계형] 디지털마케터(SNS) 인턴 채용', 'Developer(Front, Back) 모집']},\n",
       " {'회사명': '딥인사이트',\n",
       "  '회사소개': '국내 최고의 3D 센싱 카메라 개발 산업',\n",
       "  '채용정보': ['컴퓨터 비전 기반 인공지능 개발 및 데이터 분석가']},\n",
       " {'회사명': '주식회사 센디네어',\n",
       "  '회사소개': '탈중앙화 금융 기술의 보편화를 위한 서비스를 개발 및 연구합니다.',\n",
       "  '채용정보': ['[블록체인,Web3] Marketing manager', '신입/경력 프론트엔드 개발자', '디자이너 채용']},\n",
       " {'회사명': '더잭팟',\n",
       "  '회사소개': 'Future Commerce 및 Metaverse Platform 기업',\n",
       "  '채용정보': ['QA Engineer',\n",
       "   'iOS Developer(Swift/SwiftUI)',\n",
       "   'Category Manager (MD/마케팅/상품기획) 경력채용',\n",
       "   '그로스 해커(Growth Hacker)',\n",
       "   '커뮤니티 매니저 (Community Manager)',\n",
       "   'Process Manager (서비스 기획자)',\n",
       "   'Web Front-End Engineer',\n",
       "   'Back-End Engineer',\n",
       "   'Product Designer',\n",
       "   '회계팀 AR/AP',\n",
       "   '[Universe Team] Modeller, Generalist, Concept Artist',\n",
       "   'Unity 게임 개발자']},\n",
       " {'회사명': '글로우데이즈',\n",
       "  '회사소개': 'Make your life brighter!',\n",
       "  '채용정보': ['[글로우픽] UI/UX 디자이너',\n",
       "   '[글로우픽] 웹 프론트 개발자 Senior',\n",
       "   '[글로우픽] 웹 프론트 개발자 Junior',\n",
       "   '[글로우데이즈] 코스메틱 브랜드 마케터 경력직 채용']},\n",
       " {'회사명': '크레이프엑스',\n",
       "  '회사소개': '미래가치를 만드는 컴퍼니빌더. CrepeX 입니다.',\n",
       "  '채용정보': ['퍼포먼스 콘텐츠 마케터 (경력)', '퍼포먼스 콘텐츠 마케터 (신입)']},\n",
       " {'회사명': '벨루가', '회사소개': 'AI 이미지 에디터를 서비스하는 회사', '채용정보': ['웹 프론트엔드 개발']},\n",
       " {'회사명': '유커넥',\n",
       "  '회사소개': '유튜브 인플루언서 마케팅 플랫폼, 유커넥',\n",
       "  '채용정보': ['[유커넥] 프로덕트 디자이너 (UI/UX 2년~)', '[유커넥] 서비스 기획자 (PO/PM 4년~)']},\n",
       " {'회사명': '이노워크센터',\n",
       "  '회사소개': '중소벤처기업부 지정 창업지원센터',\n",
       "  '채용정보': ['웹기획 온라인 마케팅 프로젝트 관리 일정 및 행정 관리',\n",
       "   '창업지원 매니저 모집 (업무는 배워가면서 가능, 병역특례 가능)',\n",
       "   '웹 개발자 (PHP 또는 Node.js 또는 Python 등 ) 병역특례 가능']},\n",
       " {'회사명': '닷네임코리아',\n",
       "  '회사소개': '국제공인 ICANN 도메인 등록기관',\n",
       "  '채용정보': ['UI/UX CI/BI 웹 기획 또는 디자이너 병역특례 가능',\n",
       "   '웹 개발자 (PHP, Node JS, Python Ruby 등 ) 병역특례 가능',\n",
       "   '웹기획 온라인 마케팅 프로젝트 관리 일정 및 행정 관리']},\n",
       " {'회사명': 'CryptoParadise',\n",
       "  '회사소개': '블록체인 게임 프로토콜과 무설치형 브라우저 게임을 개발합니다.',\n",
       "  '채용정보': ['[CryptoParadise] Technical Artist',\n",
       "   '[CryptoParadise] Art Director',\n",
       "   '[CryptoParadise] 3D 애니메이터',\n",
       "   '[CryptoParadise] CPO(Chief Product Officer)',\n",
       "   '[CryptoParadise] 리깅 아티스트',\n",
       "   '[CryptoParadise] 배경 컨셉 원화 디자이너',\n",
       "   '[CryptoParadise] Back-end Junior / Senior Developer',\n",
       "   '[CryptoParadise] Front-end Junior Developer',\n",
       "   '[CryptoParadise] Front-end Senior Developer',\n",
       "   '[CryptoParadise] UI/UX 디자이너',\n",
       "   '[CryptoParadise] 전략기획 스태프',\n",
       "   '[CryptoParadise] 3D 라이팅/합성 디자이너',\n",
       "   '[CryptoParadise] 지원 본부 스태프/인턴 채용']},\n",
       " {'회사명': '코레토',\n",
       "  '회사소개': '소프트웨어로 더 나은 세상의 문을 열다.',\n",
       "  '채용정보': ['코레토와 함께할 백엔드 개발자를 모십니다.', '코레토와 함께할 웹 프론트엔드 개발자를 모십니다.']},\n",
       " {'회사명': '브이에프티 파트너',\n",
       "  '회사소개': 'VFT partner는 시스템 다이어리 앱과 솔루션을 개발하고 있는 벤처 스타트업 입니다.',\n",
       "  '채용정보': ['UX/UI Designer']},\n",
       " {'회사명': '엔버랩스',\n",
       "  '회사소개': 'Digital 금융 시장의 미래를 만들어 나가는 기업',\n",
       "  '채용정보': ['[FrontEnd] React 개발자',\n",
       "   '[BackEnd] Node.js 개발자',\n",
       "   '경력직 웹디자이너 모집',\n",
       "   '프로젝트 기획자',\n",
       "   '[BackEnd] C++ 개발자']},\n",
       " {'회사명': '이스트엔드', '회사소개': 'Fashion E-commerce', '채용정보': ['디자이너 브랜드 패션 디자이너']},\n",
       " {'회사명': '부스터스',\n",
       "  '회사소개': '디지털 마케팅 & 인플루언서 커머스 기반 글로벌 커머스 브랜드 그룹',\n",
       "  '채용정보': ['콘텐츠 마케터',\n",
       "   '시니어 브랜드 디자이너',\n",
       "   '콘텐츠 디자인 Staff (계약직)',\n",
       "   '온라인 채널 MD',\n",
       "   'Global Sales Manager (미국 지역)',\n",
       "   '브랜드마케터 (퍼포먼스형, 주니어)',\n",
       "   '브랜드마케터 (퍼포먼스형, 시니어)',\n",
       "   '자금 담당자(Junior)',\n",
       "   'DR PD',\n",
       "   '상품기획자 (여행/리빙/생활화학)',\n",
       "   '유통 AMD (계약직)',\n",
       "   '상품기획자 (반려동물)']},\n",
       " {'회사명': '나오나우',\n",
       "  '회사소개': '아이비리그 학생들과 1:1 화상 영어',\n",
       "  '채용정보': ['웹 UI/UX 및 SNS 디자이너',\n",
       "   '해외스타트업 영업 및 고객관리',\n",
       "   '마케팅 매니저 채용 [해외 화상영어 스타트업]']},\n",
       " {'회사명': '이지프레스', '회사소개': '크리에이티브 디자인 스튜디오', '채용정보': ['[Front-end] 경력직 채용']},\n",
       " {'회사명': '에이임팩트',\n",
       "  '회사소개': '텍스트마이닝기반 직거래 생산성 플랫폼, 세상의 모든 직거래를 어레인지 합니다',\n",
       "  '채용정보': ['[백엔드] 세상에 없던 직거래,함께 만들어요!',\n",
       "   '[개발 LEAD] 세상에 없던 직거래,함께 만들어요!',\n",
       "   '[에디터] 세상에 없던 직거래,함께 만들어요!',\n",
       "   '[PO] 세상에 없던 직거래,함께 만들어요!',\n",
       "   '[프론트엔드] 세상에 없던 직거래,함께 만들어요!',\n",
       "   '[디자이너] 세상에 없던 직거래,함께 만들어요!']},\n",
       " {'회사명': '세정', '회사소개': '대한민국 대표 패션 그룹', '채용정보': ['총무']}]"
      ]
     },
     "execution_count": 100,
     "metadata": {},
     "output_type": "execute_result"
    }
   ],
   "source": [
    "company_result"
   ]
  },
  {
   "cell_type": "code",
   "execution_count": null,
   "metadata": {},
   "outputs": [],
   "source": [
    "driver.execute_script('window.scrollTo(0, document.body.scrollHeight);')"
   ]
  },
  {
   "cell_type": "code",
   "execution_count": null,
   "metadata": {},
   "outputs": [],
   "source": [
    "page_now = 5\n",
    "\n",
    "import time\n",
    "\n",
    "while True:\n",
    "    # 데이터 추가하는 로직\n",
    "    \n",
    "    driver.execute_script('window.scrollTo(0, document.body.scrollHeight);')\n",
    "    \n",
    "    # 페이지번호 확인\n",
    "    pages = driver.find_elements(By.CSS_SELECTOR, '.pagination .computer .item')\n",
    "    for page in pages:\n",
    "        if page.text == str(page_now + 1):\n",
    "            page_now = int(page.text)\n",
    "            page.click()\n",
    "            break\n",
    "    \n",
    "    time.sleep(5)\n",
    "    \n",
    "    if page_now == 10:\n",
    "        break\n",
    "        \n",
    "    # WebdriverWait()"
   ]
  },
  {
   "cell_type": "code",
   "execution_count": null,
   "metadata": {},
   "outputs": [],
   "source": [
    "#스크롤 아래로 내림\n",
    "driver.execute_script('window.scrollTo(0,document.body.scrollHeight);')\n",
    "#특정 엘리먼트로 이동\n",
    "driver.execute_script('arguments[0].scrollIntoView();', element)\n",
    "#특정 엘레먼트에서 살짝이동\n",
    "driver.execute.script('window.scrollTo(0,document.body.clientHeight-200);')"
   ]
  },
  {
   "cell_type": "code",
   "execution_count": 87,
   "metadata": {},
   "outputs": [],
   "source": [
    "driver.get('https://www.rocketpunch.com/jobs?page=3')\n"
   ]
  },
  {
   "cell_type": "markdown",
   "metadata": {},
   "source": [
    "- 다 나옴"
   ]
  },
  {
   "cell_type": "code",
   "execution_count": 91,
   "metadata": {},
   "outputs": [],
   "source": [
    "from bs4 import BeautifulSoup\n",
    "soup = BeautifulSoup(driver.page_source, 'html.parser')\n",
    "company_list = soup.select('.company.item')\n",
    "\n",
    "result = []\n",
    "\n",
    "for company in company_list:\n",
    "    company_name = company.select_one('.header.name').text.strip()\n",
    "    description = company.select_one('.description').text.strip()\n",
    "    \n",
    "    job_details = company.select('.job-detail')\n",
    "    \n",
    "    job_temps = []\n",
    "    \n",
    "    for job_detail in job_details:\n",
    "        job_title = job_detail.select_one('.job-title').text.strip()\n",
    "        \n",
    "        job_temps.append(job_title)\n",
    "    \n",
    "    temp = {}\n",
    "    temp['회사명'] = company_name\n",
    "    temp['설명'] = description\n",
    "    temp['채용공고'] = job_temps\n",
    "    \n",
    "    result.append(temp)\n",
    "    \n",
    "    # print(company_name, description)"
   ]
  },
  {
   "cell_type": "code",
   "execution_count": 92,
   "metadata": {},
   "outputs": [
    {
     "data": {
      "text/plain": [
       "[{'회사명': '리얼날리지\\n(REALKNOWLEDGE)',\n",
       "  '설명': '화상통신기술을 활용한 글로벌영어회화서비스',\n",
       "  '채용공고': ['글로벌 화상영어회화 플랫폼 에피소든 - 서비스 운영직 채용',\n",
       "   '글로벌 화상영어회화 서비스 에피소든 팀 개발팀장 채용',\n",
       "   '글로벌 화상영어회화 서비스 에피소든 팀 백엔드 개발자 채용']},\n",
       " {'회사명': '커넥트모어\\n(Connect.more)',\n",
       "  '설명': '언제/누구와/무엇을 할지에 더 중점을 두고 취향이 맞는 사람들과의 만남을 더 편하게 연결하는 매칭 서비스',\n",
       "  '채용공고': ['콘텐츠 마케터 - 입사 보너스 200만원 지급',\n",
       "   '앱 개발자 (React Native / 3년 이상) - 입사 보너스 200만원 지급']},\n",
       " {'회사명': '뷰노\\n(VUNO)',\n",
       "  '설명': 'View the Invisible, Know the Unknown',\n",
       "  '채용공고': ['Backend 개발자',\n",
       "   'FullStack 개발자',\n",
       "   'Frontend 개발자',\n",
       "   'Window 개발자',\n",
       "   '서비스 엔지니어']},\n",
       " {'회사명': '리더스 오브 그린 소사이어티\\n(Leaders of Green Society)',\n",
       "  '설명': \"대중과 기업의 친환경 전환을 가속합니다. '친환경 실천 인증 리워딩 서비스, green square'와 '친환경 소재로 만든 패션가방 브랜드, code green'을 운영합니다\",\n",
       "  '채용공고': ['[팀원모집] 친환경 커머스 리워드 플랫폼에서 리더급 UI/UX 디자이너를 모십니다.',\n",
       "   '성장을 견인해줄 퍼포먼스 마케터를 모십니다 [친환경 실천 인증 리워딩 플랫폼]',\n",
       "   '성장을 견인할 기획자, 프로젝트 매니저를 모십니다',\n",
       "   '상위노출 위주로 성장을 견인해줄 콘텐츠 마케터를 모십니다. [친환경 실천 리워딩 서비스]']},\n",
       " {'회사명': '와이즈셀렉션\\n(Wise selection)',\n",
       "  '설명': \"웹을 통한 '진단'과 '추천'이란 개념으로, 건강기능식품 시장의 패러다임을 바꾸는 기업입니다.\",\n",
       "  '채용공고': ['건강비밀에서 경력 웹 개발자를 모십니다!']},\n",
       " {'회사명': '크립토퀀트\\n(CryptoQuant)',\n",
       "  '설명': '가장 쉽고 표준화된 Web3 분석 서비스',\n",
       "  '채용공고': ['백엔드 개발자',\n",
       "   '데브옵스(DevOps) 엔지니어',\n",
       "   '콘텐츠 마케터',\n",
       "   'Web3 서비스 기획',\n",
       "   'QA (Quality Assurance)',\n",
       "   'UI/UX 디자이너',\n",
       "   '프로덕트 매니저(PM)']},\n",
       " {'회사명': '원오브원\\n(One of One)',\n",
       "  '설명': '국내 최초 명품 그릇 리세일 서비스',\n",
       "  '채용공고': ['브랜드 디자이너',\n",
       "   'C2C 명품 그릇/가구 리세일 PM',\n",
       "   '명품 그릇/가구 이커머스 CX 기획/운영',\n",
       "   '명품 가구/그릇 커머스 회계 담당자 채용']},\n",
       " {'회사명': '트래블메이커스\\n(Travel Makers, Inc.)',\n",
       "  '설명': '가장 빠르게 성장하는 여행 라이프스타일 플랫폼 기업',\n",
       "  '채용공고': ['React Native 앱 개발자']},\n",
       " {'회사명': '주식회사 엘알에이치알',\n",
       "  '설명': 'Low Risk High Return',\n",
       "  '채용공고': ['운영팀 오퍼레이터', '백엔드 엔지니어']},\n",
       " {'회사명': '모두의회계\\n(ModuAccounting Co., Ltd.)',\n",
       "  '설명': '세무회계 기반 핀테크 기업으로서, 사업에 대한 인사이트를 제공하며 회계시장을 혁신합니다.',\n",
       "  '채용공고': ['모두의회계와 함께 할 Node 기반 서버 개발자를 찾고 있어요!',\n",
       "   '모두의회계와 함께 할 TypeScript, JS 기반 프론트 / 풀스택 개발자를 찾고 있습니다!',\n",
       "   '모두의회계와 함께 할 프로덕트오너(PO)를 찾고 있어요!']},\n",
       " {'회사명': '업보트 엔터\\n(Upvote Entertainment)',\n",
       "  '설명': '(주)업보트엔터는 대중이 좋아하는 음악 콘텐츠를 빅데이터와 AI를 활용해 제작하는 혁신기업 입니다. 국내 대형 음악 플랫폼 유통회사와 협업 하며 인공지능 음악의 미래를 개척해나가고 있습니다.',\n",
       "  '채용공고': ['프론트엔드 앱 개발자 (React Native)',\n",
       "   '[경력] SpringBoot, NestJS 백엔드 개발자',\n",
       "   'Python 알고리즘 개발자',\n",
       "   'UI/UX 디자이너',\n",
       "   '서비스 기획자/PM',\n",
       "   '(경력)음악 관련 서비스형 소프트웨어 알고리즘 자동화/개발']},\n",
       " {'회사명': '일루미나리안\\n(illuminarean)',\n",
       "  '설명': '더 좋은 세상을 만드는 아이디어를 실현하는 글로벌 IT 기업 일루미나리안입니다.',\n",
       "  '채용공고': ['UI/UX 디자이너',\n",
       "   '백엔드 개발자 채용공고',\n",
       "   'iOS 개발자',\n",
       "   'QA 테스트 엔지니어',\n",
       "   '프론트엔드 개발자',\n",
       "   '데브옵스 엔지니어(DevOps Engineer)',\n",
       "   '백엔드 시니어 개발자',\n",
       "   'QA 테스트 시니어 엔지니어',\n",
       "   'UX 시니어 디자이너']},\n",
       " {'회사명': '테서\\n(TESSER)',\n",
       "  '설명': '환자 데이터 중심 차세대 의료 플랫폼 연구 개발 기업',\n",
       "  '채용공고': ['의료 텍스트 자연어처리(NLP) 딥러닝 개발자',\n",
       "   '프론트엔드 엔지니어 (React.js)',\n",
       "   '플러터(Flutter) 개발자',\n",
       "   '백엔드 엔지니어',\n",
       "   '서비스 기획자',\n",
       "   'AI 연구원 - 의료영상 활용 딥러닝 연구']},\n",
       " {'회사명': '엘비즈코리아', '설명': '정부, 공공기관 마케팅 에이전시', '채용공고': ['디지털마케팅']},\n",
       " {'회사명': '플피\\n(FLFI)',\n",
       "  '설명': 'Blockchain startup building creative NFT infrastructures & innovative DAO tools for web3 ecosystem.',\n",
       "  '채용공고': ['프로덕트 디자이너']},\n",
       " {'회사명': '아임포트\\n(Iamport)',\n",
       "  '설명': '아임포트는 머천트용 결제 API로 시장에 존재하는 모든 결제 수단들을 한 시간의 개발로 단번에 연동 완료할 수 있게 합니다. 아시아에서 가장 빠르게 성장하고 있는 스타트업 지표들을 경험하고 있습니다.',\n",
       "  '채용공고': ['[아임포트] 자동화 테스트 엔지니어',\n",
       "   '[아임포트] QA Engineer (주니어)',\n",
       "   '[아임포트]Software Engineer (DX)',\n",
       "   '[아임포트] Technical Support Engineer',\n",
       "   '[아임포트] Senior Back-end Engineer',\n",
       "   '[아임포트] 네트워크(보안) 담당자',\n",
       "   '[아임포트]한국 변호사',\n",
       "   '[아임포트] Recruiting Lead',\n",
       "   '[아임포트]Software Engineer, Frontend',\n",
       "   '[아임포트] 해외 결제 사업 오퍼레이션 담당자']},\n",
       " {'회사명': '씨드앤\\n(SeedN)',\n",
       "  '설명': '실내 적정 온도를 통해 지속가능한 사회와 환경을 만들어갑니다.',\n",
       "  '채용공고': ['데브옵스(DevOps) 엔지니어',\n",
       "   '프론트엔드 개발자(경력)',\n",
       "   '홍보 마케팅 채용전환형 인턴',\n",
       "   'UI/UX 디자이너 채용전환형 인턴',\n",
       "   '법인 영업 (경력 3년 이상~5년 이하)',\n",
       "   '필드 커뮤니케이션 매니저(CX 매니저) 채용전환형 인턴',\n",
       "   '프론트엔드 개발자(신입)']},\n",
       " {'회사명': '(주)달라라네트워크',\n",
       "  '설명': '',\n",
       "  '채용공고': ['[정규직/계약직] 주 4.5일 근무, 글로벌 커뮤니케이션 채용']},\n",
       " {'회사명': '패스트파이브\\n(FASTFIVE)',\n",
       "  '설명': '오피스 플랫폼 패스트파이브',\n",
       "  '채용공고': ['네트워크 매니저(신입)',\n",
       "   '회계 담당자',\n",
       "   'Talent 역량개발(교육) 담당자',\n",
       "   '퍼블릭 클라우드 세일즈 매니저(NCP)',\n",
       "   '파이브스팟 퍼포먼스마케터',\n",
       "   '콘텐츠 기획자 & 에디터(패스트파이브 신규 앱 서비스)',\n",
       "   '부동산 투자 & 자산 관리 담당자',\n",
       "   '퍼블릭 클라우드 세일즈 매니저(MS Azure)',\n",
       "   '퍼블릭 클라우드 엔지니어(MS Azure)',\n",
       "   '구매관리 담당자 (주니어)',\n",
       "   '커뮤니티 매니저',\n",
       "   '회계팀 지원파트',\n",
       "   '플랫폼 파트너 정책 기획 매니저(폐쇄형 커머스)',\n",
       "   '신사업 사업개발 매니저(파이브클라우드)',\n",
       "   '네트워크/시스템 엔지니어',\n",
       "   '마케팅그룹 웹 퍼블리셔(리드)',\n",
       "   '그룹웨어 영업 담당자',\n",
       "   '공간 프로젝트 매니저',\n",
       "   '파이브스팟 백엔드 개발자(Python)',\n",
       "   'IT 헬프데스크 매니저',\n",
       "   'DevOps (서버/배포 담당자)',\n",
       "   'QA 엔지니어',\n",
       "   'C&D 사무용 가구 영업 담당자',\n",
       "   'C&D 인테리어 유지보수 담당자',\n",
       "   '퍼블릭 클라우드 엔지니어(NCP)',\n",
       "   '퍼블릭 클라우드 엔지니어(AWS)',\n",
       "   '모버스팀 부동산 중개 매니저(TR 매니저)',\n",
       "   '모버스 B2B 세일즈 매니저',\n",
       "   'CX 기획 매니저(폐쇄형 커머스)',\n",
       "   '콘텐츠 마케터',\n",
       "   '신사업 사업개발 매니저(플랫폼비즈니스)',\n",
       "   'C&D 공무팀 경리 담당자',\n",
       "   '모버스 멤버십 파트 매니저',\n",
       "   'Inside Sales Representative(파이브클라우드)',\n",
       "   '퍼블릭 클라우드 세일즈 매니저(AWS)',\n",
       "   '네트워크/시스템 영업 매니저',\n",
       "   'B2B CRM 담당자',\n",
       "   '물류 운영 담당자']},\n",
       " {'회사명': '맘스밀\\n(MomsMeal)',\n",
       "  '설명': 'IoT & AI 기반 밀키트 전문 무인 플랫폼 맘스밀',\n",
       "  '채용공고': ['[맘스밀] 프론트엔드 웹 개발자 (신입/경력) 채용']}]"
      ]
     },
     "execution_count": 92,
     "metadata": {},
     "output_type": "execute_result"
    }
   ],
   "source": [
    "result"
   ]
  },
  {
   "cell_type": "code",
   "execution_count": 7,
   "metadata": {},
   "outputs": [
    {
     "name": "stderr",
     "output_type": "stream",
     "text": [
      "C:\\Users\\gdevw\\AppData\\Local\\Temp\\ipykernel_17476\\277520770.py:2: DeprecationWarning: executable_path has been deprecated, please pass in a Service object\n",
      "  driver = webdriver.Chrome(chrome_path)\n"
     ]
    },
    {
     "ename": "WebDriverException",
     "evalue": "Message: 'chromedriver.exe' executable needs to be in PATH. Please see https://chromedriver.chromium.org/home\n",
     "output_type": "error",
     "traceback": [
      "\u001b[1;31m---------------------------------------------------------------------------\u001b[0m",
      "\u001b[1;31mFileNotFoundError\u001b[0m                         Traceback (most recent call last)",
      "File \u001b[1;32mc:\\Users\\gdevw\\anaconda3\\envs\\study\\lib\\site-packages\\selenium\\webdriver\\common\\service.py:71\u001b[0m, in \u001b[0;36mService.start\u001b[1;34m(self)\u001b[0m\n\u001b[0;32m     70\u001b[0m     cmd\u001b[39m.\u001b[39mextend(\u001b[39mself\u001b[39m\u001b[39m.\u001b[39mcommand_line_args())\n\u001b[1;32m---> 71\u001b[0m     \u001b[39mself\u001b[39m\u001b[39m.\u001b[39mprocess \u001b[39m=\u001b[39m subprocess\u001b[39m.\u001b[39;49mPopen(cmd, env\u001b[39m=\u001b[39;49m\u001b[39mself\u001b[39;49m\u001b[39m.\u001b[39;49menv,\n\u001b[0;32m     72\u001b[0m                                     close_fds\u001b[39m=\u001b[39;49msystem() \u001b[39m!=\u001b[39;49m \u001b[39m'\u001b[39;49m\u001b[39mWindows\u001b[39;49m\u001b[39m'\u001b[39;49m,\n\u001b[0;32m     73\u001b[0m                                     stdout\u001b[39m=\u001b[39;49m\u001b[39mself\u001b[39;49m\u001b[39m.\u001b[39;49mlog_file,\n\u001b[0;32m     74\u001b[0m                                     stderr\u001b[39m=\u001b[39;49m\u001b[39mself\u001b[39;49m\u001b[39m.\u001b[39;49mlog_file,\n\u001b[0;32m     75\u001b[0m                                     stdin\u001b[39m=\u001b[39;49mPIPE,\n\u001b[0;32m     76\u001b[0m                                     creationflags\u001b[39m=\u001b[39;49m\u001b[39mself\u001b[39;49m\u001b[39m.\u001b[39;49mcreationflags)\n\u001b[0;32m     77\u001b[0m \u001b[39mexcept\u001b[39;00m \u001b[39mTypeError\u001b[39;00m:\n",
      "File \u001b[1;32mc:\\Users\\gdevw\\anaconda3\\envs\\study\\lib\\subprocess.py:966\u001b[0m, in \u001b[0;36mPopen.__init__\u001b[1;34m(self, args, bufsize, executable, stdin, stdout, stderr, preexec_fn, close_fds, shell, cwd, env, universal_newlines, startupinfo, creationflags, restore_signals, start_new_session, pass_fds, user, group, extra_groups, encoding, errors, text, umask, pipesize)\u001b[0m\n\u001b[0;32m    963\u001b[0m             \u001b[39mself\u001b[39m\u001b[39m.\u001b[39mstderr \u001b[39m=\u001b[39m io\u001b[39m.\u001b[39mTextIOWrapper(\u001b[39mself\u001b[39m\u001b[39m.\u001b[39mstderr,\n\u001b[0;32m    964\u001b[0m                     encoding\u001b[39m=\u001b[39mencoding, errors\u001b[39m=\u001b[39merrors)\n\u001b[1;32m--> 966\u001b[0m     \u001b[39mself\u001b[39;49m\u001b[39m.\u001b[39;49m_execute_child(args, executable, preexec_fn, close_fds,\n\u001b[0;32m    967\u001b[0m                         pass_fds, cwd, env,\n\u001b[0;32m    968\u001b[0m                         startupinfo, creationflags, shell,\n\u001b[0;32m    969\u001b[0m                         p2cread, p2cwrite,\n\u001b[0;32m    970\u001b[0m                         c2pread, c2pwrite,\n\u001b[0;32m    971\u001b[0m                         errread, errwrite,\n\u001b[0;32m    972\u001b[0m                         restore_signals,\n\u001b[0;32m    973\u001b[0m                         gid, gids, uid, umask,\n\u001b[0;32m    974\u001b[0m                         start_new_session)\n\u001b[0;32m    975\u001b[0m \u001b[39mexcept\u001b[39;00m:\n\u001b[0;32m    976\u001b[0m     \u001b[39m# Cleanup if the child failed starting.\u001b[39;00m\n",
      "File \u001b[1;32mc:\\Users\\gdevw\\anaconda3\\envs\\study\\lib\\subprocess.py:1435\u001b[0m, in \u001b[0;36mPopen._execute_child\u001b[1;34m(self, args, executable, preexec_fn, close_fds, pass_fds, cwd, env, startupinfo, creationflags, shell, p2cread, p2cwrite, c2pread, c2pwrite, errread, errwrite, unused_restore_signals, unused_gid, unused_gids, unused_uid, unused_umask, unused_start_new_session)\u001b[0m\n\u001b[0;32m   1434\u001b[0m \u001b[39mtry\u001b[39;00m:\n\u001b[1;32m-> 1435\u001b[0m     hp, ht, pid, tid \u001b[39m=\u001b[39m _winapi\u001b[39m.\u001b[39;49mCreateProcess(executable, args,\n\u001b[0;32m   1436\u001b[0m                              \u001b[39m# no special security\u001b[39;49;00m\n\u001b[0;32m   1437\u001b[0m                              \u001b[39mNone\u001b[39;49;00m, \u001b[39mNone\u001b[39;49;00m,\n\u001b[0;32m   1438\u001b[0m                              \u001b[39mint\u001b[39;49m(\u001b[39mnot\u001b[39;49;00m close_fds),\n\u001b[0;32m   1439\u001b[0m                              creationflags,\n\u001b[0;32m   1440\u001b[0m                              env,\n\u001b[0;32m   1441\u001b[0m                              cwd,\n\u001b[0;32m   1442\u001b[0m                              startupinfo)\n\u001b[0;32m   1443\u001b[0m \u001b[39mfinally\u001b[39;00m:\n\u001b[0;32m   1444\u001b[0m     \u001b[39m# Child is launched. Close the parent's copy of those pipe\u001b[39;00m\n\u001b[0;32m   1445\u001b[0m     \u001b[39m# handles that only the child should have open.  You need\u001b[39;00m\n\u001b[1;32m   (...)\u001b[0m\n\u001b[0;32m   1448\u001b[0m     \u001b[39m# pipe will not close when the child process exits and the\u001b[39;00m\n\u001b[0;32m   1449\u001b[0m     \u001b[39m# ReadFile will hang.\u001b[39;00m\n",
      "\u001b[1;31mFileNotFoundError\u001b[0m: [WinError 2] 지정된 파일을 찾을 수 없습니다",
      "\nDuring handling of the above exception, another exception occurred:\n",
      "\u001b[1;31mWebDriverException\u001b[0m                        Traceback (most recent call last)",
      "\u001b[1;32mc:\\Users\\gdevw\\바탕 화면\\MLP-Python\\실습\\실습 채우기\\Selenium\\selenium_실습.ipynb 셀 29\u001b[0m in \u001b[0;36m<cell line: 2>\u001b[1;34m()\u001b[0m\n\u001b[0;32m      <a href='vscode-notebook-cell:/c%3A/Users/gdevw/%EB%B0%94%ED%83%95%20%ED%99%94%EB%A9%B4/MLP-Python/%EC%8B%A4%EC%8A%B5/%EC%8B%A4%EC%8A%B5%20%EC%B1%84%EC%9A%B0%EA%B8%B0/Selenium/selenium_%EC%8B%A4%EC%8A%B5.ipynb#X40sZmlsZQ%3D%3D?line=0'>1</a>\u001b[0m chrome_path \u001b[39m=\u001b[39m \u001b[39m'\u001b[39m\u001b[39mchromedriver.exe\u001b[39m\u001b[39m'\u001b[39m \n\u001b[1;32m----> <a href='vscode-notebook-cell:/c%3A/Users/gdevw/%EB%B0%94%ED%83%95%20%ED%99%94%EB%A9%B4/MLP-Python/%EC%8B%A4%EC%8A%B5/%EC%8B%A4%EC%8A%B5%20%EC%B1%84%EC%9A%B0%EA%B8%B0/Selenium/selenium_%EC%8B%A4%EC%8A%B5.ipynb#X40sZmlsZQ%3D%3D?line=1'>2</a>\u001b[0m driver \u001b[39m=\u001b[39m webdriver\u001b[39m.\u001b[39;49mChrome(chrome_path)\n\u001b[0;32m      <a href='vscode-notebook-cell:/c%3A/Users/gdevw/%EB%B0%94%ED%83%95%20%ED%99%94%EB%A9%B4/MLP-Python/%EC%8B%A4%EC%8A%B5/%EC%8B%A4%EC%8A%B5%20%EC%B1%84%EC%9A%B0%EA%B8%B0/Selenium/selenium_%EC%8B%A4%EC%8A%B5.ipynb#X40sZmlsZQ%3D%3D?line=2'>3</a>\u001b[0m driver\u001b[39m.\u001b[39mget(\u001b[39m'\u001b[39m\u001b[39mhttps://www.weather.go.kr/w/weather/forecast/short-term.do\u001b[39m\u001b[39m'\u001b[39m)\n\u001b[0;32m      <a href='vscode-notebook-cell:/c%3A/Users/gdevw/%EB%B0%94%ED%83%95%20%ED%99%94%EB%A9%B4/MLP-Python/%EC%8B%A4%EC%8A%B5/%EC%8B%A4%EC%8A%B5%20%EC%B1%84%EC%9A%B0%EA%B8%B0/Selenium/selenium_%EC%8B%A4%EC%8A%B5.ipynb#X40sZmlsZQ%3D%3D?line=3'>4</a>\u001b[0m element \u001b[39m=\u001b[39m driver\u001b[39m.\u001b[39mfind_element(By\u001b[39m.\u001b[39mCLASS_NAME,\u001b[39m'\u001b[39m\u001b[39msym-btn.sch-b\u001b[39m\u001b[39m'\u001b[39m)\n",
      "File \u001b[1;32mc:\\Users\\gdevw\\anaconda3\\envs\\study\\lib\\site-packages\\selenium\\webdriver\\chrome\\webdriver.py:69\u001b[0m, in \u001b[0;36mWebDriver.__init__\u001b[1;34m(self, executable_path, port, options, service_args, desired_capabilities, service_log_path, chrome_options, service, keep_alive)\u001b[0m\n\u001b[0;32m     66\u001b[0m \u001b[39mif\u001b[39;00m \u001b[39mnot\u001b[39;00m service:\n\u001b[0;32m     67\u001b[0m     service \u001b[39m=\u001b[39m Service(executable_path, port, service_args, service_log_path)\n\u001b[1;32m---> 69\u001b[0m \u001b[39msuper\u001b[39;49m()\u001b[39m.\u001b[39;49m\u001b[39m__init__\u001b[39;49m(DesiredCapabilities\u001b[39m.\u001b[39;49mCHROME[\u001b[39m'\u001b[39;49m\u001b[39mbrowserName\u001b[39;49m\u001b[39m'\u001b[39;49m], \u001b[39m\"\u001b[39;49m\u001b[39mgoog\u001b[39;49m\u001b[39m\"\u001b[39;49m,\n\u001b[0;32m     70\u001b[0m                  port, options,\n\u001b[0;32m     71\u001b[0m                  service_args, desired_capabilities,\n\u001b[0;32m     72\u001b[0m                  service_log_path, service, keep_alive)\n",
      "File \u001b[1;32mc:\\Users\\gdevw\\anaconda3\\envs\\study\\lib\\site-packages\\selenium\\webdriver\\chromium\\webdriver.py:89\u001b[0m, in \u001b[0;36mChromiumDriver.__init__\u001b[1;34m(self, browser_name, vendor_prefix, port, options, service_args, desired_capabilities, service_log_path, service, keep_alive)\u001b[0m\n\u001b[0;32m     86\u001b[0m     \u001b[39mraise\u001b[39;00m \u001b[39mAttributeError\u001b[39;00m(\u001b[39m'\u001b[39m\u001b[39mservice cannot be None\u001b[39m\u001b[39m'\u001b[39m)\n\u001b[0;32m     88\u001b[0m \u001b[39mself\u001b[39m\u001b[39m.\u001b[39mservice \u001b[39m=\u001b[39m service\n\u001b[1;32m---> 89\u001b[0m \u001b[39mself\u001b[39;49m\u001b[39m.\u001b[39;49mservice\u001b[39m.\u001b[39;49mstart()\n\u001b[0;32m     91\u001b[0m \u001b[39mtry\u001b[39;00m:\n\u001b[0;32m     92\u001b[0m     \u001b[39msuper\u001b[39m()\u001b[39m.\u001b[39m\u001b[39m__init__\u001b[39m(\n\u001b[0;32m     93\u001b[0m         command_executor\u001b[39m=\u001b[39mChromiumRemoteConnection(\n\u001b[0;32m     94\u001b[0m             remote_server_addr\u001b[39m=\u001b[39m\u001b[39mself\u001b[39m\u001b[39m.\u001b[39mservice\u001b[39m.\u001b[39mservice_url,\n\u001b[0;32m     95\u001b[0m             browser_name\u001b[39m=\u001b[39mbrowser_name, vendor_prefix\u001b[39m=\u001b[39mvendor_prefix,\n\u001b[0;32m     96\u001b[0m             keep_alive\u001b[39m=\u001b[39mkeep_alive, ignore_proxy\u001b[39m=\u001b[39m_ignore_proxy),\n\u001b[0;32m     97\u001b[0m         options\u001b[39m=\u001b[39moptions)\n",
      "File \u001b[1;32mc:\\Users\\gdevw\\anaconda3\\envs\\study\\lib\\site-packages\\selenium\\webdriver\\common\\service.py:81\u001b[0m, in \u001b[0;36mService.start\u001b[1;34m(self)\u001b[0m\n\u001b[0;32m     79\u001b[0m \u001b[39mexcept\u001b[39;00m \u001b[39mOSError\u001b[39;00m \u001b[39mas\u001b[39;00m err:\n\u001b[0;32m     80\u001b[0m     \u001b[39mif\u001b[39;00m err\u001b[39m.\u001b[39merrno \u001b[39m==\u001b[39m errno\u001b[39m.\u001b[39mENOENT:\n\u001b[1;32m---> 81\u001b[0m         \u001b[39mraise\u001b[39;00m WebDriverException(\n\u001b[0;32m     82\u001b[0m             \u001b[39m\"\u001b[39m\u001b[39m'\u001b[39m\u001b[39m{}\u001b[39;00m\u001b[39m'\u001b[39m\u001b[39m executable needs to be in PATH. \u001b[39m\u001b[39m{}\u001b[39;00m\u001b[39m\"\u001b[39m\u001b[39m.\u001b[39mformat(\n\u001b[0;32m     83\u001b[0m                 os\u001b[39m.\u001b[39mpath\u001b[39m.\u001b[39mbasename(\u001b[39mself\u001b[39m\u001b[39m.\u001b[39mpath), \u001b[39mself\u001b[39m\u001b[39m.\u001b[39mstart_error_message)\n\u001b[0;32m     84\u001b[0m         )\n\u001b[0;32m     85\u001b[0m     \u001b[39melif\u001b[39;00m err\u001b[39m.\u001b[39merrno \u001b[39m==\u001b[39m errno\u001b[39m.\u001b[39mEACCES:\n\u001b[0;32m     86\u001b[0m         \u001b[39mraise\u001b[39;00m WebDriverException(\n\u001b[0;32m     87\u001b[0m             \u001b[39m\"\u001b[39m\u001b[39m'\u001b[39m\u001b[39m{}\u001b[39;00m\u001b[39m'\u001b[39m\u001b[39m executable may have wrong permissions. \u001b[39m\u001b[39m{}\u001b[39;00m\u001b[39m\"\u001b[39m\u001b[39m.\u001b[39mformat(\n\u001b[0;32m     88\u001b[0m                 os\u001b[39m.\u001b[39mpath\u001b[39m.\u001b[39mbasename(\u001b[39mself\u001b[39m\u001b[39m.\u001b[39mpath), \u001b[39mself\u001b[39m\u001b[39m.\u001b[39mstart_error_message)\n\u001b[0;32m     89\u001b[0m         )\n",
      "\u001b[1;31mWebDriverException\u001b[0m: Message: 'chromedriver.exe' executable needs to be in PATH. Please see https://chromedriver.chromium.org/home\n"
     ]
    }
   ],
   "source": [
    "options = webdriver.ChromeOptions()\n",
    "options.add_experimental_option(\"excludeSwitches\", [\"enable-logging\"])\n",
    "browser = webdriver.Chrome(options=options)\n",
    "chrome_path = 'chromedriver.exe' \n",
    "driver = webdriver.Chrome(chrome_path)\n",
    "driver.get('https://www.weather.go.kr/w/weather/forecast/short-term.do')\n",
    "element = driver.find_element(By.CLASS_NAME,'sym-btn.sch-b')\n",
    "element.click()\n",
    "search_bar = driver.find_element(By.CLASS_NAME,'input')\n",
    "search_bar.send_keys('은천동')"
   ]
  },
  {
   "cell_type": "code",
   "execution_count": 6,
   "metadata": {},
   "outputs": [
    {
     "ename": "ElementNotInteractableException",
     "evalue": "Message: element not interactable\n  (Session info: chrome=105.0.5195.102)\nStacktrace:\nBacktrace:\n\tOrdinal0 [0x007FDF13+2219795]\n\tOrdinal0 [0x00792841+1779777]\n\tOrdinal0 [0x006A4100+803072]\n\tOrdinal0 [0x006CE523+976163]\n\tOrdinal0 [0x006CDB93+973715]\n\tOrdinal0 [0x006EE7FC+1107964]\n\tOrdinal0 [0x006C94B4+955572]\n\tOrdinal0 [0x006EEA14+1108500]\n\tOrdinal0 [0x006FF192+1175954]\n\tOrdinal0 [0x006EE616+1107478]\n\tOrdinal0 [0x006C7F89+950153]\n\tOrdinal0 [0x006C8F56+954198]\n\tGetHandleVerifier [0x00AF2CB2+3040210]\n\tGetHandleVerifier [0x00AE2BB4+2974420]\n\tGetHandleVerifier [0x00896A0A+565546]\n\tGetHandleVerifier [0x00895680+560544]\n\tOrdinal0 [0x00799A5C+1808988]\n\tOrdinal0 [0x0079E3A8+1827752]\n\tOrdinal0 [0x0079E495+1827989]\n\tOrdinal0 [0x007A80A4+1867940]\n\tBaseThreadInitThunk [0x76F56739+25]\n\tRtlGetFullPathName_UEx [0x773190AF+1215]\n\tRtlGetFullPathName_UEx [0x7731907D+1165]\n",
     "output_type": "error",
     "traceback": [
      "\u001b[1;31m---------------------------------------------------------------------------\u001b[0m",
      "\u001b[1;31mElementNotInteractableException\u001b[0m           Traceback (most recent call last)",
      "\u001b[1;32mc:\\Users\\gdevw\\바탕 화면\\MLP-Python\\실습\\실습 채우기\\Selenium\\selenium_실습.ipynb 셀 30\u001b[0m in \u001b[0;36m<cell line: 2>\u001b[1;34m()\u001b[0m\n\u001b[0;32m      <a href='vscode-notebook-cell:/c%3A/Users/gdevw/%EB%B0%94%ED%83%95%20%ED%99%94%EB%A9%B4/MLP-Python/%EC%8B%A4%EC%8A%B5/%EC%8B%A4%EC%8A%B5%20%EC%B1%84%EC%9A%B0%EA%B8%B0/Selenium/selenium_%EC%8B%A4%EC%8A%B5.ipynb#X41sZmlsZQ%3D%3D?line=0'>1</a>\u001b[0m search_bar \u001b[39m=\u001b[39m driver\u001b[39m.\u001b[39mfind_element(By\u001b[39m.\u001b[39mCLASS_NAME,\u001b[39m'\u001b[39m\u001b[39minput\u001b[39m\u001b[39m'\u001b[39m)\n\u001b[1;32m----> <a href='vscode-notebook-cell:/c%3A/Users/gdevw/%EB%B0%94%ED%83%95%20%ED%99%94%EB%A9%B4/MLP-Python/%EC%8B%A4%EC%8A%B5/%EC%8B%A4%EC%8A%B5%20%EC%B1%84%EC%9A%B0%EA%B8%B0/Selenium/selenium_%EC%8B%A4%EC%8A%B5.ipynb#X41sZmlsZQ%3D%3D?line=1'>2</a>\u001b[0m search_bar\u001b[39m.\u001b[39;49msend_keys(\u001b[39m'\u001b[39;49m\u001b[39m은천동\u001b[39;49m\u001b[39m'\u001b[39;49m)\n",
      "File \u001b[1;32mc:\\Users\\gdevw\\anaconda3\\envs\\study\\lib\\site-packages\\selenium\\webdriver\\remote\\webelement.py:223\u001b[0m, in \u001b[0;36mWebElement.send_keys\u001b[1;34m(self, *value)\u001b[0m\n\u001b[0;32m    220\u001b[0m             remote_files\u001b[39m.\u001b[39mappend(\u001b[39mself\u001b[39m\u001b[39m.\u001b[39m_upload(file))\n\u001b[0;32m    221\u001b[0m         value \u001b[39m=\u001b[39m \u001b[39m'\u001b[39m\u001b[39m\\n\u001b[39;00m\u001b[39m'\u001b[39m\u001b[39m.\u001b[39mjoin(remote_files)\n\u001b[1;32m--> 223\u001b[0m \u001b[39mself\u001b[39;49m\u001b[39m.\u001b[39;49m_execute(Command\u001b[39m.\u001b[39;49mSEND_KEYS_TO_ELEMENT,\n\u001b[0;32m    224\u001b[0m               {\u001b[39m'\u001b[39;49m\u001b[39mtext\u001b[39;49m\u001b[39m'\u001b[39;49m: \u001b[39m\"\u001b[39;49m\u001b[39m\"\u001b[39;49m\u001b[39m.\u001b[39;49mjoin(keys_to_typing(value)),\n\u001b[0;32m    225\u001b[0m                \u001b[39m'\u001b[39;49m\u001b[39mvalue\u001b[39;49m\u001b[39m'\u001b[39;49m: keys_to_typing(value)})\n",
      "File \u001b[1;32mc:\\Users\\gdevw\\anaconda3\\envs\\study\\lib\\site-packages\\selenium\\webdriver\\remote\\webelement.py:396\u001b[0m, in \u001b[0;36mWebElement._execute\u001b[1;34m(self, command, params)\u001b[0m\n\u001b[0;32m    394\u001b[0m     params \u001b[39m=\u001b[39m {}\n\u001b[0;32m    395\u001b[0m params[\u001b[39m'\u001b[39m\u001b[39mid\u001b[39m\u001b[39m'\u001b[39m] \u001b[39m=\u001b[39m \u001b[39mself\u001b[39m\u001b[39m.\u001b[39m_id\n\u001b[1;32m--> 396\u001b[0m \u001b[39mreturn\u001b[39;00m \u001b[39mself\u001b[39;49m\u001b[39m.\u001b[39;49m_parent\u001b[39m.\u001b[39;49mexecute(command, params)\n",
      "File \u001b[1;32mc:\\Users\\gdevw\\anaconda3\\envs\\study\\lib\\site-packages\\selenium\\webdriver\\remote\\webdriver.py:428\u001b[0m, in \u001b[0;36mWebDriver.execute\u001b[1;34m(self, driver_command, params)\u001b[0m\n\u001b[0;32m    426\u001b[0m response \u001b[39m=\u001b[39m \u001b[39mself\u001b[39m\u001b[39m.\u001b[39mcommand_executor\u001b[39m.\u001b[39mexecute(driver_command, params)\n\u001b[0;32m    427\u001b[0m \u001b[39mif\u001b[39;00m response:\n\u001b[1;32m--> 428\u001b[0m     \u001b[39mself\u001b[39;49m\u001b[39m.\u001b[39;49merror_handler\u001b[39m.\u001b[39;49mcheck_response(response)\n\u001b[0;32m    429\u001b[0m     response[\u001b[39m'\u001b[39m\u001b[39mvalue\u001b[39m\u001b[39m'\u001b[39m] \u001b[39m=\u001b[39m \u001b[39mself\u001b[39m\u001b[39m.\u001b[39m_unwrap_value(\n\u001b[0;32m    430\u001b[0m         response\u001b[39m.\u001b[39mget(\u001b[39m'\u001b[39m\u001b[39mvalue\u001b[39m\u001b[39m'\u001b[39m, \u001b[39mNone\u001b[39;00m))\n\u001b[0;32m    431\u001b[0m     \u001b[39mreturn\u001b[39;00m response\n",
      "File \u001b[1;32mc:\\Users\\gdevw\\anaconda3\\envs\\study\\lib\\site-packages\\selenium\\webdriver\\remote\\errorhandler.py:243\u001b[0m, in \u001b[0;36mErrorHandler.check_response\u001b[1;34m(self, response)\u001b[0m\n\u001b[0;32m    241\u001b[0m         alert_text \u001b[39m=\u001b[39m value[\u001b[39m'\u001b[39m\u001b[39malert\u001b[39m\u001b[39m'\u001b[39m]\u001b[39m.\u001b[39mget(\u001b[39m'\u001b[39m\u001b[39mtext\u001b[39m\u001b[39m'\u001b[39m)\n\u001b[0;32m    242\u001b[0m     \u001b[39mraise\u001b[39;00m exception_class(message, screen, stacktrace, alert_text)  \u001b[39m# type: ignore[call-arg]  # mypy is not smart enough here\u001b[39;00m\n\u001b[1;32m--> 243\u001b[0m \u001b[39mraise\u001b[39;00m exception_class(message, screen, stacktrace)\n",
      "\u001b[1;31mElementNotInteractableException\u001b[0m: Message: element not interactable\n  (Session info: chrome=105.0.5195.102)\nStacktrace:\nBacktrace:\n\tOrdinal0 [0x007FDF13+2219795]\n\tOrdinal0 [0x00792841+1779777]\n\tOrdinal0 [0x006A4100+803072]\n\tOrdinal0 [0x006CE523+976163]\n\tOrdinal0 [0x006CDB93+973715]\n\tOrdinal0 [0x006EE7FC+1107964]\n\tOrdinal0 [0x006C94B4+955572]\n\tOrdinal0 [0x006EEA14+1108500]\n\tOrdinal0 [0x006FF192+1175954]\n\tOrdinal0 [0x006EE616+1107478]\n\tOrdinal0 [0x006C7F89+950153]\n\tOrdinal0 [0x006C8F56+954198]\n\tGetHandleVerifier [0x00AF2CB2+3040210]\n\tGetHandleVerifier [0x00AE2BB4+2974420]\n\tGetHandleVerifier [0x00896A0A+565546]\n\tGetHandleVerifier [0x00895680+560544]\n\tOrdinal0 [0x00799A5C+1808988]\n\tOrdinal0 [0x0079E3A8+1827752]\n\tOrdinal0 [0x0079E495+1827989]\n\tOrdinal0 [0x007A80A4+1867940]\n\tBaseThreadInitThunk [0x76F56739+25]\n\tRtlGetFullPathName_UEx [0x773190AF+1215]\n\tRtlGetFullPathName_UEx [0x7731907D+1165]\n"
     ]
    }
   ],
   "source": [
    "search_bar = driver.find_element(By.CLASS_NAME,'input')\n",
    "search_bar.send_keys('은천동')"
   ]
  },
  {
   "cell_type": "code",
   "execution_count": null,
   "metadata": {},
   "outputs": [],
   "source": []
  }
 ],
 "metadata": {
  "kernelspec": {
   "display_name": "Python 3.10.4 ('study')",
   "language": "python",
   "name": "python3"
  },
  "language_info": {
   "codemirror_mode": {
    "name": "ipython",
    "version": 3
   },
   "file_extension": ".py",
   "mimetype": "text/x-python",
   "name": "python",
   "nbconvert_exporter": "python",
   "pygments_lexer": "ipython3",
   "version": "3.10.4"
  },
  "orig_nbformat": 4,
  "vscode": {
   "interpreter": {
    "hash": "6db2f3abba949d3272d30621feaf45d6fc6a29eb863b33b0d60c0925d8592697"
   }
  }
 },
 "nbformat": 4,
 "nbformat_minor": 2
}

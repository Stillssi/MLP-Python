{
 "cells": [
  {
   "cell_type": "markdown",
   "metadata": {},
   "source": [
    "## 판다스?\n",
    "\n",
    "테이터프레임(엑셀과 비슷) 과 시리즈라는 자료형  \n",
    "데이터 분석을 위한 다양한 기능을 제공하는 라이브러리  \n",
    "R의 데이터프레임에 영향  \n",
    "내부적으로 numpy 를 사용하므로 함께 import  \n",
    "\n",
    "http://pandas.pydata.org\n",
    "\n",
    "기능요약  \n",
    "https://pandas.pydata.org/Pandas_Cheat_Sheet.pdf\n"
   ]
  },
  {
   "cell_type": "markdown",
   "metadata": {},
   "source": [
    "# Series"
   ]
  },
  {
   "cell_type": "code",
   "execution_count": null,
   "metadata": {},
   "outputs": [],
   "source": [
    "import pandas as pd\n",
    "import numpy as np"
   ]
  },
  {
   "cell_type": "code",
   "execution_count": null,
   "metadata": {},
   "outputs": [],
   "source": [
    "x = [1, 2, 3, 4, 5]\n",
    "pd.Series(x)"
   ]
  },
  {
   "cell_type": "code",
   "execution_count": null,
   "metadata": {},
   "outputs": [],
   "source": [
    "x = np.array([1, 2, 3, 4, 5])\n",
    "pd.Series(x) #Series는 index와 value값으로 구분"
   ]
  },
  {
   "cell_type": "code",
   "execution_count": null,
   "metadata": {},
   "outputs": [],
   "source": [
    "x = [1, 2, 3, 4, 5]\n",
    "x = pd.Series(x)\n",
    "\n",
    "print(x[0])\n",
    "print(x[1: 3])\n",
    "print(x[::-1]) #뒤집는거\n",
    "print(x[x > 3]) #불리언인덱싱\n",
    "print(x + 1) \n",
    "print(x * 10)\n",
    "print(x + x)"
   ]
  },
  {
   "cell_type": "markdown",
   "metadata": {},
   "source": [
    "# Series Index"
   ]
  },
  {
   "cell_type": "code",
   "execution_count": null,
   "metadata": {},
   "outputs": [],
   "source": [
    "import pandas as pd\n",
    "import numpy as np\n",
    "\n",
    "x = [1, 2, 3, 4, 5]\n",
    "x = pd.Series(x)\n",
    "print(x.index)\n",
    "print(x.values)"
   ]
  },
  {
   "cell_type": "code",
   "execution_count": null,
   "metadata": {},
   "outputs": [],
   "source": [
    "x = [1, 2, 3, 4, 5]\n",
    "x = pd.Series(x, index=['a','b','c','d','e']) #인덱스설정\n",
    "print(x)\n",
    "\n",
    "print(x['a']) #명시적 인덱스접근\n",
    "print(x[0]) #묵시적 인덱스접근\n",
    "print(x[['a','e']]) #팬시색인, 한번에 여러값 접근\n",
    "print(x.a)"
   ]
  },
  {
   "cell_type": "code",
   "execution_count": null,
   "metadata": {},
   "outputs": [],
   "source": [
    "x = [1, 2, 3, 4, 5]\n",
    "x = pd.Series(x, index=[1, 2, 3, 4, 5])\n",
    "\n",
    "# x[0] 오류\n",
    "print(x.iloc[0]) #묵시적 인덱스로만\n",
    "print(x.loc[1]) #명시적 인덱스로만"
   ]
  },
  {
   "cell_type": "markdown",
   "metadata": {},
   "source": [
    "## 딕셔너리 to Series"
   ]
  },
  {
   "cell_type": "code",
   "execution_count": null,
   "metadata": {},
   "outputs": [],
   "source": [
    "x = {\"수학\":90, \"영어\":80, \"과학\":95, \"미술\":80}\n",
    "x = pd.Series(x)\n",
    "\n",
    "x"
   ]
  },
  {
   "cell_type": "code",
   "execution_count": null,
   "metadata": {},
   "outputs": [],
   "source": [
    "print(x['수학'])"
   ]
  },
  {
   "cell_type": "code",
   "execution_count": null,
   "metadata": {},
   "outputs": [],
   "source": [
    "print(x['영어':])"
   ]
  },
  {
   "cell_type": "code",
   "execution_count": null,
   "metadata": {},
   "outputs": [],
   "source": [
    "x = {\"수학\":90, \"영어\":80, \"과학\":95, \"미술\":80}\n",
    "x = pd.Series(x, index=[\"수학\", \"영어\", \"과학\"])\n",
    "x"
   ]
  },
  {
   "cell_type": "markdown",
   "metadata": {},
   "source": [
    "## Multi Index"
   ]
  },
  {
   "cell_type": "code",
   "execution_count": null,
   "metadata": {
    "scrolled": true
   },
   "outputs": [],
   "source": [
    "student_1 = {\"수학\":90, \"영어\":80, \"과학\":95, \"미술\":80}\n",
    "student_2 = {\"수학\":70, \"영어\":90, \"과학\":100, \"미술\":70}"
   ]
  },
  {
   "cell_type": "code",
   "execution_count": null,
   "metadata": {},
   "outputs": [],
   "source": [
    "\n",
    "#index_1 = ['홍길동','홍길동','홍길동','홍길동','이몽룡','이몽룡','이몽룡','이몽룡']\n",
    "index_1 = ['홍길동' for i in range(len(student_1))] + ['이몽룡' for i in range(len(student_2))]\n",
    "print(index_1)\n"
   ]
  },
  {
   "cell_type": "code",
   "execution_count": null,
   "metadata": {},
   "outputs": [],
   "source": [
    "\n",
    "#index_2 = ['수학','영어','과학','미술','수학','영어','과학','미술']\n",
    "index_2 = [i for i in student_1] + [i for i in student_2]\n",
    "print(index_2)"
   ]
  },
  {
   "cell_type": "code",
   "execution_count": null,
   "metadata": {},
   "outputs": [],
   "source": [
    "\n",
    "value_all = list(student_1.values()) + list(student_2.values())\n",
    "print(value_all)"
   ]
  },
  {
   "cell_type": "code",
   "execution_count": null,
   "metadata": {},
   "outputs": [],
   "source": []
  },
  {
   "cell_type": "code",
   "execution_count": null,
   "metadata": {},
   "outputs": [],
   "source": [
    "import pandas as pd\n",
    "students = pd.Series(value_all, index=[index_1, index_2])\n",
    "students"
   ]
  },
  {
   "cell_type": "code",
   "execution_count": null,
   "metadata": {},
   "outputs": [],
   "source": [
    "students['홍길동']"
   ]
  },
  {
   "cell_type": "code",
   "execution_count": null,
   "metadata": {},
   "outputs": [],
   "source": [
    "students['이몽룡']"
   ]
  },
  {
   "cell_type": "markdown",
   "metadata": {},
   "source": [
    "## 결측값 처리방법 (NaN. None)"
   ]
  },
  {
   "cell_type": "code",
   "execution_count": null,
   "metadata": {},
   "outputs": [],
   "source": [
    "x = [1, None, 2, None, 3, 4, None]\n",
    "x = pd.Series(x)\n",
    "print(x)\n"
   ]
  },
  {
   "cell_type": "code",
   "execution_count": null,
   "metadata": {},
   "outputs": [],
   "source": [
    "\n",
    "print(x.sum())\n",
    "print(x.max())\n",
    "print(x.min())\n",
    "\n",
    "#결측값 개수\n",
    "print(x.isnull().sum())\n",
    "print(x.notnull().sum())\n",
    "\n",
    "#결측값 제거\n",
    "print(x.dropna())\n",
    "\n",
    "#결측값을 다른값으로 채우기\n",
    "x.fillna(0)"
   ]
  },
  {
   "cell_type": "markdown",
   "metadata": {},
   "source": [
    "## concat"
   ]
  },
  {
   "cell_type": "code",
   "execution_count": null,
   "metadata": {},
   "outputs": [],
   "source": [
    "x = pd.Series([1, 2, 3])\n",
    "y = pd.Series([4, 5, 6])\n",
    "z = pd.Series([7, 8, 9])\n",
    "\n",
    "pd.concat([x, y, z]) #인덱스 그대로임\n"
   ]
  },
  {
   "cell_type": "code",
   "execution_count": null,
   "metadata": {
    "scrolled": true
   },
   "outputs": [],
   "source": [
    "pd.concat([x, y, z], verify_integrity=True) #같은 값의 인덱스가 있을경우 오류"
   ]
  },
  {
   "cell_type": "code",
   "execution_count": null,
   "metadata": {},
   "outputs": [],
   "source": [
    "pd.concat([x, y, z], verify_integrity=False, ignore_index=True)"
   ]
  },
  {
   "cell_type": "code",
   "execution_count": null,
   "metadata": {},
   "outputs": [],
   "source": [
    "pd.concat([x, y, z], verify_integrity=False, ignore_index=True, axis=1) #데이터프레임(2차원)"
   ]
  },
  {
   "cell_type": "code",
   "execution_count": null,
   "metadata": {},
   "outputs": [],
   "source": [
    "x = pd.Series([1, 2, 3, 4])\n",
    "y = pd.Series([4, 5, 6])\n",
    "z = pd.Series([7, 8, 9])"
   ]
  },
  {
   "cell_type": "code",
   "execution_count": null,
   "metadata": {
    "scrolled": true
   },
   "outputs": [],
   "source": [
    "pd.concat([x, y, z], verify_integrity=False, ignore_index=True, axis=1, join='inner')"
   ]
  },
  {
   "cell_type": "code",
   "execution_count": null,
   "metadata": {},
   "outputs": [],
   "source": [
    "pd.concat([x, y, z], verify_integrity=False, ignore_index=True, axis=1, join='outer')"
   ]
  },
  {
   "cell_type": "markdown",
   "metadata": {},
   "source": [
    "## 연산과 집계함수"
   ]
  },
  {
   "cell_type": "code",
   "execution_count": null,
   "metadata": {},
   "outputs": [],
   "source": [
    "x = pd.Series([1, 2, 3, 4, 5])\n",
    "y = pd.Series([6, 7, 8, 9, 0])"
   ]
  },
  {
   "cell_type": "code",
   "execution_count": null,
   "metadata": {},
   "outputs": [],
   "source": [
    "\n",
    "#더하기\n",
    "print(x.add(10)) #각각에 10 더해짐\n",
    "print(x.add(y)) #행렬합\n"
   ]
  },
  {
   "cell_type": "code",
   "execution_count": null,
   "metadata": {},
   "outputs": [],
   "source": [
    "\n",
    "#빼기\n",
    "print(x.sub(y))\n"
   ]
  },
  {
   "cell_type": "code",
   "execution_count": null,
   "metadata": {},
   "outputs": [],
   "source": [
    "\n",
    "#곱하기\n",
    "print(x.mul(y))\n",
    "\n",
    "#나누기\n",
    "print(x.floordiv(2)) #몫\n",
    "print(x.div(2))\n",
    "print(x.mod(2))\n",
    "\n",
    "#제곱\n",
    "print(x.pow(2))\n"
   ]
  },
  {
   "cell_type": "code",
   "execution_count": null,
   "metadata": {},
   "outputs": [],
   "source": [
    "\n",
    "#기초통계\n",
    "print(x.count())\n",
    "print(x.min())\n",
    "print(x.max())\n",
    "print(x.mean())\n",
    "print(x.median()) #중간값\n",
    "print(x.sum())\n",
    "print(x.std()) # 표준편차\n",
    "print(x.var()) # 분산\n",
    "print(x.mad()) # 절대표준편차\n",
    "print(x.describe()) #기초통계모두\n",
    "\n",
    "print(x.head(2)) #앞의 일부데이터 확인\n",
    "print(x.tail(2)) #뒤의 일부데이터 확인"
   ]
  },
  {
   "cell_type": "markdown",
   "metadata": {},
   "source": [
    "## 실습1"
   ]
  },
  {
   "cell_type": "code",
   "execution_count": null,
   "metadata": {},
   "outputs": [],
   "source": [
    "import numpy as np\n",
    "import pandas as pd\n",
    "x = [np.nan,1,2,3,4,5]\n",
    "#x배열에서 (0~5 index 중) 임의의 한개 원소를 가져온다\n",
    "#list comprehension을 사용해서 임의로 20개를 선택한 배열을 만든다\n",
    "\n",
    "y = pd.Series([x[np.random.randint(0,6)] for i in range(20)])\n",
    "#print(y)\n",
    "print(y.isnull().sum()) #false는 0으로 True는 1로 반환해서 더하면 개수임\n",
    "a = y.dropna()\n",
    "#print(a)\n",
    "b = y.fillna(y.mean())\n",
    "\n",
    "print(b)"
   ]
  },
  {
   "cell_type": "markdown",
   "metadata": {},
   "source": [
    "# DataFrame"
   ]
  },
  {
   "cell_type": "code",
   "execution_count": null,
   "metadata": {},
   "outputs": [],
   "source": [
    "sales_data = {    \n",
    "    '연도':[2015, 2016, 2017, 2018, 2019, 2020],\n",
    "    '판매량':[103, 70, 130, 160, 190, 230],\n",
    "    '매출':[500000, 300000, 400000, 550000, 700000, 680000],\n",
    "    '순이익':[370000, 190000, 300000, 480000, 600000, 590000]\n",
    "}\n",
    "\n",
    "sales_data = pd.DataFrame(sales_data)\n",
    "sales_data"
   ]
  },
  {
   "cell_type": "code",
   "execution_count": null,
   "metadata": {},
   "outputs": [],
   "source": [
    "sales_data['판매량']"
   ]
  },
  {
   "cell_type": "code",
   "execution_count": null,
   "metadata": {},
   "outputs": [],
   "source": [
    "sales_data.iloc[2] #묵시적 접근"
   ]
  },
  {
   "cell_type": "code",
   "execution_count": null,
   "metadata": {},
   "outputs": [],
   "source": [
    "sales_data = {    \n",
    "    '연도':[2015, 2016, 2017, 2018, 2019, 2020],\n",
    "    '판매량':[103, 70, 130, 160, 190, 230],\n",
    "    '매출':[500000, 300000, 400000, 550000, 700000, 680000],\n",
    "    '순이익':[370000, 190000, 300000, 480000, 600000, 590000]\n",
    "}\n",
    "\n",
    "pd.DataFrame(sales_data, columns=['판매량','매출','순이익'], index=sales_data['연도'])"
   ]
  },
  {
   "cell_type": "code",
   "execution_count": null,
   "metadata": {},
   "outputs": [],
   "source": [
    "print(temp_df.loc[2017]) #명시적 인덱스 접근\n",
    "print(temp_df.iloc[2]) #묵시적 인덱스 접근 "
   ]
  },
  {
   "cell_type": "markdown",
   "metadata": {},
   "source": [
    "## 파일생성"
   ]
  },
  {
   "cell_type": "code",
   "execution_count": null,
   "metadata": {},
   "outputs": [],
   "source": [
    "%%writefile sales_data.csv\n",
    "연도,판매량,매출,순이익\n",
    "2015,103,500000,370000\n",
    "2016,70,300000,190000\n",
    "2017,130,400000,300000\n",
    "2018,60,550000,480000\n",
    "2019,190,700000,600000\n",
    "2020,230,680000,590000"
   ]
  },
  {
   "cell_type": "markdown",
   "metadata": {},
   "source": [
    "## CSV 파일읽기"
   ]
  },
  {
   "cell_type": "code",
   "execution_count": null,
   "metadata": {
    "scrolled": true
   },
   "outputs": [],
   "source": [
    "sales_data = pd.read_csv('sales_data.csv', index_col='연도', header=0, sep=',')\n",
    "sales_data"
   ]
  },
  {
   "cell_type": "markdown",
   "metadata": {},
   "source": [
    "## CSV 파일쓰기"
   ]
  },
  {
   "cell_type": "code",
   "execution_count": null,
   "metadata": {},
   "outputs": [],
   "source": [
    "sales_data.to_csv('sales_data_save.csv', encoding='utf-8-sig')"
   ]
  },
  {
   "cell_type": "code",
   "execution_count": null,
   "metadata": {},
   "outputs": [],
   "source": [
    "pd.read_csv('sales_data_save.csv',header=0, index_col='연도')"
   ]
  },
  {
   "cell_type": "markdown",
   "metadata": {},
   "source": [
    "## 데이터 추가"
   ]
  },
  {
   "cell_type": "code",
   "execution_count": null,
   "metadata": {},
   "outputs": [],
   "source": [
    "sales_data = {    \n",
    "    '연도':[2015, 2016, 2017, 2018, 2019, 2020],\n",
    "    '판매량':[103, 70, 130, 160, 190, 230],\n",
    "    '매출':[500000, 300000, 400000, 550000, 700000, 680000],\n",
    "    '순이익':[370000, 190000, 300000, 480000, 600000, 590000]\n",
    "}\n",
    "\n",
    "sales_data = pd.DataFrame(sales_data)\n",
    "sales_data"
   ]
  },
  {
   "cell_type": "code",
   "execution_count": null,
   "metadata": {},
   "outputs": [],
   "source": [
    "sales_data['순이익율'] = (sales_data['순이익']/sales_data['매출']) * 100\n",
    "sales_data"
   ]
  },
  {
   "cell_type": "code",
   "execution_count": null,
   "metadata": {},
   "outputs": [],
   "source": [
    "def check(n):\n",
    "    if n > 80:\n",
    "        return '높음'\n",
    "    else:\n",
    "        return '낮음'\n",
    "\n",
    "sales_data['순이익율_비교'] = sales_data['순이익율'].apply(check)\n",
    "#조건표현식: True_Value if 조건 else \n",
    "#sales_data['순이익율_비교'] = sales_data['순이익율'].apply(lambda n: '높음' if n > 80 else '낮음')\n",
    "sales_data"
   ]
  },
  {
   "cell_type": "markdown",
   "metadata": {},
   "source": [
    "## 데이터 추가 2"
   ]
  },
  {
   "cell_type": "code",
   "execution_count": null,
   "metadata": {},
   "outputs": [],
   "source": [
    "sales_data = {    \n",
    "    '연도':[2015, 2016, 2017, 2018, 2019, 2020],\n",
    "    '판매량':[103, 70, 130, 160, 190, 230],\n",
    "    '매출':[500000, 300000, 400000, 550000, 700000, 680000],\n",
    "    '순이익':[370000, 190000, 300000, 480000, 600000, 590000]\n",
    "}\n",
    "\n",
    "sales_data = pd.DataFrame(sales_data)\n",
    "sales_data"
   ]
  },
  {
   "cell_type": "code",
   "execution_count": null,
   "metadata": {},
   "outputs": [],
   "source": [
    "sales_data[sales_data['매출'] > 300000]\n",
    "sales_data['판매량']\n"
   ]
  },
  {
   "cell_type": "code",
   "execution_count": null,
   "metadata": {},
   "outputs": [],
   "source": [
    "import numpy as np\n",
    "sales_data['판매량'].apply(lambda x: 0 if x>200 else x)"
   ]
  },
  {
   "cell_type": "code",
   "execution_count": null,
   "metadata": {},
   "outputs": [],
   "source": [
    "sales_data['테스트1'] = np.where(sales_data['판매량'] > 200, 0, sales_data['판매량'])\n",
    "sales_data"
   ]
  },
  {
   "cell_type": "code",
   "execution_count": null,
   "metadata": {},
   "outputs": [],
   "source": [
    "sales_data['테스트2'] = sales_data[sales_data['판매량'] < 100]['판매량'] + 50\n",
    "sales_data"
   ]
  },
  {
   "cell_type": "code",
   "execution_count": null,
   "metadata": {},
   "outputs": [],
   "source": [
    "sales_data.loc[6] = [2021, 720000,650000, 360, 0, 0]\n",
    "sales_data"
   ]
  },
  {
   "cell_type": "code",
   "execution_count": null,
   "metadata": {},
   "outputs": [],
   "source": [
    "sales_data.loc[7] = sales_data.loc[5] + 100\n",
    "sales_data\n"
   ]
  },
  {
   "cell_type": "markdown",
   "metadata": {},
   "source": [
    "## 데이터 삭제"
   ]
  },
  {
   "cell_type": "code",
   "execution_count": null,
   "metadata": {},
   "outputs": [],
   "source": [
    "sales_data = {    \n",
    "    '연도':[2015, 2016, 2017, 2018, 2019, 2020],\n",
    "    '판매량':[103, 70, 130, 160, 190, 230],\n",
    "    '매출':[500000, 300000, 400000, 550000, 700000, 680000],\n",
    "    '순이익':[370000, 190000, 300000, 480000, 600000, 590000]\n",
    "}\n",
    "\n",
    "sales_data = pd.DataFrame(sales_data)\n",
    "sales_data['테스트1'] = 'test1'\n",
    "sales_data['테스트2'] = 'test2'\n",
    "sales_data['테스트3'] = 'test3'\n",
    "\n",
    "sales_data"
   ]
  },
  {
   "cell_type": "code",
   "execution_count": null,
   "metadata": {},
   "outputs": [],
   "source": [
    "del sales_data['테스트1']\n",
    "sales_data"
   ]
  },
  {
   "cell_type": "code",
   "execution_count": null,
   "metadata": {},
   "outputs": [],
   "source": [
    "sales_data.drop(['테스트2'], axis='columns', inplace=True)\n",
    "sales_data"
   ]
  },
  {
   "cell_type": "code",
   "execution_count": null,
   "metadata": {},
   "outputs": [],
   "source": []
  },
  {
   "cell_type": "code",
   "execution_count": null,
   "metadata": {},
   "outputs": [],
   "source": [
    "sales_data.drop(['테스트3'], axis='columns', inplace=True)\n",
    "sales_data"
   ]
  },
  {
   "cell_type": "code",
   "execution_count": null,
   "metadata": {},
   "outputs": [],
   "source": [
    "sales_data.columns[[0,2]]\n",
    "sales_data.columns"
   ]
  },
  {
   "cell_type": "code",
   "execution_count": null,
   "metadata": {},
   "outputs": [],
   "source": [
    "sales_data.drop(sales_data.columns[[0, 2]], axis='columns', inplace=True)\n",
    "sales_data\n"
   ]
  },
  {
   "cell_type": "code",
   "execution_count": null,
   "metadata": {},
   "outputs": [],
   "source": [
    "sales_data.drop(0, inplace=True)\n",
    "sales_data"
   ]
  },
  {
   "cell_type": "code",
   "execution_count": null,
   "metadata": {},
   "outputs": [],
   "source": [
    "sales_data.drop([3, 4, 5], inplace=True) #3,4,5행 삭제\n",
    "sales_data"
   ]
  },
  {
   "cell_type": "code",
   "execution_count": null,
   "metadata": {},
   "outputs": [],
   "source": [
    "sales_data.reset_index(inplace=True)"
   ]
  },
  {
   "cell_type": "code",
   "execution_count": null,
   "metadata": {},
   "outputs": [],
   "source": [
    "sales_data.drop(['index'],axis='columns') #초기화된 인덱스\n",
    "sales_data.drop(sales_data.columns[0], axis='columns',inplace=True) #인덱스까지 다 삭제"
   ]
  },
  {
   "cell_type": "markdown",
   "metadata": {},
   "source": [
    "## Dataframe MultiIndex"
   ]
  },
  {
   "cell_type": "code",
   "execution_count": null,
   "metadata": {},
   "outputs": [],
   "source": [
    "df = pd.DataFrame(np.random.randint(1, 100, size=(4, 4)), index=[['A','A','B','B'],['a','b','a','b']], columns=[['가가','가가','나나','나나'],['가','나','가','나']])\n",
    "df"
   ]
  },
  {
   "cell_type": "code",
   "execution_count": null,
   "metadata": {},
   "outputs": [],
   "source": [
    "df['가가']"
   ]
  },
  {
   "cell_type": "code",
   "execution_count": null,
   "metadata": {},
   "outputs": [],
   "source": [
    "df.loc['A']\n",
    "\n"
   ]
  },
  {
   "cell_type": "code",
   "execution_count": null,
   "metadata": {},
   "outputs": [],
   "source": [
    "df.index"
   ]
  },
  {
   "cell_type": "code",
   "execution_count": null,
   "metadata": {},
   "outputs": [],
   "source": [
    "df.columns"
   ]
  },
  {
   "cell_type": "markdown",
   "metadata": {},
   "source": [
    "## GroupBy"
   ]
  },
  {
   "cell_type": "code",
   "execution_count": null,
   "metadata": {},
   "outputs": [],
   "source": [
    "df = pd.DataFrame(np.random.randint(1, 100, size=(8, 2)), index=[['A창고','A창고','A창고','A창고','B창고','B창고','B창고','B창고'],['사과','배','바나나','사과','사과','배','바나나','배']], columns=['판매','재고'])\n",
    "df.index.names = ['창고명','상품명']\n",
    "df"
   ]
  },
  {
   "cell_type": "code",
   "execution_count": null,
   "metadata": {},
   "outputs": [],
   "source": [
    "df.groupby('창고명').sum()"
   ]
  },
  {
   "cell_type": "code",
   "execution_count": null,
   "metadata": {},
   "outputs": [],
   "source": [
    "df.groupby('창고명').max()"
   ]
  },
  {
   "cell_type": "code",
   "execution_count": null,
   "metadata": {},
   "outputs": [],
   "source": [
    "df.groupby('창고명').min()"
   ]
  },
  {
   "cell_type": "code",
   "execution_count": null,
   "metadata": {},
   "outputs": [],
   "source": [
    "df.groupby('상품명').sum()"
   ]
  },
  {
   "cell_type": "code",
   "execution_count": null,
   "metadata": {},
   "outputs": [],
   "source": [
    "df.groupby(['창고명','상품명']).sum()"
   ]
  },
  {
   "cell_type": "markdown",
   "metadata": {},
   "source": [
    "## sort_values"
   ]
  },
  {
   "cell_type": "code",
   "execution_count": null,
   "metadata": {},
   "outputs": [],
   "source": [
    "df = pd.DataFrame(np.random.randint(1, 100, size=(8, 2)), index=[['A창고','A창고','A창고','A창고','B창고','B창고','B창고','B창고'],['사과','배','바나나','사과','사과','배','바나나','배']], columns=['판매','재고'])\n",
    "df"
   ]
  },
  {
   "cell_type": "code",
   "execution_count": null,
   "metadata": {},
   "outputs": [],
   "source": [
    "df.sort_values(by=\"판매\", ascending=True)"
   ]
  },
  {
   "cell_type": "code",
   "execution_count": null,
   "metadata": {},
   "outputs": [],
   "source": [
    "df.sort_values(by=[\"판매\", \"재고\"], ascending=[True, False])"
   ]
  },
  {
   "cell_type": "markdown",
   "metadata": {},
   "source": [
    "## 실습2"
   ]
  },
  {
   "cell_type": "code",
   "execution_count": null,
   "metadata": {},
   "outputs": [],
   "source": [
    "from random import random\n",
    "import pandas as pd\n",
    "random_1 = np.random.randint(1,100, size=(15,3))\n",
    "index_1 = ['1학년'] *5 + ['2학년']*5 +['3학년']*5\n",
    "index_2 = [f'{i}반' for i in range(1,6)]*5\n",
    "class_dataframe = pd.DataFrame(np.random.randint(1,100, size=(15,3)), index=[index_1], columns = ['국어','영어','과학'])\n",
    "\n",
    "#class_dataframe\n",
    "# class_dataframe['총점'] = class_dataframe['국어'] + class_dataframe['영어'] + class_dataframe['과학']\n",
    "# class_dataframe['평균'] = class_dataframe['총점']/4\n",
    "# class_dataframe.index.names = ['학년','반']\n",
    "# x = class_dataframe.groupby('학년').sum()"
   ]
  },
  {
   "cell_type": "code",
   "execution_count": null,
   "metadata": {},
   "outputs": [],
   "source": [
    "from dataclasses import dataclass\n",
    "import pandas as pd\n",
    "class_dataframe = pd.DataFrame(np.random.randint(1,100, size=(15,3)), index=[['1학년','1학년','1학년','1학년','1학년','2학년','2학년','2학년','2학년','2학년','3학년','3학년','3학년','3학년','3학년'],['1반','2반','3반','4반','5반','1반','2반','3반','4반','5반','1반','2반','3반','4반','5반']], columns = ['국어','영어','과학'])\n",
    "class_dataframe['총점'] = class_dataframe['국어'] + class_dataframe['영어'] + class_dataframe['과학']\n",
    "class_dataframe['평균'] = class_dataframe['총점']/4\n",
    "class_dataframe.index.names = ['학년','반']\n",
    "x = class_dataframe.groupby('학년').sum()\n",
    "\n",
    "x"
   ]
  },
  {
   "cell_type": "markdown",
   "metadata": {},
   "source": [
    "## 실습3"
   ]
  },
  {
   "cell_type": "code",
   "execution_count": null,
   "metadata": {},
   "outputs": [],
   "source": [
    "titanic_data = pd.read_csv('train.csv',index_col='PassengerId',header=0,sep=',')\n",
    "titanic_data"
   ]
  },
  {
   "cell_type": "code",
   "execution_count": null,
   "metadata": {},
   "outputs": [],
   "source": [
    "titanic_data['Age'].fillna(titanic_data['Age'].mean(),inplace=True)\n",
    "titanic_data['Cabin'].fillna('N', inplace=True)\n",
    "titanic_data['Embarked'].fillna('N')\n",
    "titanic_data.groupby('Sex').sum()['Survived'] #성별 생존자 합계"
   ]
  },
  {
   "cell_type": "code",
   "execution_count": null,
   "metadata": {},
   "outputs": [],
   "source": [
    "titanic_data.groupby('Pclass').sum()['Survived']"
   ]
  },
  {
   "cell_type": "code",
   "execution_count": null,
   "metadata": {},
   "outputs": [],
   "source": [
    "def change_age(age):\n",
    "    age = int(age)\n",
    "    if age >= 70:\n",
    "        return '노인'\n",
    "    elif age >=10:\n",
    "        return str(age//10) + '0대'\n",
    "    else:\n",
    "        return '유아'    "
   ]
  },
  {
   "cell_type": "code",
   "execution_count": null,
   "metadata": {},
   "outputs": [],
   "source": [
    "titanic_data['age_range'] = titanic_data['Age'].apply(change_age) #함수 적용"
   ]
  },
  {
   "cell_type": "code",
   "execution_count": null,
   "metadata": {},
   "outputs": [],
   "source": [
    "titanic_data.groupby('age_range').sum()['Survived']"
   ]
  },
  {
   "cell_type": "code",
   "execution_count": null,
   "metadata": {},
   "outputs": [],
   "source": [
    "import pandas as pd\n",
    "\n",
    "student1 = pd.Series({'국어':100, '영어':80, '수학':90})\n",
    "student2= pd.Series({'수학':80, '국어':90, '영어':80})\n",
    "\n",
    "addition = student1+student2\n",
    "substraction = student1 - student2\n",
    "multiplication = student1 * student2\n",
    "division = student1/student2\n",
    "print(type(division))\n",
    "print('\\n')\n",
    "\n",
    "result = pd.DataFrame([addition, substraction, multiplication, division], index = ['덧셈','뺄셈','곱셈','나눗셈'])\n",
    "\n",
    "print(result)"
   ]
  },
  {
   "cell_type": "code",
   "execution_count": null,
   "metadata": {},
   "outputs": [],
   "source": [
    "import pandas as pd\n",
    "import numpy as np\n",
    "\n",
    "student1 = pd.Series({'국어': np.nan, '영어':80, '수학':90})\n",
    "student2= pd.Series({'수학':80, '국어':90})\n",
    "\n",
    "addition = student1+student2\n",
    "substraction = student1 - student2\n",
    "multiplication = student1 * student2\n",
    "division = student1/student2\n",
    "print(type(division))\n",
    "print('\\n')\n",
    "\n",
    "result = pd.DataFrame([addition, substraction, multiplication, division], index = ['덧셈','뺄셈','곱셈','나눗셈'])\n",
    "\n",
    "print(result)"
   ]
  },
  {
   "cell_type": "code",
   "execution_count": null,
   "metadata": {},
   "outputs": [],
   "source": [
    "import pandas as pd\n",
    "import numpy as np\n",
    "\n",
    "student1 = pd.Series({'국어': np.nan, '영어':80, '수학':90})\n",
    "student2= pd.Series({'수학':80, '국어':90})\n",
    "\n",
    "sr_add = student1.add(student2, fill_value=0) #결측값 처리\n",
    "sr_sub = student1.sub(student2, fill_value=0)\n",
    "sr_mul = student1.mul(student2, fill_value=0)\n",
    "sr_div = student1.div(student2, fill_value=0)\n",
    "\n",
    "\n",
    "result = pd.DataFrame([sr_add, sr_sub, sr_mul, sr_div], index = ['덧셈','뺄셈','곱셈','나눗셈'])\n",
    "\n",
    "print(result)"
   ]
  },
  {
   "cell_type": "code",
   "execution_count": null,
   "metadata": {},
   "outputs": [],
   "source": [
    "import seaborn as sns\n",
    "\n",
    "titanic = sns.load_dataset('titanic')\n",
    "df = titanic.loc[:, ['age','fare']]\n",
    "print(df.head())\n",
    "print(type(df))\n",
    "\n",
    "addition = df +10\n",
    "print(addition.head())\n",
    "print(type(addition))\n",
    "\n",
    "subtraction = addition - df\n",
    "print(subtraction.tail())\n",
    "print('\\n')\n",
    "print(type(subtraction))"
   ]
  },
  {
   "cell_type": "code",
   "execution_count": null,
   "metadata": {},
   "outputs": [],
   "source": [
    "file_path = './read_csv_sample.csv'\n",
    "df1 = pd.read_csv(file_path)\n",
    "print(df1)\n",
    "\n",
    "df2 = pd.read_csv(file_path, header=None)\n",
    "print(df2)\n",
    "\n",
    "df3 = pd.read_csv(file_path, index_col=None)\n",
    "print(df3)"
   ]
  },
  {
   "cell_type": "code",
   "execution_count": null,
   "metadata": {},
   "outputs": [],
   "source": [
    "import pandas as pd\n",
    "df1 = pd.read_excel(\"C:/Users/gdevw/바탕 화면/ssac/ssac2/커리큘럼/002. 데이터분석/data/남북한발전전력량.xlsx\")"
   ]
  },
  {
   "cell_type": "code",
   "execution_count": null,
   "metadata": {},
   "outputs": [],
   "source": [
    "df = pd.read_json(\"C:/Users/gdevw/바탕 화면/ssac/ssac2/커리큘럼/002. 데이터분석/data/read_json_sample.json\")"
   ]
  },
  {
   "cell_type": "code",
   "execution_count": null,
   "metadata": {},
   "outputs": [],
   "source": [
    "print(df)\n",
    "print(df.index)"
   ]
  },
  {
   "cell_type": "code",
   "execution_count": null,
   "metadata": {},
   "outputs": [],
   "source": [
    "df = pd.read_html(\"C:/Users/gdevw/바탕 화면/ssac/ssac2/커리큘럼/002. 데이터분석/data/sample.html\")"
   ]
  },
  {
   "cell_type": "code",
   "execution_count": null,
   "metadata": {},
   "outputs": [],
   "source": [
    "print(df)"
   ]
  },
  {
   "cell_type": "code",
   "execution_count": null,
   "metadata": {},
   "outputs": [],
   "source": [
    "for i in range(len(df)):\n",
    "    print(\"tables[%s]\" %i)\n",
    "    print(df[i])\n",
    "    print('\\n')"
   ]
  },
  {
   "cell_type": "code",
   "execution_count": null,
   "metadata": {},
   "outputs": [],
   "source": [
    "df = pd.read_csv(\"C:/Users/gdevw/바탕 화면/ssac/ssac2/커리큘럼/002. 데이터분석/data/auto-mpg.csv\", header=None)\n",
    "df.columns = ['mpg', 'cylinders','displacement','horsepower','weight','accerleration','model year','origin','name']\n",
    "\n",
    "print(df.head())"
   ]
  },
  {
   "cell_type": "code",
   "execution_count": null,
   "metadata": {},
   "outputs": [],
   "source": [
    "print(df.describe()) #기술통계정보 확인\n",
    "# print(df.describe(include='all'))"
   ]
  },
  {
   "cell_type": "code",
   "execution_count": null,
   "metadata": {},
   "outputs": [],
   "source": [
    "print(df.count())\n",
    "print(type(df.count()))"
   ]
  },
  {
   "cell_type": "code",
   "execution_count": null,
   "metadata": {},
   "outputs": [],
   "source": [
    "unique_values = df['origin'].value_counts() #특정 열이 가지고 있는 고유값 확인\n",
    "print(unique_values)\n",
    "print('\\n')\n",
    "\n",
    "print(type(unique_values)) "
   ]
  },
  {
   "cell_type": "code",
   "execution_count": null,
   "metadata": {},
   "outputs": [],
   "source": [
    "print(df.mean())\n",
    "print(df['mpg'].mean())\n",
    "print(df.mpg.mean())\n",
    "print(df[['mpg','weight']].mean())"
   ]
  },
  {
   "cell_type": "code",
   "execution_count": null,
   "metadata": {},
   "outputs": [],
   "source": [
    "print(df[['mpg','weight']].corr())"
   ]
  },
  {
   "cell_type": "code",
   "execution_count": null,
   "metadata": {},
   "outputs": [],
   "source": [
    "titanic = sns.load_dataset('titanic')\n",
    "print(titanic.head())\n",
    "print(titanic.info())"
   ]
  },
  {
   "cell_type": "code",
   "execution_count": null,
   "metadata": {},
   "outputs": [],
   "source": [
    "import matplotlib.pyplot as plt\n",
    "sns.set_style('darkgrid')\n",
    "fig = plt.figure(figsize=(15,5)) #전체 사이즈\n",
    "ax1 = fig.add_subplot(1,2,1) #1의 2열의 첫번째\n",
    "ax2 = fig.add_subplot(1,2,2) #1의 2열의 두번째\n",
    "\n",
    "sns.regplot(x='age', y='fare', data=titanic, ax=ax1)\n",
    "sns.regplot(x='age',y='fare', data=titanic, ax=ax2, fit_reg=False)\n",
    "\n",
    "plt.show()\n"
   ]
  },
  {
   "cell_type": "code",
   "execution_count": null,
   "metadata": {},
   "outputs": [],
   "source": []
  }
 ],
 "metadata": {
  "kernelspec": {
   "display_name": "Python 3.10.4 ('study')",
   "language": "python",
   "name": "python3"
  },
  "language_info": {
   "codemirror_mode": {
    "name": "ipython",
    "version": 3
   },
   "file_extension": ".py",
   "mimetype": "text/x-python",
   "name": "python",
   "nbconvert_exporter": "python",
   "pygments_lexer": "ipython3",
   "version": "3.10.4"
  },
  "orig_nbformat": 4,
  "vscode": {
   "interpreter": {
    "hash": "6db2f3abba949d3272d30621feaf45d6fc6a29eb863b33b0d60c0925d8592697"
   }
  }
 },
 "nbformat": 4,
 "nbformat_minor": 2
}
